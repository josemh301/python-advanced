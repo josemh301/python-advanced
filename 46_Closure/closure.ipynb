{
 "cells": [
  {
   "cell_type": "markdown",
   "metadata": {},
   "source": [
    "# 46_01 Closure\n",
    "\n",
    "In Python, a closure is a programming concept where a nested function remembers the environment in which it was created. This concept is crucial in functional programming and helps provide a way to maintain state in an immutable environment.\n",
    "\n",
    "Here are the key points about closures in Python:\n",
    "\n",
    "1. **Nested Function**: A closure occurs when you have a function nested inside another function, and the inner function references variables from the scope of the outer function.\n",
    "\n",
    "2. **Lexical Scope**: The nested function (closure) remembers the variables from its enclosing scope even after the outer function’s execution is finished.\n",
    "\n",
    "3. **State Preservation**: Closures are often used to preserve a state, allowing nested functions to access variables that were created in their enclosing scope.\n",
    "\n",
    "4. **Encapsulation**: Closures provide a form of encapsulation, hiding variables in a private scope and preventing them from being modified directly from outside the function.\n",
    "\n",
    "### Example of a Closure in Python\n",
    "\n",
    "```python\n",
    "def outer_function(msg):\n",
    "    message = msg\n",
    "\n",
    "    def inner_function():\n",
    "        print(message)\n",
    "\n",
    "    return inner_function\n",
    "\n",
    "my_closure = outer_function(\"Hello, world!\")\n",
    "my_closure()\n",
    "```\n",
    "\n",
    "In this example:\n",
    "\n",
    "- `outer_function` is the outer function.\n",
    "- `inner_function` is the nested function (closure).\n",
    "- `message` is a variable in the scope of `outer_function` that `inner_function` has access to.\n",
    "- When we call `my_closure()`, it executes `inner_function`, which remembers the value of `message` even after `outer_function` has finished executing.\n",
    "\n",
    "Closures are powerful and are used in various situations in Python programming, such as in decorators, functional programming, and event handling."
   ]
  },
  {
   "cell_type": "code",
   "execution_count": 8,
   "metadata": {},
   "outputs": [
    {
     "name": "stdout",
     "output_type": "stream",
     "text": [
      "Result: 7\n"
     ]
    }
   ],
   "source": [
    "def operation(a, b):\n",
    "    # nested function:\n",
    "    def addition():\n",
    "        return a + b\n",
    "    return addition\n",
    "\n",
    "print(f\"Result: {operation(5,2)()}\")"
   ]
  },
  {
   "cell_type": "code",
   "execution_count": 7,
   "metadata": {},
   "outputs": [
    {
     "name": "stdout",
     "output_type": "stream",
     "text": [
      "Result: 6\n"
     ]
    }
   ],
   "source": [
    "def operation(a, b):\n",
    "    # nested function:\n",
    "    def addition():\n",
    "        return a + b\n",
    "    return addition\n",
    "\n",
    "result = operation(4,2)\n",
    "print(f\"Result: {result()}\")"
   ]
  },
  {
   "cell_type": "code",
   "execution_count": null,
   "metadata": {},
   "outputs": [],
   "source": []
  }
 ],
 "metadata": {
  "kernelspec": {
   "display_name": "Python 3",
   "language": "python",
   "name": "python3"
  },
  "language_info": {
   "codemirror_mode": {
    "name": "ipython",
    "version": 3
   },
   "file_extension": ".py",
   "mimetype": "text/x-python",
   "name": "python",
   "nbconvert_exporter": "python",
   "pygments_lexer": "ipython3",
   "version": "3.8.3"
  }
 },
 "nbformat": 4,
 "nbformat_minor": 4
}
