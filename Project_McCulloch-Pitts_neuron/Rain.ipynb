{
 "cells": [
  {
   "cell_type": "code",
   "execution_count": 1,
   "metadata": {},
   "outputs": [],
   "source": [
    "%run Weather.ipynb"
   ]
  },
  {
   "cell_type": "code",
   "execution_count": 2,
   "metadata": {},
   "outputs": [],
   "source": [
    "class Rain(Weather): \n",
    "    \n",
    "    #class methods for weight are automatically inherited from Weather parent class\n",
    "    \n",
    "    def __init__(self, prediction, clouds, wind, high_humidity):\n",
    "        super().__init__(prediction, clouds, wind, high_humidity)\n",
    "        \n",
    "    #Get and set methods defined in the parent class\n",
    "        \n",
    "    def calculate_n(self):\n",
    "        n = (self._prediction * self.prediction_weight) + \\\n",
    "            (self._clouds * self.clouds_weight) + \\\n",
    "            (self._wind * self.wind_weight) + \\\n",
    "            (self._high_humidity * self.high_humidity_weight)\n",
    "        return n\n",
    "    \n",
    "    def calculate_a(self):\n",
    "        n = self.calculate_n()\n",
    "        if n >= self.threshold:\n",
    "            a = 1\n",
    "        else:\n",
    "            a = 0\n",
    "        return a\n",
    "        \n",
    "    def __str__(self):\n",
    "        n = self.calculate_n()  # Calculate n within the __str__ method\n",
    "        a = self.calculate_a()  # Calculate a within the __str__ method\n",
    "        if a == 1:\n",
    "            return f\"Since n is {n} and is equal or above threshold({self.threshold}), a is {a}\"\n",
    "        else:\n",
    "            return f\"Since n is {n} and is below threshold({self.threshold}), a is {a}\""
   ]
  },
  {
   "cell_type": "code",
   "execution_count": 3,
   "metadata": {},
   "outputs": [],
   "source": [
    "rain_neuron01 = Rain(1,1,0,0)\n",
    "rain_neuron02 = Rain(1,0,1,1)\n",
    "rain_neuron03 = Rain(0,1,0,0)\n",
    "rain_neuron04 = Rain(0,0,1,1)"
   ]
  }
 ],
 "metadata": {
  "kernelspec": {
   "display_name": "Python 3",
   "language": "python",
   "name": "python3"
  },
  "language_info": {
   "codemirror_mode": {
    "name": "ipython",
    "version": 3
   },
   "file_extension": ".py",
   "mimetype": "text/x-python",
   "name": "python",
   "nbconvert_exporter": "python",
   "pygments_lexer": "ipython3",
   "version": "3.8.3"
  }
 },
 "nbformat": 4,
 "nbformat_minor": 4
}
