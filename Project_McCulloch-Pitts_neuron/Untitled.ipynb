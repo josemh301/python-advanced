{
 "cells": [
  {
   "cell_type": "code",
   "execution_count": 1,
   "metadata": {},
   "outputs": [],
   "source": [
    "%run Rain.ipynb\n",
    "%run Snow.ipynb"
   ]
  },
  {
   "cell_type": "code",
   "execution_count": 3,
   "metadata": {},
   "outputs": [
    {
     "ename": "TypeError",
     "evalue": "unsupported operand type(s) for +: 'int' and 'Rain'",
     "output_type": "error",
     "traceback": [
      "\u001b[1;31m---------------------------------------------------------------------------\u001b[0m",
      "\u001b[1;31mTypeError\u001b[0m                                 Traceback (most recent call last)",
      "Cell \u001b[1;32mIn[3], line 17\u001b[0m\n\u001b[0;32m     14\u001b[0m snow_neurons \u001b[38;5;241m=\u001b[39m [snow_neuron01, snow_neuron02, snow_neuron03, snow_neuron04]\n\u001b[0;32m     16\u001b[0m umbrella \u001b[38;5;241m=\u001b[39m Umbrella(rain_neurons, snow_neurons)\n\u001b[1;32m---> 17\u001b[0m output \u001b[38;5;241m=\u001b[39m \u001b[43mumbrella\u001b[49m\u001b[38;5;241;43m.\u001b[39;49m\u001b[43mcalculate_output\u001b[49m\u001b[43m(\u001b[49m\u001b[43m)\u001b[49m\n\u001b[0;32m     18\u001b[0m \u001b[38;5;28mprint\u001b[39m(output)\n",
      "Cell \u001b[1;32mIn[3], line 9\u001b[0m, in \u001b[0;36mUmbrella.calculate_output\u001b[1;34m(self)\u001b[0m\n\u001b[0;32m      7\u001b[0m \u001b[38;5;28;01mdef\u001b[39;00m \u001b[38;5;21mcalculate_output\u001b[39m(\u001b[38;5;28mself\u001b[39m):\n\u001b[0;32m      8\u001b[0m     combined_neurons \u001b[38;5;241m=\u001b[39m \u001b[38;5;28mself\u001b[39m\u001b[38;5;241m.\u001b[39mrain_neurons \u001b[38;5;241m+\u001b[39m \u001b[38;5;28mself\u001b[39m\u001b[38;5;241m.\u001b[39msnow_neurons\n\u001b[1;32m----> 9\u001b[0m     total_input \u001b[38;5;241m=\u001b[39m \u001b[38;5;28;43msum\u001b[39;49m\u001b[43m(\u001b[49m\u001b[43mcombined_neurons\u001b[49m\u001b[43m)\u001b[49m\n\u001b[0;32m     10\u001b[0m     \u001b[38;5;28;01mreturn\u001b[39;00m \u001b[38;5;241m1\u001b[39m \u001b[38;5;28;01mif\u001b[39;00m total_input \u001b[38;5;241m>\u001b[39m\u001b[38;5;241m=\u001b[39m \u001b[38;5;28mself\u001b[39m\u001b[38;5;241m.\u001b[39mthreshold \u001b[38;5;28;01melse\u001b[39;00m \u001b[38;5;241m0\u001b[39m\n",
      "\u001b[1;31mTypeError\u001b[0m: unsupported operand type(s) for +: 'int' and 'Rain'"
     ]
    }
   ],
   "source": [
    "class Umbrella:\n",
    "    def __init__(self, rain_neurons, snow_neurons):\n",
    "        self.rain_neurons = rain_neurons\n",
    "        self.snow_neurons = snow_neurons\n",
    "        self.threshold = 0.5  # Define your threshold here\n",
    "\n",
    "    def calculate_output(self):\n",
    "        combined_neurons = self.rain_neurons + self.snow_neurons\n",
    "        total_input = sum(combined_neurons)\n",
    "        return 1 if total_input >= self.threshold else 0\n",
    "\n",
    "# Usage example\n",
    "rain_neurons = [rain_neuron01, rain_neuron02, rain_neuron03, rain_neuron04]\n",
    "snow_neurons = [snow_neuron01, snow_neuron02, snow_neuron03, snow_neuron04]\n",
    "\n",
    "umbrella = Umbrella(rain_neurons, snow_neurons)\n",
    "output = umbrella.calculate_output()\n",
    "print(output)\n",
    "    "
   ]
  },
  {
   "cell_type": "code",
   "execution_count": null,
   "metadata": {},
   "outputs": [],
   "source": []
  }
 ],
 "metadata": {
  "kernelspec": {
   "display_name": "Python 3",
   "language": "python",
   "name": "python3"
  },
  "language_info": {
   "codemirror_mode": {
    "name": "ipython",
    "version": 3
   },
   "file_extension": ".py",
   "mimetype": "text/x-python",
   "name": "python",
   "nbconvert_exporter": "python",
   "pygments_lexer": "ipython3",
   "version": "3.8.3"
  }
 },
 "nbformat": 4,
 "nbformat_minor": 4
}
