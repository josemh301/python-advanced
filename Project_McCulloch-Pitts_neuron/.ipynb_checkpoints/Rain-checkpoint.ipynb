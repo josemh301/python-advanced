{
 "cells": [
  {
   "cell_type": "code",
   "execution_count": 1,
   "metadata": {},
   "outputs": [],
   "source": [
    "class Rain: # RainProbability\n",
    "    prediction_weight = 0.5\n",
    "    clouds_weight = 0.3\n",
    "    wind_weight = 0.1\n",
    "    high_humidity_weight = 0.1\n",
    "    \n",
    "    threshold = 0.75    \n",
    "    \n",
    "    def __init__(self, rain_prediction, clouds, wind, high_humidity):\n",
    "        self._rain_prediction = rain_prediction\n",
    "        self._clouds = clouds\n",
    "        self._wind = wind\n",
    "        self._high_humidity = high_humidity\n",
    "        \n",
    "    @property\n",
    "    def rain_prediction(self):\n",
    "        return self._rain_prediction\n",
    "    \n",
    "    @rain_prediction.setter\n",
    "    def rain_prediction(self, value):\n",
    "        self._rain_prediction = value\n",
    "        \n",
    "    @property\n",
    "    def clouds(self):\n",
    "        return self._clouds\n",
    "    \n",
    "    @clouds.setter\n",
    "    def clouds(self, value):\n",
    "        self._clouds = value\n",
    "        \n",
    "    @property\n",
    "    def wind(self):\n",
    "        return self._wind\n",
    "    \n",
    "    @wind.setter\n",
    "    def wind(self, value):\n",
    "        self._wind = value\n",
    "        \n",
    "    @property\n",
    "    def high_humidity(self):\n",
    "        return self._high_humidity\n",
    "    \n",
    "    @high_humidity.setter\n",
    "    def high_humidity(self, value):\n",
    "        self._high_humidity = value\n",
    "        \n",
    "    def calculate_n(self):\n",
    "        n = (self._rain_prediction * self.prediction_weight) + \\\n",
    "            (self._clouds * self.clouds_weight) + \\\n",
    "            (self._wind * self.wind_weight) + \\\n",
    "            (self._high_humidity * self.high_humidity_weight)\n",
    "        return n\n",
    "    \n",
    "    def calculate_a(self):\n",
    "        n = self.calculate_n()\n",
    "        if n >= self.threshold:\n",
    "            a = 1\n",
    "        else:\n",
    "            a = 0\n",
    "        return a\n",
    "        \n",
    "    def __str__(self):\n",
    "        n = self.calculate_n()  # Calculate n within the __str__ method\n",
    "        a = self.calculate_a()  # Calculate a within the __str__ method\n",
    "        if a == 1:\n",
    "            return f\"Since n is {n} and is equal or above threshold({self.threshold}), a is {a}\"\n",
    "        else:\n",
    "            return f\"Since n is {n} and is below threshold({self.threshold}), a is {a}\""
   ]
  },
  {
   "cell_type": "code",
   "execution_count": 2,
   "metadata": {},
   "outputs": [],
   "source": [
    "rain_neuron01 = Rain(1,1,0,0)\n",
    "rain_neuron02 = Rain(1,0,1,1)\n",
    "rain_neuron03 = Rain(0,1,0,0)\n",
    "rain_neuron04 = Rain(0,0,1,1)"
   ]
  },
  {
   "cell_type": "code",
   "execution_count": 3,
   "metadata": {},
   "outputs": [
    {
     "name": "stdout",
     "output_type": "stream",
     "text": [
      "1\n",
      "0\n",
      "0\n",
      "0\n"
     ]
    }
   ],
   "source": [
    "neurons = [rain_neuron01, rain_neuron02, rain_neuron03, rain_neuron04]\n",
    "for neuron in neurons:\n",
    "    print(neuron.calculate_a())"
   ]
  },
  {
   "cell_type": "code",
   "execution_count": null,
   "metadata": {},
   "outputs": [],
   "source": []
  }
 ],
 "metadata": {
  "kernelspec": {
   "display_name": "Python 3",
   "language": "python",
   "name": "python3"
  },
  "language_info": {
   "codemirror_mode": {
    "name": "ipython",
    "version": 3
   },
   "file_extension": ".py",
   "mimetype": "text/x-python",
   "name": "python",
   "nbconvert_exporter": "python",
   "pygments_lexer": "ipython3",
   "version": "3.8.3"
  }
 },
 "nbformat": 4,
 "nbformat_minor": 4
}
