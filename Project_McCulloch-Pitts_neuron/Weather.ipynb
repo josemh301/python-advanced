{
 "cells": [
  {
   "cell_type": "code",
   "execution_count": 2,
   "metadata": {},
   "outputs": [],
   "source": [
    "class Weather:\n",
    "    prediction_weight = 0.5\n",
    "    clouds_weight = 0.3\n",
    "    wind_weight = 0.1\n",
    "    high_humidity_weight = 0.1\n",
    "    \n",
    "    threshold = 0.75\n",
    "\n",
    "    def __init__(self, prediction, clouds, wind, high_humidity):\n",
    "        self._prediction = prediction\n",
    "        self._clouds = clouds\n",
    "        self._wind = wind\n",
    "        self._high_humidity = high_humidity\n",
    "    \n",
    "    @property\n",
    "    def prediction(self):\n",
    "        return self._prediction\n",
    "    \n",
    "    @prediction.setter\n",
    "    def rain_prediction(self, value):\n",
    "        self._prediction = value\n",
    "        \n",
    "    @property\n",
    "    def clouds(self):\n",
    "        return self._clouds\n",
    "    \n",
    "    @clouds.setter\n",
    "    def clouds(self, value):\n",
    "        self._clouds = value\n",
    "        \n",
    "    @property\n",
    "    def wind(self):\n",
    "        return self._wind\n",
    "    \n",
    "    @wind.setter\n",
    "    def wind(self, value):\n",
    "        self._wind = value\n",
    "        \n",
    "    @property\n",
    "    def high_humidity(self):\n",
    "        return self._high_humidity\n",
    "    \n",
    "    @high_humidity.setter\n",
    "    def high_humidity(self, value):\n",
    "        self._high_humidity = value"
   ]
  }
 ],
 "metadata": {
  "kernelspec": {
   "display_name": "Python 3",
   "language": "python",
   "name": "python3"
  },
  "language_info": {
   "codemirror_mode": {
    "name": "ipython",
    "version": 3
   },
   "file_extension": ".py",
   "mimetype": "text/x-python",
   "name": "python",
   "nbconvert_exporter": "python",
   "pygments_lexer": "ipython3",
   "version": "3.8.3"
  }
 },
 "nbformat": 4,
 "nbformat_minor": 4
}
