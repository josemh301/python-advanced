{
 "cells": [
  {
   "cell_type": "code",
   "execution_count": 9,
   "metadata": {},
   "outputs": [
    {
     "name": "stdout",
     "output_type": "stream",
     "text": [
      "Connected to the database successfully!\n"
     ]
    }
   ],
   "source": [
    "import psycopg2\n",
    "\n",
    "# Replace these variables with your own connection parameters\n",
    "host = \"127.0.0.1\"  # e.g., \"localhost\" or an IP address\n",
    "dbname = \"test_db\"\n",
    "user = \"postgres\"\n",
    "password = \"admin\"\n",
    "port = \"5432\"\n",
    "\n",
    "# Establish a connection to the database\n",
    "try:\n",
    "    conn = psycopg2.connect(\n",
    "        host=host,\n",
    "        dbname=dbname,\n",
    "        user=user,\n",
    "        password=password\n",
    "    )\n",
    "    print(\"Connected to the database successfully!\")\n",
    "except Exception as e:\n",
    "    print(\"Unable to connect to the database:\")\n",
    "    print(e)\n"
   ]
  },
  {
   "cell_type": "code",
   "execution_count": 10,
   "metadata": {},
   "outputs": [
    {
     "name": "stdout",
     "output_type": "stream",
     "text": [
      "<connection object at 0x0000024330A5CE10; dsn: 'user=postgres password=xxx dbname=test_db host=127.0.0.1', closed: 0>\n"
     ]
    }
   ],
   "source": [
    "print(conn)"
   ]
  },
  {
   "cell_type": "code",
   "execution_count": 11,
   "metadata": {},
   "outputs": [
    {
     "name": "stdout",
     "output_type": "stream",
     "text": [
      "(1, 'John', 'McDillan', 'jmcdillan@email.com')\n",
      "(3, 'Mary', 'Rashford', 'mrashford@email.com')\n",
      "(4, 'Andrew', 'Bills', 'abills@email.com')\n"
     ]
    }
   ],
   "source": [
    "#to use SQL here\n",
    "try:\n",
    "    with conn:\n",
    "        with conn.cursor() as cursor: #this will close the cursor autmatically\n",
    "            cursor = conn.cursor()\n",
    "            sentence = \"SELECT * FROM person\"\n",
    "            cursor.execute(sentence)\n",
    "\n",
    "            registers = cursor.fetchall() #type is a list of tuples\n",
    "\n",
    "            for r in registers:\n",
    "                print(r)\n",
    "\n",
    "            #close connection\n",
    "            # cursor.close() not need due to line 3\n",
    "            \n",
    "except Exception as e:\n",
    "    print(\"Error:\", e)\n",
    "\n",
    "#always needed:\n",
    "finally:\n",
    "    conn.close()"
   ]
  },
  {
   "cell_type": "code",
   "execution_count": null,
   "metadata": {},
   "outputs": [],
   "source": []
  }
 ],
 "metadata": {
  "kernelspec": {
   "display_name": "Python 3",
   "language": "python",
   "name": "python3"
  },
  "language_info": {
   "codemirror_mode": {
    "name": "ipython",
    "version": 3
   },
   "file_extension": ".py",
   "mimetype": "text/x-python",
   "name": "python",
   "nbconvert_exporter": "python",
   "pygments_lexer": "ipython3",
   "version": "3.8.3"
  }
 },
 "nbformat": 4,
 "nbformat_minor": 4
}
