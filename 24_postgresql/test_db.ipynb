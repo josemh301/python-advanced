{
 "cells": [
  {
   "cell_type": "code",
   "execution_count": 48,
   "metadata": {},
   "outputs": [
    {
     "name": "stdout",
     "output_type": "stream",
     "text": [
      "Connected to the database successfully!\n"
     ]
    }
   ],
   "source": [
    "import psycopg2\n",
    "\n",
    "# Replace these variables with your own connection parameters\n",
    "host = \"127.0.0.1\"  # e.g., \"localhost\" or an IP address\n",
    "dbname = \"test_db\"\n",
    "user = \"postgres\"\n",
    "password = \"admin\"\n",
    "port = \"5432\"\n",
    "\n",
    "# Establish a connection to the database\n",
    "try:\n",
    "    conn = psycopg2.connect(\n",
    "        host=host,\n",
    "        dbname=dbname,\n",
    "        user=user,\n",
    "        password=password\n",
    "    )\n",
    "    print(\"Connected to the database successfully!\")\n",
    "except Exception as e:\n",
    "    print(\"Unable to connect to the database:\")\n",
    "    print(e)\n"
   ]
  },
  {
   "cell_type": "code",
   "execution_count": 49,
   "metadata": {},
   "outputs": [
    {
     "name": "stdout",
     "output_type": "stream",
     "text": [
      "<connection object at 0x000001197FDFB150; dsn: 'user=postgres password=xxx dbname=test_db host=127.0.0.1', closed: 0>\n"
     ]
    }
   ],
   "source": [
    "print(conn)"
   ]
  },
  {
   "cell_type": "code",
   "execution_count": 50,
   "metadata": {},
   "outputs": [
    {
     "name": "stdout",
     "output_type": "stream",
     "text": [
      "Select ids: 9,10\n",
      "('Margaret', 'Buchanan', 'margaretbuchanan@example.com')\n",
      "('Sophia', 'Moody', 'sophiamoody@example.com')\n"
     ]
    }
   ],
   "source": [
    "#to use SQL here\n",
    "try:\n",
    "    with conn:\n",
    "        with conn.cursor() as cursor: #this will close the cursor autmatically\n",
    "            cursor = conn.cursor()\n",
    "            sentence01 = \"SELECT name, surname, email FROM person WHERE id_person = %s\"\n",
    "            sentence02 = \"SELECT name, surname, email FROM person WHERE id_person IN %s\"\n",
    "            \n",
    "            primary_keys = input(\"Select ids: \") #or ((1,4,3),)\n",
    "            tuple_primary_keys = (tuple(primary_keys.split(\",\")),)\n",
    "\n",
    "            # id_person = input(\"Select id: \")  # use with  sentence01\n",
    "            # cursor.execute(sentence01, (id_person,)) # use with  sentence01\n",
    "            cursor.execute(sentence02, tuple_primary_keys)\n",
    "                           \n",
    "            registers = cursor.fetchall() #type is a list of tuples \n",
    "            register = cursor.fetchone() #use fetchone() too for returning just one row\n",
    "\n",
    "            for r in registers:\n",
    "                print(r)\n",
    "\n",
    "            #close connection\n",
    "            # cursor.close() not need due to line 3\n",
    "            \n",
    "except Exception as e:\n",
    "    print(\"Error:\", e)\n",
    "\n",
    "#always needed:\n",
    "finally:\n",
    "     conn.close()"
   ]
  },
  {
   "cell_type": "code",
   "execution_count": null,
   "metadata": {},
   "outputs": [],
   "source": []
  },
  {
   "cell_type": "code",
   "execution_count": null,
   "metadata": {},
   "outputs": [],
   "source": []
  }
 ],
 "metadata": {
  "kernelspec": {
   "display_name": "Python 3",
   "language": "python",
   "name": "python3"
  },
  "language_info": {
   "codemirror_mode": {
    "name": "ipython",
    "version": 3
   },
   "file_extension": ".py",
   "mimetype": "text/x-python",
   "name": "python",
   "nbconvert_exporter": "python",
   "pygments_lexer": "ipython3",
   "version": "3.8.3"
  }
 },
 "nbformat": 4,
 "nbformat_minor": 4
}
