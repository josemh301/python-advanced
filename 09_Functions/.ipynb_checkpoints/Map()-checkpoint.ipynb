{
 "cells": [
  {
   "cell_type": "markdown",
   "metadata": {},
   "source": [
    "# Map()\n",
    "Apply a function to any element of the argument"
   ]
  },
  {
   "cell_type": "code",
   "execution_count": 18,
   "metadata": {},
   "outputs": [
    {
     "name": "stdout",
     "output_type": "stream",
     "text": [
      "<map object at 0x0000023AFF3EE280>\n",
      "['Hi John', 'Hi Mary', 'Hi Peter']\n"
     ]
    }
   ],
   "source": [
    "names = [\"John\", \"Mary\", \"Peter\"]\n",
    "def salute(name):\n",
    "    return \"Hi \" + name\n",
    "\n",
    "result = map(salute, names) #first the function, then the list\n",
    "print(result)\n",
    "salutes = list(result)\n",
    "print(salutes)"
   ]
  },
  {
   "cell_type": "code",
   "execution_count": null,
   "metadata": {},
   "outputs": [],
   "source": []
  }
 ],
 "metadata": {
  "kernelspec": {
   "display_name": "Python 3",
   "language": "python",
   "name": "python3"
  },
  "language_info": {
   "codemirror_mode": {
    "name": "ipython",
    "version": 3
   },
   "file_extension": ".py",
   "mimetype": "text/x-python",
   "name": "python",
   "nbconvert_exporter": "python",
   "pygments_lexer": "ipython3",
   "version": "3.8.3"
  }
 },
 "nbformat": 4,
 "nbformat_minor": 4
}
