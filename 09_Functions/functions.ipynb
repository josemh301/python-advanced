{
 "cells": [
  {
   "cell_type": "markdown",
   "metadata": {},
   "source": [
    "# 09 Functions"
   ]
  },
  {
   "cell_type": "code",
   "execution_count": 9,
   "metadata": {},
   "outputs": [
    {
     "name": "stdout",
     "output_type": "stream",
     "text": [
      "Printing function\n"
     ]
    }
   ],
   "source": [
    "def my_function():\n",
    "    print(\"Printing function\")\n",
    "\n",
    "my_function()"
   ]
  },
  {
   "cell_type": "code",
   "execution_count": 7,
   "metadata": {},
   "outputs": [
    {
     "name": "stdout",
     "output_type": "stream",
     "text": [
      "Hello Josh McDillan!\n",
      "Hello Josh Shakespeare!\n"
     ]
    }
   ],
   "source": [
    "#With arguments\n",
    "\n",
    "def my_function(name, surname=\"Shakespeare\"): #parameters\n",
    "    print(f\"Hello {name} {surname}!\")\n",
    "\n",
    "my_function(\"Josh\", \"McDillan\") #arguments\n",
    "my_function(\"Josh\")"
   ]
  },
  {
   "cell_type": "code",
   "execution_count": 8,
   "metadata": {},
   "outputs": [
    {
     "name": "stdout",
     "output_type": "stream",
     "text": [
      "Price after tax: 121.0\n"
     ]
    }
   ],
   "source": [
    "#default values\n",
    "def vat_function(price, vat=21) -> float: #-> float is a clue, does not have an impact in the code. Not necessary\n",
    "    return price + (price * vat / 100)\n",
    "\n",
    "price = 100\n",
    "\n",
    "print(f\"Price after tax: {vat_function(price)}\")"
   ]
  },
  {
   "cell_type": "markdown",
   "metadata": {},
   "source": [
    "### Variable arguments"
   ]
  },
  {
   "cell_type": "code",
   "execution_count": 12,
   "metadata": {},
   "outputs": [
    {
     "name": "stdout",
     "output_type": "stream",
     "text": [
      "\n",
      "New list:\n",
      " - Jhon\n",
      " - Grace\n",
      " - Martin\n",
      " - William\n",
      " - Francis\n",
      "\n",
      "New list:\n",
      " - Laura\n",
      " - Grace\n",
      " - Charles\n"
     ]
    }
   ],
   "source": [
    "def listing_names(*names): #this will be turned into a tuple\n",
    "    print(\"\\nNew list:\")\n",
    "    for name in names:\n",
    "        print(f\" - {name}\")\n",
    " \n",
    "listing_names(\"Jhon\", \"Grace\", \"Martin\", \"William\", \"Francis\")\n",
    "listing_names(\"Laura\", \"Grace\", \"Charles\")"
   ]
  },
  {
   "cell_type": "markdown",
   "metadata": {},
   "source": [
    "### Variable arguments key-value"
   ]
  },
  {
   "cell_type": "code",
   "execution_count": 19,
   "metadata": {},
   "outputs": [
    {
     "name": "stdout",
     "output_type": "stream",
     "text": [
      " The word 'house' means: 'Where people live'\n",
      " The word 'cat' means: 'Small four-legged animal'\n",
      " The word 'I' means: 'Myself'\n"
     ]
    }
   ],
   "source": [
    "def key_value_arguments(**terms): #kwargs\n",
    "    for key, value in terms.items():\n",
    "        print(f\" The word '{key}' means: '{value}'\")\n",
    "        \n",
    "key_value_arguments(house = \"Where people live\",\n",
    "                   cat = \"Small four-legged animal\",\n",
    "                   I = \"Myself\")"
   ]
  },
  {
   "cell_type": "code",
   "execution_count": null,
   "metadata": {},
   "outputs": [],
   "source": []
  }
 ],
 "metadata": {
  "kernelspec": {
   "display_name": "Python 3",
   "language": "python",
   "name": "python3"
  },
  "language_info": {
   "codemirror_mode": {
    "name": "ipython",
    "version": 3
   },
   "file_extension": ".py",
   "mimetype": "text/x-python",
   "name": "python",
   "nbconvert_exporter": "python",
   "pygments_lexer": "ipython3",
   "version": "3.8.3"
  }
 },
 "nbformat": 4,
 "nbformat_minor": 4
}
