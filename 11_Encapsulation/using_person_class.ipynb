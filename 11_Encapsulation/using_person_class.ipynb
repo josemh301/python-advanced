{
 "cells": [
  {
   "cell_type": "code",
   "execution_count": 11,
   "metadata": {},
   "outputs": [],
   "source": [
    "from get_set import Person"
   ]
  },
  {
   "cell_type": "code",
   "execution_count": 12,
   "metadata": {},
   "outputs": [
    {
     "name": "stdout",
     "output_type": "stream",
     "text": [
      "Name: Anthony Martins - Age: 58\n",
      "\n"
     ]
    }
   ],
   "source": [
    "person05 = Person(\"Anthony\", \"Martins\", 58)\n",
    "person05.printing()"
   ]
  },
  {
   "cell_type": "code",
   "execution_count": 13,
   "metadata": {},
   "outputs": [
    {
     "name": "stdout",
     "output_type": "stream",
     "text": [
      "Name: Lewis Rusell - Age: 23\n",
      "\n"
     ]
    }
   ],
   "source": [
    "person06 = Person(\"Lewis\", \"Rusell\", 23)\n",
    "person06.printing()"
   ]
  },
  {
   "cell_type": "code",
   "execution_count": 16,
   "metadata": {},
   "outputs": [
    {
     "name": "stdout",
     "output_type": "stream",
     "text": [
      "-----------------Object creation------------------\n",
      "Name: Roger Federer - Age: 41\n",
      "\n",
      "------------------Delete object-------------------\n",
      "You have deleted object Roger\n"
     ]
    }
   ],
   "source": [
    "#destructor\n",
    "#a method that destroys objects\n",
    "\n",
    "#object creation\n",
    "print(\"Object creation\".center(50, \"-\"))\n",
    "person07 = Person(\"Roger\", \"Federer\", 41)\n",
    "person07.printing()\n",
    "\n",
    "#delete object\n",
    "print(\"Delete object\".center(50, \"-\"))\n",
    "del person07"
   ]
  },
  {
   "cell_type": "code",
   "execution_count": null,
   "metadata": {},
   "outputs": [],
   "source": []
  }
 ],
 "metadata": {
  "kernelspec": {
   "display_name": "Python 3",
   "language": "python",
   "name": "python3"
  },
  "language_info": {
   "codemirror_mode": {
    "name": "ipython",
    "version": 3
   },
   "file_extension": ".py",
   "mimetype": "text/x-python",
   "name": "python",
   "nbconvert_exporter": "python",
   "pygments_lexer": "ipython3",
   "version": "3.8.3"
  }
 },
 "nbformat": 4,
 "nbformat_minor": 4
}
