{
 "cells": [
  {
   "cell_type": "markdown",
   "metadata": {},
   "source": [
    "## 11 Encapsulation \n",
    "In Python, as well as in many other object-oriented programming languages, **Encapsulation** is a fundamental concept related to the organization and protection of data within a class. It involves bundling the data (attributes) and the methods (functions) that operate on that data into a single unit called a class. This class serves as a blueprint for creating objects (instances) that can access and manipulate the data in a controlled manner.\n",
    "\n",
    "In English, encapsulation can be understood as a way to:\n",
    "\n",
    "1. **Hide Complexity**: It allows you to hide the internal details of how a class works and only expose a well-defined interface. Users of the class do not need to know how the data is stored or how the methods are implemented; they only need to interact with the class through its public methods and attributes.\n",
    "\n",
    "2. **Data Protection**: Encapsulation provides a level of security and protection for the data stored within a class. By defining data as private or protected (using naming conventions like `_variable` or `__variable`), you control how data can be accessed and modified from outside the class. This prevents unauthorized changes and ensures data integrity.\n",
    "\n",
    "3. **Code Organization**: Encapsulation helps in organizing code by grouping related data and behavior together within a class. This promotes code maintainability and readability.\n",
    "\n",
    "4. **Flexibility**: It allows you to change the internal implementation of a class without affecting the external code that uses it. As long as the public interface remains consistent, you can modify the internal details as needed.\n",
    "\n",
    "In Python, encapsulation is achieved through conventions and mechanisms such as:\n",
    "\n",
    "- Prefixing attribute names with underscores (e.g., `_variable`) to indicate that they are intended to be private or protected.\n",
    "- Using getter and setter methods to control access to attributes, allowing validation and additional logic.\n",
    "- Utilizing property decorators to create computed properties with customized behavior.\n",
    "- Employing dunder methods like `__init__`, `__str__`, and `__repr__` to define how objects of the class behave when printed or converted to strings.\n",
    "\n",
    "Overall, encapsulation helps in creating modular and maintainable code by encapsulating data and behavior within classes and providing controlled access to them."
   ]
  },
  {
   "cell_type": "code",
   "execution_count": null,
   "metadata": {},
   "outputs": [],
   "source": [
    "#Regular encapsulation_\n",
    "class Person:\n",
    "    def __init__(self, name, surname, age):\n",
    "        self._name = name #to encapsulate and protect it, add _ before name\n",
    "                          #this means it should not be accesible from outside the class, or being modified\n",
    "                          #it is possible to do it, but not recommended at all\n",
    "        self._surname = surname\n",
    "        self._age = age       "
   ]
  },
  {
   "cell_type": "code",
   "execution_count": 3,
   "metadata": {},
   "outputs": [
    {
     "ename": "AttributeError",
     "evalue": "'Person' object has no attribute 'name'",
     "output_type": "error",
     "traceback": [
      "\u001b[1;31m---------------------------------------------------------------------------\u001b[0m",
      "\u001b[1;31mAttributeError\u001b[0m                            Traceback (most recent call last)",
      "Cell \u001b[1;32mIn[3], line 10\u001b[0m\n\u001b[0;32m      7\u001b[0m         \u001b[38;5;28mself\u001b[39m\u001b[38;5;241m.\u001b[39m_age \u001b[38;5;241m=\u001b[39m age\n\u001b[0;32m      9\u001b[0m person05 \u001b[38;5;241m=\u001b[39m Person(\u001b[38;5;124m\"\u001b[39m\u001b[38;5;124mMathew\u001b[39m\u001b[38;5;124m\"\u001b[39m, \u001b[38;5;124m\"\u001b[39m\u001b[38;5;124mKings\u001b[39m\u001b[38;5;124m\"\u001b[39m, \u001b[38;5;241m42\u001b[39m)\n\u001b[1;32m---> 10\u001b[0m \u001b[38;5;28mprint\u001b[39m(\u001b[43mperson05\u001b[49m\u001b[38;5;241;43m.\u001b[39;49m\u001b[43mname\u001b[49m, person05\u001b[38;5;241m.\u001b[39m_surname, person01\u001b[38;5;241m.\u001b[39m_age)\n",
      "\u001b[1;31mAttributeError\u001b[0m: 'Person' object has no attribute 'name'"
     ]
    }
   ],
   "source": [
    "#__\n",
    "#this wont work\n",
    "class Person:\n",
    "    def __init__(self, name, surname, age):\n",
    "        self.__name = name #to encapsulate and protect it even more, add it double __ before name\n",
    "                           #this is less usual than just one _\n",
    "                           #now it is imposible to modify the attribute from outside \n",
    "        self._surname = surname\n",
    "        self._age = age\n",
    "        \n",
    "person05 = Person(\"Mathew\", \"Kings\", 42)\n",
    "print(person05.__name, person05._surname, person01._age)"
   ]
  },
  {
   "cell_type": "code",
   "execution_count": null,
   "metadata": {},
   "outputs": [],
   "source": []
  }
 ],
 "metadata": {
  "kernelspec": {
   "display_name": "Python 3",
   "language": "python",
   "name": "python3"
  },
  "language_info": {
   "codemirror_mode": {
    "name": "ipython",
    "version": 3
   },
   "file_extension": ".py",
   "mimetype": "text/x-python",
   "name": "python",
   "nbconvert_exporter": "python",
   "pygments_lexer": "ipython3",
   "version": "3.8.3"
  }
 },
 "nbformat": 4,
 "nbformat_minor": 4
}
