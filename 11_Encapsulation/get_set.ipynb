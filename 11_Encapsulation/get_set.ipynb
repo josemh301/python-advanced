{
 "cells": [
  {
   "cell_type": "markdown",
   "metadata": {},
   "source": [
    "# 11_02 Get and Set methods in encapsulation"
   ]
  },
  {
   "cell_type": "code",
   "execution_count": 2,
   "metadata": {},
   "outputs": [
    {
     "name": "stdout",
     "output_type": "stream",
     "text": [
      "Name: John Wrights\n",
      "Age: 34\n"
     ]
    }
   ],
   "source": [
    "class Person:\n",
    "    def __init__(self, name, surname, age):\n",
    "        self._name = name\n",
    "        self._surname = surname\n",
    "        self._age = age\n",
    "        \n",
    "    #methods\n",
    "    \n",
    "person01 = Person(\"John\", \"Wrights\", 34)\n",
    "print(f\"Name: {person01._name} {person01._surname}\\nAge: {person01._age}\") #We shouldn't access encasulation from outside the class"
   ]
  },
  {
   "cell_type": "code",
   "execution_count": 10,
   "metadata": {},
   "outputs": [
    {
     "name": "stdout",
     "output_type": "stream",
     "text": [
      "Calling Set method\n",
      "Calling Get method\n",
      "Name: Mathew Wrights - Age: 34\n"
     ]
    }
   ],
   "source": [
    "#Get\n",
    "\n",
    "class Person:\n",
    "    def __init__(self, name, surname, age):\n",
    "        self._name = name\n",
    "        self._surname = surname\n",
    "        self._age = age\n",
    "        \n",
    "    #methods\n",
    "    #get\n",
    "    #add a decorator so we don't directly access the encapsulated attributes _attribute in __init__\n",
    "    @property #this is a decorator that makes imposible to access the _attribute directly from outside the class\n",
    "    def name(self):\n",
    "        print(\"Calling Get method\")\n",
    "        return self._name\n",
    "    \n",
    "    #set method\n",
    "    @name.setter\n",
    "    def name(self, name):\n",
    "        print(\"Calling Set method\")\n",
    "        self._name = name\n",
    "    \n",
    "person01 = Person(\"John\", \"Wrights\", 34)\n",
    "person01.name = \"Mathew\"\n",
    "print(f\"Name: {person01.name} {person01._surname} - Age: {person01._age}\") #We shouldn't access encasulation from outside the class\n"
   ]
  },
  {
   "cell_type": "code",
   "execution_count": null,
   "metadata": {},
   "outputs": [],
   "source": []
  }
 ],
 "metadata": {
  "kernelspec": {
   "display_name": "Python 3",
   "language": "python",
   "name": "python3"
  },
  "language_info": {
   "codemirror_mode": {
    "name": "ipython",
    "version": 3
   },
   "file_extension": ".py",
   "mimetype": "text/x-python",
   "name": "python",
   "nbconvert_exporter": "python",
   "pygments_lexer": "ipython3",
   "version": "3.8.3"
  }
 },
 "nbformat": 4,
 "nbformat_minor": 4
}
