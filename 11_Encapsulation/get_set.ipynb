{
 "cells": [
  {
   "cell_type": "markdown",
   "metadata": {},
   "source": [
    "# 11_02 Get and Set methods in encapsulation"
   ]
  },
  {
   "cell_type": "code",
   "execution_count": 1,
   "metadata": {},
   "outputs": [],
   "source": [
    "class Person:\n",
    "    def __init__(self, name, surname, age):\n",
    "        self._name = name\n",
    "        self._surname = surname\n",
    "        self._age = age\n",
    "        \n",
    "    #methods\n",
    "    \n",
    "# person01 = Person(\"John\", \"Wrights\", 34)\n",
    "# print(f\"Name: {person01._name} {person01._surname}\\nAge: {person01._age}\") #We shouldn't access encasulation from outside the class"
   ]
  },
  {
   "cell_type": "code",
   "execution_count": 4,
   "metadata": {},
   "outputs": [],
   "source": [
    "#Get and set\n",
    "\n",
    "class Person:\n",
    "    def __init__(self, name, surname, age):\n",
    "        self._name = name\n",
    "        self._surname = surname\n",
    "        self._age = age\n",
    "        \n",
    "    #methods\n",
    "    #get\n",
    "    #add a decorator so we don't directly access the encapsulated attributes _attribute in __init__\n",
    "    @property #this is a decorator that makes imposible to access the _attribute directly from outside the class\n",
    "    def name(self):\n",
    "        print(\"Calling Get method\")\n",
    "        return self._name\n",
    "    \n",
    "    #set method\n",
    "    #only to modify the value of the attribute\n",
    "    #can be deleted if you don't want to modify the attribute value from outside the class\n",
    "    #without this, it is known as only-read code\n",
    "    @name.setter\n",
    "    def name(self, name):\n",
    "        print(\"Calling Set method\")\n",
    "        self._name = name\n",
    "    \n",
    "# person01 = Person(\"John\", \"Wrights\", 34)\n",
    "# person01.name = \"Mathew\"\n",
    "# print(f\"Name: {person01.name} {person01._surname} - Age: {person01._age}\") #We shouldn't access encasulation from outside the class\n"
   ]
  },
  {
   "cell_type": "code",
   "execution_count": 5,
   "metadata": {},
   "outputs": [],
   "source": [
    "#Get and set for the rest of the attributes\n",
    "\n",
    "class Person:\n",
    "    def __init__(self, name, surname, age):\n",
    "        self._name = name\n",
    "        self._surname = surname\n",
    "        self._age = age\n",
    "        \n",
    "    #methods\n",
    "    \n",
    "    #get method for name\n",
    "    @property\n",
    "    def name(self):\n",
    "        print(\"Calling Get method for name\")\n",
    "        return self._name\n",
    "    \n",
    "    #set method for name\n",
    "    @name.setter\n",
    "    def name(self, name):\n",
    "        print(\"Calling Set method for name\")\n",
    "        self._name = name\n",
    "        \n",
    "    #get method for surname\n",
    "    @property\n",
    "    def surname(self):\n",
    "        print(\"Calling Get method for surname\")\n",
    "        return self._surname\n",
    "    \n",
    "    #set method for surname\n",
    "    @surname.setter\n",
    "    def surname(self, surname):\n",
    "        print(\"Calling Set method for surname\")\n",
    "        self._surname = surname\n",
    "        \n",
    "    #get method for age\n",
    "    @property\n",
    "    def age(self):\n",
    "        print(\"Calling Get method for age\")\n",
    "        return self._age\n",
    "    \n",
    "    #set method for age\n",
    "    @age.setter\n",
    "    def age(self, age):\n",
    "        print(\"Calling Set method for age\")\n",
    "        self._age = age\n",
    "        \n",
    "    #printing method\n",
    "    def printing(self):\n",
    "        print(f\"Name: {self._name} {self._surname} - Age: {self._age}\\n\") #We shouldn't access encasulation from outside the class\n",
    "\n",
    "    def __del__(self):\n",
    "        print(f\"You have deleted object {self._name} {self._surname} object\")"
   ]
  },
  {
   "cell_type": "code",
   "execution_count": 6,
   "metadata": {},
   "outputs": [],
   "source": [
    "# person02 = Person(\"Mary\", \"Shelly\", 34)\n",
    "\n",
    "# person02.printing()\n",
    "# person02.name = \"Kathy\"\n",
    "# person02.printing()\n",
    "# person02.age = 29\n",
    "# person02.printing()"
   ]
  },
  {
   "cell_type": "markdown",
   "metadata": {},
   "source": [
    "**Note:** run ``jupyter nbconvert --to script ./get_set.ipynb`` in the terminal (same directory) to transform this file into a ``.py`` file so it can be imported as a module in other Notebooks. ``%run get_set.ipynb`` might also work if added at the top of the other Notebook, but not recommended"
   ]
  },
  {
   "cell_type": "code",
   "execution_count": null,
   "metadata": {},
   "outputs": [],
   "source": []
  }
 ],
 "metadata": {
  "kernelspec": {
   "display_name": "Python 3",
   "language": "python",
   "name": "python3"
  },
  "language_info": {
   "codemirror_mode": {
    "name": "ipython",
    "version": 3
   },
   "file_extension": ".py",
   "mimetype": "text/x-python",
   "name": "python",
   "nbconvert_exporter": "python",
   "pygments_lexer": "ipython3",
   "version": "3.8.3"
  }
 },
 "nbformat": 4,
 "nbformat_minor": 4
}
