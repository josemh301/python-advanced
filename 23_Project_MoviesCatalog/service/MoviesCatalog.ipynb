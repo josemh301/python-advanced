{
 "cells": [
  {
   "cell_type": "code",
   "execution_count": 1,
   "metadata": {},
   "outputs": [],
   "source": [
    "import os"
   ]
  },
  {
   "cell_type": "code",
   "execution_count": 2,
   "metadata": {},
   "outputs": [],
   "source": [
    "class MoviesCatalog:\n",
    "    \n",
    "    file_path = \"movies.txt\"\n",
    "        \n",
    "    @classmethod    \n",
    "    def add_movie(cls, movie):\n",
    "        with open(cls.file_path, \"a\", encoding=\"utf8\") as file:\n",
    "            file.write(f\"{movie.name}\\n\")\n",
    "    \n",
    "    @classmethod \n",
    "    def list_movies(cls):\n",
    "        with open(cls.file_path, \"r\", encoding=\"utf8\") as file:\n",
    "            print(\"Catalog\".center(50,\"-\"))\n",
    "            print(file.read())\n",
    "    \n",
    "    @classmethod\n",
    "    def delete_movies(cls):\n",
    "        os.remove(cls.file_path)\n",
    "        print(f\"File deleted: {cls.file_path}\")"
   ]
  },
  {
   "cell_type": "code",
   "execution_count": null,
   "metadata": {},
   "outputs": [],
   "source": []
  }
 ],
 "metadata": {
  "kernelspec": {
   "display_name": "Python 3",
   "language": "python",
   "name": "python3"
  },
  "language_info": {
   "codemirror_mode": {
    "name": "ipython",
    "version": 3
   },
   "file_extension": ".py",
   "mimetype": "text/x-python",
   "name": "python",
   "nbconvert_exporter": "python",
   "pygments_lexer": "ipython3",
   "version": "3.8.3"
  }
 },
 "nbformat": 4,
 "nbformat_minor": 4
}
