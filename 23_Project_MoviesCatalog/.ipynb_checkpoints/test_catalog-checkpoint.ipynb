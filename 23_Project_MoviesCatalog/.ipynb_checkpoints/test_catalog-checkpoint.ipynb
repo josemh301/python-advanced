{
 "cells": [
  {
   "cell_type": "code",
   "execution_count": null,
   "metadata": {},
   "outputs": [],
   "source": [
    "%run domain/Movie.ipynb\n",
    "%run service/MoviesCatalog.ipynb"
   ]
  },
  {
   "cell_type": "code",
   "execution_count": null,
   "metadata": {},
   "outputs": [
    {
     "name": "stdout",
     "output_type": "stream",
     "text": [
      "\n",
      "Options:\n",
      "1. Add movie\n",
      "2. List movies\n",
      "3. Delete catalo\n",
      "Exit\n",
      "\n",
      "Choose an option: 1\n",
      "Movie name: Avatar\n",
      "\n",
      "Options:\n",
      "1. Add movie\n",
      "2. List movies\n",
      "3. Delete catalo\n",
      "Exit\n",
      "\n",
      "Choose an option: 2\n",
      "\n",
      "Error: list_movies() missing 1 required positional argument: 'movie'\n",
      "\n",
      "Options:\n",
      "1. Add movie\n",
      "2. List movies\n",
      "3. Delete catalo\n",
      "Exit\n",
      "\n",
      "Choose an option: 2\n",
      "\n",
      "Error: list_movies() missing 1 required positional argument: 'movie'\n",
      "\n",
      "Options:\n",
      "1. Add movie\n",
      "2. List movies\n",
      "3. Delete catalo\n",
      "Exit\n",
      "\n",
      "Choose an option: 3\n",
      "\n",
      "Error: delete_movie() missing 1 required positional argument: 'movie'\n",
      "\n",
      "Options:\n",
      "1. Add movie\n",
      "2. List movies\n",
      "3. Delete catalo\n",
      "Exit\n"
     ]
    }
   ],
   "source": [
    "option = None\n",
    "\n",
    "while option != 4:\n",
    "    try:\n",
    "        print(\"\\nOptions:\")\n",
    "        print(\"1. Add movie\")\n",
    "        print(\"2. List movies\")\n",
    "        print(\"3. Delete catalo\")\n",
    "        print(\"4. Exit\")\n",
    "\n",
    "        option = int(input(\"\\nChoose an option: \"))\n",
    "        \n",
    "        if option == 1: #add movie\n",
    "            movie_name = input(\"Movie name: \")\n",
    "            movie = Movie(movie_name)\n",
    "            MoviesCatalog.add_movie(movie)\n",
    "        \n",
    "        elif option == 2:\n",
    "            MoviesCatalog.list_movies()\n",
    "        \n",
    "        elif option == 3:\n",
    "            MoviesCatalog.delete_movies()\n",
    "        \n",
    "    except Exception as e:\n",
    "        print(f\"\\nError: {e}\")\n",
    "        option = None\n",
    "else:\n",
    "    print(\"\\nExit program\")"
   ]
  },
  {
   "cell_type": "code",
   "execution_count": null,
   "metadata": {},
   "outputs": [],
   "source": []
  }
 ],
 "metadata": {
  "kernelspec": {
   "display_name": "Python 3",
   "language": "python",
   "name": "python3"
  },
  "language_info": {
   "codemirror_mode": {
    "name": "ipython",
    "version": 3
   },
   "file_extension": ".py",
   "mimetype": "text/x-python",
   "name": "python",
   "nbconvert_exporter": "python",
   "pygments_lexer": "ipython3",
   "version": "3.8.3"
  }
 },
 "nbformat": 4,
 "nbformat_minor": 4
}
