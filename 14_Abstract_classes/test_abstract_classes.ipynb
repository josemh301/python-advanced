{
 "cells": [
  {
   "cell_type": "markdown",
   "metadata": {},
   "source": [
    "# 14_Abstract classes\n",
    "\n",
    "Abstract classes in Python are a way to define a class that cannot be instantiated on its own, but instead serves as a blueprint for other classes. These classes are defined using the `ABC` (Abstract Base Class) module from the Python standard library. Abstract classes are particularly useful when you have a set of methods that you want to ensure are implemented in any subclass derived from the abstract class.\n",
    "\n",
    "Key features of abstract classes in Python include:\n",
    "\n",
    "1. **Cannot be instantiated**: Abstract classes cannot be used to create objects directly. They are designed to be subclassed, and their abstract methods must be implemented in the subclass.\n",
    "\n",
    "2. **Abstract methods**: These are methods declared in the abstract class with the `@abstractmethod` decorator, and they have no implementation in the abstract class itself. Subclasses are required to provide an implementation for these methods. If a subclass does not implement all the abstract methods, it too becomes an abstract class and cannot be instantiated.\n",
    "\n",
    "3. **Use of `abc` module**: To create an abstract class, you typically inherit from `ABC` class from the `abc` module.\n",
    "\n",
    "Here's a simple example to illustrate an abstract class in Python:\n",
    "\n",
    "```python\n",
    "from abc import ABC, abstractmethod\n",
    "\n",
    "class AbstractShape(ABC):\n",
    "    @abstractmethod\n",
    "    def area(self):\n",
    "        pass\n",
    "\n",
    "    @abstractmethod\n",
    "    def perimeter(self):\n",
    "        pass\n",
    "\n",
    "class Rectangle(AbstractShape):\n",
    "    def __init__(self, width, height):\n",
    "        self.width = width\n",
    "        self.height = height\n",
    "\n",
    "    def area(self):\n",
    "        return self.width * self.height\n",
    "\n",
    "    def perimeter(self):\n",
    "        return 2 * (self.width + self.height)\n",
    "\n",
    "# shape = AbstractShape()  # This will raise an error, as AbstractShape cannot be instantiated\n",
    "rectangle = Rectangle(3, 4)\n",
    "print(rectangle.area())  # Outputs: 12\n",
    "print(rectangle.perimeter())  # Outputs: 14\n",
    "```\n",
    "\n",
    "In this example, `AbstractShape` is an abstract class with abstract methods `area` and `perimeter`. The `Rectangle` class inherits from `AbstractShape` and provides specific implementations for these methods. The abstract class ensures that each subclass has its own implementations of `area` and `perimeter`."
   ]
  },
  {
   "cell_type": "code",
   "execution_count": 4,
   "metadata": {},
   "outputs": [],
   "source": [
    "%run abstract_subclasses.ipynb"
   ]
  },
  {
   "cell_type": "code",
   "execution_count": 5,
   "metadata": {},
   "outputs": [
    {
     "name": "stdout",
     "output_type": "stream",
     "text": [
      "Your figure is width 10 x height 10. The color is yellow. The area is 100.\n"
     ]
    }
   ],
   "source": [
    "square01 = Square(10, \"Yellow\")\n",
    "print(square01)"
   ]
  },
  {
   "cell_type": "markdown",
   "metadata": {},
   "source": [
    "The term \"MRO\" stands for Method Resolution Order. It's a concept used in object-oriented programming to establish the order in which methods should be inherited in the presence of multiple inheritance, i.e., when a class is derived from more than one base class.\n",
    "\n",
    "Python uses a specific algorithm called C3 Linearization to determine the MRO. This algorithm provides a consistent and predictable order to resolve method calls, especially when a method is overridden in multiple base classes. Here's how it works:\n",
    "\n",
    "1. **Subclasses precede their base classes**: In the MRO, a class always appears before its base classes.\n",
    "\n",
    "2. **Base class order is preserved**: The order of base classes as specified in the class definition is preserved in the MRO.\n",
    "\n",
    "3. **First two rules are applied recursively**: To construct the MRO of a class, Python starts with the class itself and then applies these rules recursively to include the base classes.\n",
    "\n",
    "You can view the MRO of a class in Python by using the `.__mro__` attribute or the `mro()` method on the class. Here’s a simple example:\n",
    "\n",
    "```python\n",
    "class A:\n",
    "    pass\n",
    "\n",
    "class B(A):\n",
    "    pass\n",
    "\n",
    "class C(A):\n",
    "    pass\n",
    "\n",
    "class D(B, C):\n",
    "    pass\n",
    "\n",
    "# Using the __mro__ attribute\n",
    "print(D.__mro__)\n",
    "\n",
    "# Using the mro() method\n",
    "print(D.mro())\n",
    "```\n",
    "\n",
    "This will output the MRO for class `D`, showing the order in which Python will look for methods if they are called on an instance of `D`."
   ]
  },
  {
   "cell_type": "code",
   "execution_count": 6,
   "metadata": {},
   "outputs": [
    {
     "name": "stdout",
     "output_type": "stream",
     "text": [
      "[<class '__main__.Square'>, <class '__main__.GeometricFigure'>, <class 'abc.ABC'>, <class '__main__.Color'>, <class 'object'>]\n"
     ]
    }
   ],
   "source": [
    "print(Square.mro())"
   ]
  },
  {
   "cell_type": "markdown",
   "metadata": {},
   "source": [
    "`<class 'abc.ABC'>` goes after `GeometricFigure` since that classes inherits from ABC"
   ]
  },
  {
   "cell_type": "code",
   "execution_count": null,
   "metadata": {},
   "outputs": [],
   "source": []
  }
 ],
 "metadata": {
  "kernelspec": {
   "display_name": "Python 3",
   "language": "python",
   "name": "python3"
  },
  "language_info": {
   "codemirror_mode": {
    "name": "ipython",
    "version": 3
   },
   "file_extension": ".py",
   "mimetype": "text/x-python",
   "name": "python",
   "nbconvert_exporter": "python",
   "pygments_lexer": "ipython3",
   "version": "3.8.3"
  }
 },
 "nbformat": 4,
 "nbformat_minor": 4
}
