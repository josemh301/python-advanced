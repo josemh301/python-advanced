{
 "cells": [
  {
   "cell_type": "code",
   "execution_count": 1,
   "metadata": {},
   "outputs": [],
   "source": [
    "from abc import ABC, abstractmethod # Abstract Base Class\n",
    "\n",
    "class GeometricFigure(ABC):\n",
    "    def __init__(self, width, height):\n",
    "        \n",
    "        if self._value_validation(width):\n",
    "            self._width = width\n",
    "        else:\n",
    "            self._width = 1\n",
    "            print(\"Wrong width value\")\n",
    "            \n",
    "        if self._value_validation(height):\n",
    "            self._height = height\n",
    "        else:\n",
    "            self._height = 1\n",
    "            print(\"Wrong height value\")\n",
    "    \n",
    "    @property\n",
    "    def width(self):\n",
    "        return self._width\n",
    "    \n",
    "    @width.setter\n",
    "    def width(self, width):\n",
    "        self._width = width\n",
    "        \n",
    "    @property\n",
    "    def height(self):\n",
    "        return self._height\n",
    "    \n",
    "    @height.setter\n",
    "    def height(self, height):\n",
    "        self._height = height\n",
    "    \n",
    "    #abstract method\n",
    "    @abstractmethod\n",
    "    def calculate_area(self):\n",
    "        pass #this indicates that the subclasses need to difine the calculate_area method\n",
    "             #now you cannot create an object from GeometricFigure class\n",
    "    \n",
    "    def __str__(self):\n",
    "        return f\"Your figure is width {self._width} x height {self._height}.\"\n",
    "    \n",
    "    #validating set method\n",
    "    #this is an encapsulated method\n",
    "    def _value_validation(self, value):\n",
    "        return True if value > 0 else False\n",
    "    "
   ]
  },
  {
   "cell_type": "code",
   "execution_count": 2,
   "metadata": {},
   "outputs": [],
   "source": [
    "# fig = GeometricFigure(10, 5)\n",
    "# print(fig)  # Output: your figure is base 10 x 5"
   ]
  }
 ],
 "metadata": {
  "kernelspec": {
   "display_name": "Python 3",
   "language": "python",
   "name": "python3"
  },
  "language_info": {
   "codemirror_mode": {
    "name": "ipython",
    "version": 3
   },
   "file_extension": ".py",
   "mimetype": "text/x-python",
   "name": "python",
   "nbconvert_exporter": "python",
   "pygments_lexer": "ipython3",
   "version": "3.8.3"
  }
 },
 "nbformat": 4,
 "nbformat_minor": 4
}
