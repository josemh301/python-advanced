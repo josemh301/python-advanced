{
 "cells": [
  {
   "cell_type": "markdown",
   "metadata": {},
   "source": [
    "# 14_Abstract classes\n",
    "\n",
    "Abstract classes in Python are a way to define a class that cannot be instantiated on its own, but instead serves as a blueprint for other classes. These classes are defined using the `ABC` (Abstract Base Class) module from the Python standard library. Abstract classes are particularly useful when you have a set of methods that you want to ensure are implemented in any subclass derived from the abstract class.\n",
    "\n",
    "Key features of abstract classes in Python include:\n",
    "\n",
    "1. **Cannot be instantiated**: Abstract classes cannot be used to create objects directly. They are designed to be subclassed, and their abstract methods must be implemented in the subclass.\n",
    "\n",
    "2. **Abstract methods**: These are methods declared in the abstract class with the `@abstractmethod` decorator, and they have no implementation in the abstract class itself. Subclasses are required to provide an implementation for these methods. If a subclass does not implement all the abstract methods, it too becomes an abstract class and cannot be instantiated.\n",
    "\n",
    "3. **Use of `abc` module**: To create an abstract class, you typically inherit from `ABC` class from the `abc` module.\n",
    "\n",
    "Here's a simple example to illustrate an abstract class in Python:\n",
    "\n",
    "```python\n",
    "from abc import ABC, abstractmethod\n",
    "\n",
    "class AbstractShape(ABC):\n",
    "    @abstractmethod\n",
    "    def area(self):\n",
    "        pass\n",
    "\n",
    "    @abstractmethod\n",
    "    def perimeter(self):\n",
    "        pass\n",
    "\n",
    "class Rectangle(AbstractShape):\n",
    "    def __init__(self, width, height):\n",
    "        self.width = width\n",
    "        self.height = height\n",
    "\n",
    "    def area(self):\n",
    "        return self.width * self.height\n",
    "\n",
    "    def perimeter(self):\n",
    "        return 2 * (self.width + self.height)\n",
    "\n",
    "# shape = AbstractShape()  # This will raise an error, as AbstractShape cannot be instantiated\n",
    "rectangle = Rectangle(3, 4)\n",
    "print(rectangle.area())  # Outputs: 12\n",
    "print(rectangle.perimeter())  # Outputs: 14\n",
    "```\n",
    "\n",
    "In this example, `AbstractShape` is an abstract class with abstract methods `area` and `perimeter`. The `Rectangle` class inherits from `AbstractShape` and provides specific implementations for these methods. The abstract class ensures that each subclass has its own implementations of `area` and `perimeter`."
   ]
  },
  {
   "cell_type": "code",
   "execution_count": 2,
   "metadata": {},
   "outputs": [],
   "source": [
    "%run abstract_classes.ipynb"
   ]
  },
  {
   "cell_type": "code",
   "execution_count": null,
   "metadata": {},
   "outputs": [],
   "source": []
  }
 ],
 "metadata": {
  "kernelspec": {
   "display_name": "Python 3",
   "language": "python",
   "name": "python3"
  },
  "language_info": {
   "codemirror_mode": {
    "name": "ipython",
    "version": 3
   },
   "file_extension": ".py",
   "mimetype": "text/x-python",
   "name": "python",
   "nbconvert_exporter": "python",
   "pygments_lexer": "ipython3",
   "version": "3.8.3"
  }
 },
 "nbformat": 4,
 "nbformat_minor": 4
}
