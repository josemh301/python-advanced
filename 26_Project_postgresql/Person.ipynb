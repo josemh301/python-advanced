{
 "cells": [
  {
   "cell_type": "code",
   "execution_count": null,
   "metadata": {},
   "outputs": [],
   "source": [
    "class Person:\n",
    "    \n",
    "    id_number = 0\n",
    "    \n",
    "    def __init__(self, name, surname, email):\n",
    "        id_person = Person.id_number += 1\n",
    "        self._id_person = id_person\n",
    "        self._name = name\n",
    "        self._surname = surname\n",
    "        self._email = self._name[1] + self._surname + \"@mail.com\"\n",
    "    \n",
    "    @property\n",
    "    def name(self):\n",
    "        return self._name\n",
    "    \n",
    "    @name.setter\n",
    "    def name(self, name):\n",
    "        self._name = name\n",
    "    \n",
    "    @property\n",
    "    def surname(self):\n",
    "        return self._surname\n",
    "    \n",
    "    @surname.setter\n",
    "    def surname(self, surname):\n",
    "        self._surname = surname\n",
    "        \n",
    "    @property\n",
    "    def email(self):\n",
    "        return self._email\n",
    "    \n",
    "    @email.setter\n",
    "    def email(self, email):\n",
    "        self._email = email\n",
    "    \n",
    "    def __str__():\n",
    "        return f\"Full name: {self._name} {self._surname}\\nEmail address: {self._email}\""
   ]
  }
 ],
 "metadata": {
  "kernelspec": {
   "display_name": "Python 3",
   "language": "python",
   "name": "python3"
  },
  "language_info": {
   "codemirror_mode": {
    "name": "ipython",
    "version": 3
   },
   "file_extension": ".py",
   "mimetype": "text/x-python",
   "name": "python",
   "nbconvert_exporter": "python",
   "pygments_lexer": "ipython3",
   "version": "3.8.3"
  }
 },
 "nbformat": 4,
 "nbformat_minor": 4
}
