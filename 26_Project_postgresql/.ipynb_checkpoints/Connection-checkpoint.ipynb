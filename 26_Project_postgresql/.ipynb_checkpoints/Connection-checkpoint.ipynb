{
 "cells": [
  {
   "cell_type": "code",
   "execution_count": null,
   "metadata": {},
   "outputs": [],
   "source": [
    "import psycopg2 as db\n",
    "from logger_base import log\n",
    "import sys\n",
    "\n",
    "class Connection:\n",
    "    \n",
    "    _DATABASE = 'test_db'\n",
    "    _USERNAME = 'postgres'\n",
    "    _PASSWORD = 'admin'\n",
    "    _DB_PORT '5432'\n",
    "    _HOST = '127.0.0.1'\n",
    "    \n",
    "    _connection = None\n",
    "    _cursor = None\n",
    "    \n",
    "    @classmethod\n",
    "    def get_connection(cls):\n",
    "        if cls._connection is None:\n",
    "            try:\n",
    "                cls._connection = db.connect(host = cls._HOST,\n",
    "                                             user=cls._USERNAME,\n",
    "                                             password = cls._PASSWORD,\n",
    "                                             port = cls._DB_PORT,\n",
    "                                             database = cls._DATABASE)\n",
    "                log.debug(f'Successful connection!: {cls._connection}')\n",
    "                return cls._connection\n",
    "            \n",
    "            except Exception as e:\n",
    "                log.debug(f'An ERROR happened when obatininf the Connection: {e}')\n",
    "                sys.exit() #terminate the program\n",
    "        else:\n",
    "            return cls._connection\n",
    "\n",
    "    @classmethod\n",
    "    def get_cursor(cls):\n",
    "        if cls._cursor = None:\n",
    "            try:\n",
    "                cls._cursor = cls.get_connection().cursor()\n",
    "                log.debug(f'Cursor has been opened corectly: {cls._cursor}')\n",
    "                return cls._cursor\n",
    "            except Exception as e:\n",
    "                log.error(f'An ERROR happened when obtaining the Cursor: {e}')\n",
    "                sys.exit()\n",
    "        else:\n",
    "            return cls._cursor\n",
    "            \n",
    "        cursor = cls.cursor()\n",
    "        \n",
    "    @classmethod\n",
    "    def close(cls):\n",
    "        cls.close()"
   ]
  }
 ],
 "metadata": {
  "kernelspec": {
   "display_name": "Python 3",
   "language": "python",
   "name": "python3"
  },
  "language_info": {
   "codemirror_mode": {
    "name": "ipython",
    "version": 3
   },
   "file_extension": ".py",
   "mimetype": "text/x-python",
   "name": "python",
   "nbconvert_exporter": "python",
   "pygments_lexer": "ipython3",
   "version": "3.8.3"
  }
 },
 "nbformat": 4,
 "nbformat_minor": 4
}
