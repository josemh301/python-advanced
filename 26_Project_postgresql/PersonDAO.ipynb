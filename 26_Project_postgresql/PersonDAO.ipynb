{
 "cells": [
  {
   "cell_type": "code",
   "execution_count": null,
   "metadata": {},
   "outputs": [],
   "source": [
    "class PersonDAO:\n",
    "    \n",
    "    @staticmethod\n",
    "    def select(self):\n",
    "        sentence = 'SELECT * FROM person ORDER BY id_person'\n",
    "        \n",
    "    @staticmethod\n",
    "    def insert(self):\n",
    "        sentence = 'INSERT INTO person VALUES %s, %s, %s'\n",
    "        \n",
    "    @staticmethod\n",
    "    def update(self):\n",
    "        sentence = 'UPDATE ... WHERE id_person = %s'\n",
    "        \n",
    "    @staticmethod\n",
    "    def delete(self):\n",
    "        sentence = 'DELETE ... WHERE id_person = %s'\n",
    "    \n",
    "    @clasmethod\n",
    "    def select(cls):\n",
    "        cls.select\n",
    "\n",
    "    @clasmethod\n",
    "    def insert(cls):\n",
    "        cls.insert\n",
    "        \n",
    "    @clasmethod\n",
    "    def update(cls):\n",
    "        cls.update\n",
    "        \n",
    "    @clasmethod\n",
    "    def delete(cls):\n",
    "        cls.delete"
   ]
  }
 ],
 "metadata": {
  "kernelspec": {
   "display_name": "Python 3",
   "language": "python",
   "name": "python3"
  },
  "language_info": {
   "codemirror_mode": {
    "name": "ipython",
    "version": 3
   },
   "file_extension": ".py",
   "mimetype": "text/x-python",
   "name": "python",
   "nbconvert_exporter": "python",
   "pygments_lexer": "ipython3",
   "version": "3.8.3"
  }
 },
 "nbformat": 4,
 "nbformat_minor": 4
}
