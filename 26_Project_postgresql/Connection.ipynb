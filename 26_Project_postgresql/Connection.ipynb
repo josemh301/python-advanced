{
 "cells": [
  {
   "cell_type": "code",
   "execution_count": 7,
   "metadata": {},
   "outputs": [
    {
     "name": "stdout",
     "output_type": "stream",
     "text": [
      "Collecting base-logger\n",
      "  Downloading base_logger-0.0.3-py3-none-any.whl (3.4 kB)\n",
      "Installing collected packages: base-logger\n",
      "Successfully installed base-logger-0.0.3\n"
     ]
    }
   ],
   "source": [
    "!pip install base-logger"
   ]
  },
  {
   "cell_type": "code",
   "execution_count": null,
   "metadata": {},
   "outputs": [],
   "source": [
    "if __name__ = '__main__':\n",
    "    Connection.get_connection()"
   ]
  }
 ],
 "metadata": {
  "kernelspec": {
   "display_name": "Python 3",
   "language": "python",
   "name": "python3"
  },
  "language_info": {
   "codemirror_mode": {
    "name": "ipython",
    "version": 3
   },
   "file_extension": ".py",
   "mimetype": "text/x-python",
   "name": "python",
   "nbconvert_exporter": "python",
   "pygments_lexer": "ipython3",
   "version": "3.8.3"
  }
 },
 "nbformat": 4,
 "nbformat_minor": 4
}
