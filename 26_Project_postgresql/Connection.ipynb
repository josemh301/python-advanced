{
 "cells": [
  {
   "cell_type": "code",
   "execution_count": null,
   "metadata": {},
   "outputs": [],
   "source": [
    "import psycopg2\n",
    "\n",
    "class Connection:\n",
    "    \n",
    "    @staticmethod\n",
    "    host = \"127.0.0.1\"\n",
    "    \n",
    "    @staticmethod\n",
    "    dbname = \"test_db\"\n",
    "    \n",
    "    @staticmethod\n",
    "    user = \"postgres\"\n",
    "    \n",
    "    @staticmethod\n",
    "    password = \"admin\"\n",
    "    \n",
    "    @staticmethod\n",
    "    port = \"5432\"\n",
    "    \n",
    "    @classmethod\n",
    "    def get_connection(cls):\n",
    "        cls.\n",
    "\n",
    "    @classmethod\n",
    "    def get_cursor(cls):\n",
    "        cls.\n",
    "        \n",
    "    @classmethod\n",
    "    def close(cls):\n",
    "        cls.\n",
    "        \n",
    "        \n",
    "    # Establish a connection to the database\n",
    "    try:\n",
    "        conn = psycopg2.connect(\n",
    "            host=host,\n",
    "            dbname=dbname,\n",
    "            user=user,\n",
    "            password=password\n",
    "        )\n",
    "        print(\"Connected to the database successfully!\")\n",
    "    except Exception as e:\n",
    "        print(\"Unable to connect to the database:\")\n",
    "        print(e)\n"
   ]
  }
 ],
 "metadata": {
  "kernelspec": {
   "display_name": "Python 3",
   "language": "python",
   "name": "python3"
  },
  "language_info": {
   "codemirror_mode": {
    "name": "ipython",
    "version": 3
   },
   "file_extension": ".py",
   "mimetype": "text/x-python",
   "name": "python",
   "nbconvert_exporter": "python",
   "pygments_lexer": "ipython3",
   "version": "3.8.3"
  }
 },
 "nbformat": 4,
 "nbformat_minor": 4
}
