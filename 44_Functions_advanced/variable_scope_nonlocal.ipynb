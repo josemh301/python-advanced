{
 "cells": [
  {
   "cell_type": "code",
   "execution_count": 1,
   "metadata": {},
   "outputs": [
    {
     "name": "stdout",
     "output_type": "stream",
     "text": [
      "Value of external local variable: Modifing value with nonlocal\n"
     ]
    }
   ],
   "source": [
    "def external_function():\n",
    "    local_var_for_external_function = \"External local variable\"\n",
    "    \n",
    "    def nested_function():\n",
    "        nested_local_variable = \"Nested local variable\"\n",
    "        \n",
    "        nonlocal local_var_for_external_function\n",
    "        local_var_for_external_function = \"Modifing value with nonlocal\"\n",
    "        \n",
    "    nested_function()\n",
    "    \n",
    "    print(\"Value of external local variable:\", local_var_for_external_function)\n",
    "\n",
    "external_function()    "
   ]
  },
  {
   "cell_type": "code",
   "execution_count": null,
   "metadata": {},
   "outputs": [],
   "source": []
  }
 ],
 "metadata": {
  "kernelspec": {
   "display_name": "Python 3",
   "language": "python",
   "name": "python3"
  },
  "language_info": {
   "codemirror_mode": {
    "name": "ipython",
    "version": 3
   },
   "file_extension": ".py",
   "mimetype": "text/x-python",
   "name": "python",
   "nbconvert_exporter": "python",
   "pygments_lexer": "ipython3",
   "version": "3.8.3"
  }
 },
 "nbformat": 4,
 "nbformat_minor": 4
}
