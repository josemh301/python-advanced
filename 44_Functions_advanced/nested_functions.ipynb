{
 "cells": [
  {
   "cell_type": "markdown",
   "metadata": {},
   "source": [
    "# 44_01 Nested functions\n",
    "\n",
    "In Python, \"nested functions\" refer to the concept of defining one function inside another function. These are functions that are defined within the scope of another function, and they can access variables from the enclosing function's scope. This concept is often used for organization, encapsulation, and closure creation.\n",
    "\n",
    "Here are some key points about nested functions in Python:\n",
    "\n",
    "1. **Scope Access**: A nested function can access variables defined in the enclosing function's scope. However, it can't modify them directly unless they are declared as `nonlocal`.\n",
    "\n",
    "2. **Encapsulation**: Nested functions provide a way of encapsulating functionality. They can be used to organize code into more manageable, coherent sections, especially when a certain functionality is only needed within a specific context.\n",
    "\n",
    "3. **Closure Creation**: When a nested function references variables from the enclosing scope, it forms a closure. A closure remembers the values from its enclosing lexical scope even when the program flow is no longer in that scope.\n",
    "\n",
    "4. **Limited Accessibility**: Nested functions are not accessible outside the enclosing function, providing a form of data hiding or encapsulation.\n",
    "\n",
    "### Example of Nested Functions\n",
    "\n",
    "```python\n",
    "def outer_function(text):\n",
    "    def inner_function():\n",
    "        print(text)\n",
    "\n",
    "    inner_function()\n",
    "\n",
    "outer_function(\"Hello, World!\")\n",
    "```\n",
    "\n",
    "In this example, `inner_function` is a nested function within `outer_function`. `inner_function` can access the variable `text` defined in `outer_function`. When `outer_function` is called, it defines and then calls `inner_function`, which prints the value of `text`."
   ]
  },
  {
   "cell_type": "code",
   "execution_count": 7,
   "metadata": {},
   "outputs": [
    {
     "name": "stdout",
     "output_type": "stream",
     "text": [
      "Result +: 50\n",
      "Result -: 30\n"
     ]
    }
   ],
   "source": [
    "def calculator(a,b, operation=\"addition\"):\n",
    "    \n",
    "    def addition(a, b):\n",
    "        return a + b\n",
    "    \n",
    "    def substraction(a, b):\n",
    "        return a - b\n",
    "\n",
    "    if operation == \"addition\":\n",
    "        print(f\"Result +: {addition(a, b)}\")\n",
    "    elif operation == \"substraction\":\n",
    "        print(f\"Result -: {substraction(a, b)}\")\n",
    "\n",
    "calculator(40,10)\n",
    "calculator(40,10, \"substraction\")"
   ]
  },
  {
   "cell_type": "code",
   "execution_count": null,
   "metadata": {},
   "outputs": [],
   "source": []
  }
 ],
 "metadata": {
  "kernelspec": {
   "display_name": "Python 3",
   "language": "python",
   "name": "python3"
  },
  "language_info": {
   "codemirror_mode": {
    "name": "ipython",
    "version": 3
   },
   "file_extension": ".py",
   "mimetype": "text/x-python",
   "name": "python",
   "nbconvert_exporter": "python",
   "pygments_lexer": "ipython3",
   "version": "3.8.3"
  }
 },
 "nbformat": 4,
 "nbformat_minor": 4
}
