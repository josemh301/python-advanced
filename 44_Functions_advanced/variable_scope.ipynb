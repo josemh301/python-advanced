{
 "cells": [
  {
   "cell_type": "markdown",
   "metadata": {},
   "source": [
    "# 44_02 Variable scope\n",
    "\n",
    "Variable scope refers to the region in a program where a variable is accessible. Variable scope determines where you can access a variable and how long it exists. Understanding variable scope is crucial for avoiding bugs and writing efficient, maintainable code.\n",
    "\n",
    "There are mainly four types of variable scopes in Python:\n",
    "\n",
    "1. **Local Scope**: Variables created within a function belong to the local scope of that function, and can only be used inside that function.\n",
    "\n",
    "2. **Enclosing Scope**: This is relevant for nested functions. If a variable is not found in the local scope, Python looks for it in the enclosing scope, i.e., the scope of the outer or enclosing function.\n",
    "\n",
    "3. **Global Scope**: Variables defined at the top level of a module or explicitly declared global using the `global` keyword are in the global scope. These variables are accessible throughout the module in all functions unless shadowed by a local variable.\n",
    "\n",
    "4. **Built-in Scope**: This scope contains names that are pre-defined in Python. These include functions like `print()`, `id()`, and data types like `int`, `float`.\n",
    "\n",
    "### Example Demonstrating Different Scopes\n",
    "\n",
    "```python\n",
    "x = \"global\" # Global scope\n",
    "\n",
    "def outer_function():\n",
    "    x = \"outer local\" # Enclosing scope\n",
    "\n",
    "    def inner_function():\n",
    "        x = \"inner local\" # Local scope\n",
    "        print(\"Inner function:\", x)\n",
    "\n",
    "    inner_function()\n",
    "    print(\"Outer function:\", x)\n",
    "\n",
    "outer_function()\n",
    "print(\"Global:\", x)\n",
    "```\n",
    "\n",
    "In this code:\n",
    "- `x` in `inner_function` is local to `inner_function`.\n",
    "- `x` in `outer_function` is local to `outer_function` but can be accessed by `inner_function` if `inner_function` doesn't define its own `x`.\n",
    "- The `x` outside of all functions is in the global scope.\n",
    "\n",
    "When `inner_function` is called, it prints the value of `x` in its local scope. When `outer_function` is called, it calls `inner_function` and then prints the value of `x` in its local scope. Finally, the print statement outside any function prints the value of `x` in the global scope."
   ]
  },
  {
   "cell_type": "code",
   "execution_count": 8,
   "metadata": {},
   "outputs": [
    {
     "name": "stdout",
     "output_type": "stream",
     "text": [
      "Outside the function: Global varible\n",
      "Global varible from a function\n"
     ]
    }
   ],
   "source": [
    "#Global variable\n",
    "global_var = \"Global varible\"\n",
    "print(\"Outside the function:\", global_var)\n",
    "\n",
    "#accesing global variable\n",
    "def printing():\n",
    "    print(f\"{global_var} from a function\")\n",
    "\n",
    "printing()"
   ]
  },
  {
   "cell_type": "code",
   "execution_count": 6,
   "metadata": {},
   "outputs": [
    {
     "name": "stdout",
     "output_type": "stream",
     "text": [
      "This is a Local variable\n"
     ]
    },
    {
     "ename": "NameError",
     "evalue": "name 'local_var' is not defined",
     "output_type": "error",
     "traceback": [
      "\u001b[1;31m---------------------------------------------------------------------------\u001b[0m",
      "\u001b[1;31mNameError\u001b[0m                                 Traceback (most recent call last)",
      "Cell \u001b[1;32mIn[6], line 9\u001b[0m\n\u001b[0;32m      6\u001b[0m     \u001b[38;5;28mprint\u001b[39m(\u001b[38;5;124mf\u001b[39m\u001b[38;5;124m\"\u001b[39m\u001b[38;5;124mThis is a \u001b[39m\u001b[38;5;132;01m{\u001b[39;00mlocal_var\u001b[38;5;132;01m}\u001b[39;00m\u001b[38;5;124m\"\u001b[39m)\n\u001b[0;32m      8\u001b[0m printing()\n\u001b[1;32m----> 9\u001b[0m \u001b[38;5;28mprint\u001b[39m(\u001b[43mlocal_var\u001b[49m)\n",
      "\u001b[1;31mNameError\u001b[0m: name 'local_var' is not defined"
     ]
    }
   ],
   "source": [
    "#local variable\n",
    "#defining a variable within a block\n",
    "\n",
    "def printing():\n",
    "    local_var = \"Local variable\"\n",
    "    print(f\"This is a {local_var}\")\n",
    "\n",
    "printing()\n",
    "# print(local_var) #this turns an error because local_var is definen in a block"
   ]
  },
  {
   "cell_type": "code",
   "execution_count": null,
   "metadata": {},
   "outputs": [],
   "source": [
    "def printing():\n",
    "    local_var = \"Local variable\"\n",
    "    print(f\"This is a {local_var}\")\n",
    "    \n",
    "    def nested_function():\n",
    "        print(f\"Calling a {local_var} from a nested function\")\n",
    "    \n",
    "    ne"
   ]
  }
 ],
 "metadata": {
  "kernelspec": {
   "display_name": "Python 3",
   "language": "python",
   "name": "python3"
  },
  "language_info": {
   "codemirror_mode": {
    "name": "ipython",
    "version": 3
   },
   "file_extension": ".py",
   "mimetype": "text/x-python",
   "name": "python",
   "nbconvert_exporter": "python",
   "pygments_lexer": "ipython3",
   "version": "3.8.3"
  }
 },
 "nbformat": 4,
 "nbformat_minor": 4
}
