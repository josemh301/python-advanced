{
 "cells": [
  {
   "cell_type": "code",
   "execution_count": 1,
   "metadata": {},
   "outputs": [
    {
     "name": "stdout",
     "output_type": "stream",
     "text": [
      "['This is a test of adding information', 'This is another line', 'It is a new line', 'These are the latest lines']\n"
     ]
    }
   ],
   "source": [
    "# Define a function to clean newline characters from a string\n",
    "def clean_n(string):\n",
    "    if string.endswith(\"\\n\"):\n",
    "        string = string[:-1]  # Remove the newline character from the end\n",
    "    return string  # Return the cleaned string\n",
    "\n",
    "# Open the file\n",
    "file = open(\"test.txt\", \"r\", encoding=\"utf-8\")\n",
    "\n",
    "# Initialize an empty list to store the lines\n",
    "lines = []\n",
    "\n",
    "# Iterate over each line in the file\n",
    "for line in file:\n",
    "    # Use the clean_n function to remove the newline character and append to the list\n",
    "    lines.append(clean_n(line))\n",
    "\n",
    "# Close the file\n",
    "file.close()\n",
    "\n",
    "# Print the list of lines\n",
    "print(lines)\n"
   ]
  },
  {
   "cell_type": "code",
   "execution_count": 2,
   "metadata": {},
   "outputs": [
    {
     "name": "stdout",
     "output_type": "stream",
     "text": [
      "[['This', 'is', 'a', 'test', 'of', 'adding', 'information'], ['This', 'is', 'another', 'line'], ['It', 'is', 'a', 'new', 'line'], ['These', 'are', 'the', 'latest', 'lines']]\n"
     ]
    }
   ],
   "source": [
    "new_lines = []\n",
    "\n",
    "for item in lines:\n",
    "    new_lines.append(item.split(\" \"))\n",
    "    \n",
    "print(new_lines)"
   ]
  },
  {
   "cell_type": "code",
   "execution_count": 3,
   "metadata": {},
   "outputs": [
    {
     "name": "stdout",
     "output_type": "stream",
     "text": [
      "{'another', 'are', 'this', 'new', 'latest', 'the', 'is', 'a', 'of', 'adding', 'information', 'lines', 'it', 'test', 'line', 'these'}\n"
     ]
    }
   ],
   "source": [
    "words = set()\n",
    "\n",
    "for line in new_lines:\n",
    "    for word in line:\n",
    "        words.add(word.lower())\n",
    "\n",
    "print(words)"
   ]
  },
  {
   "cell_type": "code",
   "execution_count": 4,
   "metadata": {},
   "outputs": [
    {
     "name": "stdout",
     "output_type": "stream",
     "text": [
      "another\n",
      "are\n",
      "this\n",
      "new\n",
      "latest\n",
      "the\n",
      "is\n",
      "a\n",
      "of\n",
      "adding\n",
      "information\n",
      "lines\n",
      "it\n",
      "test\n",
      "line\n",
      "these\n"
     ]
    }
   ],
   "source": [
    "for word in words:\n",
    "    print(word)"
   ]
  },
  {
   "cell_type": "code",
   "execution_count": null,
   "metadata": {},
   "outputs": [],
   "source": []
  }
 ],
 "metadata": {
  "kernelspec": {
   "display_name": "Python 3",
   "language": "python",
   "name": "python3"
  },
  "language_info": {
   "codemirror_mode": {
    "name": "ipython",
    "version": 3
   },
   "file_extension": ".py",
   "mimetype": "text/x-python",
   "name": "python",
   "nbconvert_exporter": "python",
   "pygments_lexer": "ipython3",
   "version": "3.8.3"
  }
 },
 "nbformat": 4,
 "nbformat_minor": 4
}
