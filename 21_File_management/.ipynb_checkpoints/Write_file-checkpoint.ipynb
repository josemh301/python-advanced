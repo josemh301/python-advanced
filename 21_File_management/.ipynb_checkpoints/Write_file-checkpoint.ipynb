{
 "cells": [
  {
   "cell_type": "markdown",
   "metadata": {},
   "source": [
    "# File management\n",
    "\n",
    "It's about how we can work with files in Python, including operations like reading from, writing to, and modifying files. Let's break down the basics:\n",
    "\n",
    "1. **Opening a File**: Before you can read or write a file, you need to open it using the `open()` function. It requires at least one argument: the file path. Optionally, you can specify the mode (like 'r' for read, 'w' for write, etc.).\n",
    "\n",
    "   ```python\n",
    "   file = open('example.txt', 'r')  # Opens the file in read mode\n",
    "   ```\n",
    "\n",
    "2. **Reading from a File**: After opening a file in read mode ('r'), you can read its contents using methods like `read()`, `readline()`, or `readlines()`.\n",
    "\n",
    "   ```python\n",
    "   content = file.read()  # Reads the entire file\n",
    "   ```\n",
    "\n",
    "3. **Writing to a File**: If you open a file in write mode ('w'), you can write to it. This will overwrite any existing content in the file.\n",
    "\n",
    "   ```python\n",
    "   file = open('example.txt', 'w')\n",
    "   file.write('Hello, world!')\n",
    "   ```\n",
    "\n",
    "4. **Appending to a File**: The append mode ('a') allows you to add content to the end of a file without deleting its existing content.\n",
    "\n",
    "   ```python\n",
    "   file = open('example.txt', 'a')\n",
    "   file.write('\\nMore text.')\n",
    "   ```\n",
    "\n",
    "5. **Closing a File**: It's important to close a file when you're done with it to free up system resources.\n",
    "\n",
    "   ```python\n",
    "   file.close()\n",
    "   ```\n",
    "\n",
    "6. **Using `with` Statement**: This is a better way to handle files as it automatically takes care of closing the file, even if an error occurs. It's the recommended way.\n",
    "\n",
    "   ```python\n",
    "   with open('example.txt', 'r') as file:\n",
    "       content = file.read()\n",
    "   ```\n",
    "\n",
    "Remember, when working with files, it's important to consider the file path and the mode in which you're opening the file. Also, handling errors (like a file not existing) is an important part of robust file management."
   ]
  },
  {
   "cell_type": "code",
   "execution_count": 5,
   "metadata": {},
   "outputs": [],
   "source": [
    "try:\n",
    "    file = open(\"test.txt\", \"w\", encoding=\"utf-8\") #it will create it if it doesn't exist already\n",
    "    file.write(\"This is a test of adding information\\nThis is another line\\nIt is a new line\\nThese are the latest lines\")\n",
    "except Exception as e:\n",
    "    print(e)\n",
    "finally:\n",
    "    file.close()"
   ]
  },
  {
   "cell_type": "code",
   "execution_count": null,
   "metadata": {},
   "outputs": [],
   "source": []
  }
 ],
 "metadata": {
  "kernelspec": {
   "display_name": "Python 3",
   "language": "python",
   "name": "python3"
  },
  "language_info": {
   "codemirror_mode": {
    "name": "ipython",
    "version": 3
   },
   "file_extension": ".py",
   "mimetype": "text/x-python",
   "name": "python",
   "nbconvert_exporter": "python",
   "pygments_lexer": "ipython3",
   "version": "3.8.3"
  }
 },
 "nbformat": 4,
 "nbformat_minor": 4
}
