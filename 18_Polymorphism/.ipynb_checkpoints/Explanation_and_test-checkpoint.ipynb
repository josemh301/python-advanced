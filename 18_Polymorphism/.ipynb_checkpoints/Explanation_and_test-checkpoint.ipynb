{
 "cells": [
  {
   "cell_type": "markdown",
   "metadata": {},
   "source": [
    "# Polymorphism\n",
    "\n",
    "Polymorphism is a concept from object-oriented programming that refers to the ability of different objects to respond, each in its own way, to the same method call. In Python, polymorphism allows objects of different classes to be treated as objects of a common superclass, as long as they share a common set of methods or attributes. This is a key feature of Python that supports writing flexible and reusable code.\n",
    "\n",
    "There are two primary types of polymorphism in Python:\n",
    "\n",
    "1. **Ad-hoc Polymorphism**: This is achieved through function or method overloading. However, since Python does not support method overloading in the traditional sense (like in Java or C++), this is usually achieved through default arguments or variable-length argument lists.\n",
    "\n",
    "2. **Subtype Polymorphism (or Inheritance Polymorphism)**: This is more common in Python. It happens when a subclass inherits from a superclass and has the ability to redefine or extend the behavior of methods defined in the superclass. \n",
    "\n",
    "Here's a simple example to illustrate polymorphism in Python:\n",
    "\n",
    "```python\n",
    "class Animal:\n",
    "    def speak(self):\n",
    "        pass\n",
    "\n",
    "class Dog(Animal):\n",
    "    def speak(self):\n",
    "        return \"Woof!\"\n",
    "\n",
    "class Cat(Animal):\n",
    "    def speak(self):\n",
    "        return \"Meow!\"\n",
    "\n",
    "def animal_sound(animal):\n",
    "    print(animal.speak())\n",
    "\n",
    "# Create instances\n",
    "dog = Dog()\n",
    "cat = Cat()\n",
    "\n",
    "# Use polymorphism\n",
    "animal_sound(dog)  # Outputs: Woof!\n",
    "animal_sound(cat)  # Outputs: Meow!\n",
    "```\n",
    "\n",
    "In this example:\n",
    "\n",
    "- `Animal` is a superclass with a method `speak`.\n",
    "- `Dog` and `Cat` are subclasses of `Animal` that override the `speak` method.\n",
    "- The `animal_sound` function takes an `Animal` object and calls its `speak` method.\n",
    "- Despite `animal_sound` being generic, it works with any `Animal` subclass, demonstrating polymorphism. The actual method called depends on the object's class (either `Dog` or `Cat`).\n",
    "\n",
    "This feature is particularly powerful because it allows for writing functions that can work with any object that follows a certain interface or method pattern, leading to highly flexible and maintainable code."
   ]
  },
  {
   "cell_type": "code",
   "execution_count": 9,
   "metadata": {},
   "outputs": [],
   "source": [
    "%run Employee.ipynb\n",
    "%run Manager.ipynb"
   ]
  },
  {
   "cell_type": "code",
   "execution_count": 10,
   "metadata": {},
   "outputs": [
    {
     "name": "stdout",
     "output_type": "stream",
     "text": [
      "Name: Josh\n",
      "Salary: $60000\n",
      "<class '__main__.Employee'>\n"
     ]
    }
   ],
   "source": [
    "def printing(any_object):\n",
    "    print(any_object)\n",
    "    print(type(any_object))\n",
    "    \n",
    "employee01 = Employee(\"Josh\", 60000)\n",
    "printing(employee01)"
   ]
  },
  {
   "cell_type": "code",
   "execution_count": 11,
   "metadata": {},
   "outputs": [
    {
     "name": "stdout",
     "output_type": "stream",
     "text": [
      "Name: Johnny\n",
      "Salary: $45000\n",
      "Manager of HR\n",
      "<class '__main__.Manager'>\n"
     ]
    }
   ],
   "source": [
    "employee02 = Manager(\"Johnny\", 45000, \"HR\")\n",
    "printing(employee02)"
   ]
  },
  {
   "cell_type": "markdown",
   "metadata": {},
   "source": [
    "The `isinstance()` function in Python is used to check if an object is an instance of a particular class or a tuple of classes. It's a way to verify an object's type during runtime. This function is particularly useful when you want to ensure that an object has certain attributes or behaviors before you work with it, which is a common scenario in polymorphism and when dealing with inheritance.\n",
    "\n",
    "The `isinstance()` function takes two arguments:\n",
    "\n",
    "1. The object you want to check.\n",
    "2. The class, or a tuple of classes, you want to check against.\n",
    "\n",
    "The function returns `True` if the object is an instance of the class (or any class in the tuple), and `False` otherwise.\n",
    "\n",
    "Here's a simple example:\n",
    "\n",
    "```python\n",
    "class Fruit:\n",
    "    pass\n",
    "\n",
    "class Apple(Fruit):\n",
    "    pass\n",
    "\n",
    "apple = Apple()\n",
    "\n",
    "# Check if apple is an instance of Apple\n",
    "print(isinstance(apple, Apple))  # Output: True\n",
    "\n",
    "# Check if apple is an instance of Fruit (parent class of Apple)\n",
    "print(isinstance(apple, Fruit))  # Output: True\n",
    "\n",
    "# Check if apple is an instance of a different class\n",
    "print(isinstance(apple, str))  # Output: False\n",
    "```\n",
    "\n",
    "In this example, `isinstance(apple, Apple)` returns `True` because `apple` is an instance of the `Apple` class. Similarly, `isinstance(apple, Fruit)` also returns `True` because `Apple` is a subclass of `Fruit`, making `apple` an instance of `Fruit` as well. However, `isinstance(apple, str)` returns `False` because `apple` is not an instance of the `str` class.\n",
    "\n",
    "`isinstance()` is particularly useful in functions that can accept a variety of object types and need to behave differently depending on the type of the object they receive."
   ]
  },
  {
   "cell_type": "code",
   "execution_count": 12,
   "metadata": {},
   "outputs": [
    {
     "name": "stdout",
     "output_type": "stream",
     "text": [
      "No\n"
     ]
    }
   ],
   "source": [
    "if isinstance(employee02, Employee):\n",
    "    print(\"No\")\n",
    "else:\n",
    "    print(\"Yes\")"
   ]
  }
 ],
 "metadata": {
  "kernelspec": {
   "display_name": "Python 3",
   "language": "python",
   "name": "python3"
  },
  "language_info": {
   "codemirror_mode": {
    "name": "ipython",
    "version": 3
   },
   "file_extension": ".py",
   "mimetype": "text/x-python",
   "name": "python",
   "nbconvert_exporter": "python",
   "pygments_lexer": "ipython3",
   "version": "3.8.3"
  }
 },
 "nbformat": 4,
 "nbformat_minor": 4
}
