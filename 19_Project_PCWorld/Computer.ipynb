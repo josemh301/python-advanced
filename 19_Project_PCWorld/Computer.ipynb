{
 "cells": [
  {
   "cell_type": "code",
   "execution_count": 1,
   "metadata": {},
   "outputs": [],
   "source": [
    "%run Monitor.ipynb\n",
    "%run Mouse.ipynb\n",
    "%run Keyboard.ipynb"
   ]
  },
  {
   "cell_type": "code",
   "execution_count": 2,
   "metadata": {},
   "outputs": [],
   "source": [
    "class Computer():\n",
    "\n",
    "    assigned_ids = set()\n",
    "    counter_computer = 0\n",
    "\n",
    "    def __init__(self, name, monitor, keyboard, mouse):\n",
    "        Computer.counter_computer += 1\n",
    "        self._id_order = self._generate_unique_id()\n",
    "        self._name = name\n",
    "        self._monitor = monitor\n",
    "        self._keyboard = keyboard\n",
    "        self._mouse = mouse\n",
    "        \n",
    "        \n",
    "    def _generate_unique_id(self):\n",
    "        while True:\n",
    "            id_order = random.randint(10000, 99999)\n",
    "            if id_order not in Computer.assigned_ids:\n",
    "                Computer.assigned_ids.add(id_order)\n",
    "                return id_order\n",
    "            \n",
    "    def __str__(self):\n",
    "        return f\"\"\"\n",
    "Computer {self._name} - ID: {self._id_order}:\n",
    "    {self._monitor}\n",
    "    {self._keyboard}\n",
    "    {self._mouse}\"\"\""
   ]
  }
 ],
 "metadata": {
  "kernelspec": {
   "display_name": "Python 3",
   "language": "python",
   "name": "python3"
  },
  "language_info": {
   "codemirror_mode": {
    "name": "ipython",
    "version": 3
   },
   "file_extension": ".py",
   "mimetype": "text/x-python",
   "name": "python",
   "nbconvert_exporter": "python",
   "pygments_lexer": "ipython3",
   "version": "3.8.3"
  }
 },
 "nbformat": 4,
 "nbformat_minor": 4
}
