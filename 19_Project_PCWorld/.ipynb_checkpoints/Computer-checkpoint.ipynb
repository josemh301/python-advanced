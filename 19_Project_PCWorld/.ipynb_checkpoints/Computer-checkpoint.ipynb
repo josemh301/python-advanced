{
 "cells": [
  {
   "cell_type": "code",
   "execution_count": null,
   "metadata": {},
   "outputs": [],
   "source": [
    "%run Order.ipynb"
   ]
  },
  {
   "cell_type": "code",
   "execution_count": null,
   "metadata": {},
   "outputs": [],
   "source": [
    "class Computer():\n",
    "\n",
    "    assigned_ids = set()\n",
    "    counter_computer = 0\n",
    "\n",
    "    def __init__(self, name, monitor, keyboard, mouse):\n",
    "        # Generate a unique random ID\n",
    "        unique_id = self._generate_unique_id()\n",
    "        counter_orders += 1\n",
    "        self._id_order = unique_id\n",
    "        self._name = str(f\"CO-{self._monitor[:3].upper()}-{self._keyboard[-3:].upper()}-{self._mouse[-3:].upper()})\n",
    "        self._monitor = monitor\n",
    "        self._keyboard = keyboard\n",
    "        self._mouse = mouse\n",
    "        \n",
    "        \n",
    "    def _generate_unique_id(self):\n",
    "        while True:\n",
    "            id_order = random.randint(10000, 99999)\n",
    "            if id_order not in Order.assigned_ids:\n",
    "                Order.assigned_ids.add(id_order)\n",
    "                return id_order\n",
    "            \n",
    "    def __str__(self):\n",
    "        return f\"\"\"Computer {self._name} - ID{self._id_order}:\n",
    "                · Monitor: {self._monitor}\n",
    "                · Keyboard: {self._keyboard}\n",
    "                · Mouse: {self._mouse}\"\"\""
   ]
  }
 ],
 "metadata": {
  "kernelspec": {
   "display_name": "Python 3",
   "language": "python",
   "name": "python3"
  },
  "language_info": {
   "codemirror_mode": {
    "name": "ipython",
    "version": 3
   },
   "file_extension": ".py",
   "mimetype": "text/x-python",
   "name": "python",
   "nbconvert_exporter": "python",
   "pygments_lexer": "ipython3",
   "version": "3.8.3"
  }
 },
 "nbformat": 4,
 "nbformat_minor": 4
}
