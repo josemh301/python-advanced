{
 "cells": [
  {
   "cell_type": "code",
   "execution_count": 1,
   "metadata": {},
   "outputs": [],
   "source": [
    "%run InputDevices.ipynb\n",
    "import random"
   ]
  },
  {
   "cell_type": "code",
   "execution_count": 2,
   "metadata": {},
   "outputs": [],
   "source": [
    "class Keyboard(InputDevices):\n",
    "    \n",
    "    assigned_ids = set()\n",
    "    counter_keyboards = 0\n",
    "\n",
    "    def __init__(self, entry_type, brand, model):\n",
    "        # Generate a unique random ID\n",
    "        unique_id = self._generate_unique_id()\n",
    "        Keyboard.counter_keyboards += 1\n",
    "        super().__init__(entry_type, brand)\n",
    "        self._id_keyboard = unique_id\n",
    "        self._model = model\n",
    "        \n",
    "        \n",
    "    def _generate_unique_id(self):\n",
    "        while True:\n",
    "            id_keyboard = random.randint(10000, 99999)\n",
    "            if id_keyboard not in Keyboard.assigned_ids:\n",
    "                Keyboard.assigned_ids.add(id_keyboard)\n",
    "                return id_keyboard\n",
    "    \n",
    "    def __str__(self):\n",
    "        return f\"Keyboard {Keyboard.counter_keyboards}: {self._model} - ID: {self._id_keyboard}\\n{super().__str__()}\""
   ]
  },
  {
   "cell_type": "code",
   "execution_count": 4,
   "metadata": {},
   "outputs": [
    {
     "name": "stdout",
     "output_type": "stream",
     "text": [
      "Keyboard 1: A390 - ID: 31735\n",
      "· Type: Typing\n",
      "· Brand: Apple\n"
     ]
    }
   ],
   "source": [
    "keyboard01 = Keyboard(\"Typing\", \"Apple\", \"A390\")\n",
    "print(keyboard01)"
   ]
  },
  {
   "cell_type": "code",
   "execution_count": null,
   "metadata": {},
   "outputs": [],
   "source": []
  }
 ],
 "metadata": {
  "kernelspec": {
   "display_name": "Python 3",
   "language": "python",
   "name": "python3"
  },
  "language_info": {
   "codemirror_mode": {
    "name": "ipython",
    "version": 3
   },
   "file_extension": ".py",
   "mimetype": "text/x-python",
   "name": "python",
   "nbconvert_exporter": "python",
   "pygments_lexer": "ipython3",
   "version": "3.8.3"
  }
 },
 "nbformat": 4,
 "nbformat_minor": 4
}
