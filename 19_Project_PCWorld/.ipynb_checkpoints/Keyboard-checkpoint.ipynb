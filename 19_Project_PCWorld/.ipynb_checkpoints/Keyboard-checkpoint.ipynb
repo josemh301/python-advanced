{
 "cells": [
  {
   "cell_type": "code",
   "execution_count": 19,
   "metadata": {},
   "outputs": [],
   "source": [
    "%run InputDevices.ipynb\n",
    "import random"
   ]
  },
  {
   "cell_type": "code",
   "execution_count": 20,
   "metadata": {},
   "outputs": [],
   "source": [
    "class Keyboard(InputDevices):\n",
    "    \n",
    "    assigned_ids = set()\n",
    "    counter_keyboards = 0\n",
    "\n",
    "    def __init__(self, entry_type, brand, model):\n",
    "        Keyboard.counter_keyboards += 1\n",
    "        super().__init__(entry_type, brand)\n",
    "        self._id_keyboard = self._generate_unique_id()\n",
    "        self._model = model\n",
    "        \n",
    "        \n",
    "    def _generate_unique_id(self):\n",
    "        while True:\n",
    "            id_keyboard = random.randint(10000, 99999)\n",
    "            if id_keyboard not in Keyboard.assigned_ids:\n",
    "                Keyboard.assigned_ids.add(id_keyboard)\n",
    "                return id_keyboard\n",
    "    \n",
    "    def __str__(self):\n",
    "        return f\"\"\"\n",
    "Keyboard {Keyboard.counter_keyboards} - ID: {self._id_keyboard}\n",
    "· Model: {self._model}\n",
    "{super().__str__()}\"\"\""
   ]
  }
 ],
 "metadata": {
  "kernelspec": {
   "display_name": "Python 3",
   "language": "python",
   "name": "python3"
  },
  "language_info": {
   "codemirror_mode": {
    "name": "ipython",
    "version": 3
   },
   "file_extension": ".py",
   "mimetype": "text/x-python",
   "name": "python",
   "nbconvert_exporter": "python",
   "pygments_lexer": "ipython3",
   "version": "3.8.3"
  }
 },
 "nbformat": 4,
 "nbformat_minor": 4
}
