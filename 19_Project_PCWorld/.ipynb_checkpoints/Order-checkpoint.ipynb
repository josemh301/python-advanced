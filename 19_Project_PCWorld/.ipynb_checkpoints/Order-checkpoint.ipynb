{
 "cells": [
  {
   "cell_type": "code",
   "execution_count": 7,
   "metadata": {},
   "outputs": [
    {
     "name": "stdout",
     "output_type": "stream",
     "text": [
      "\n",
      "Computer Acer - ID: 64608:\n",
      "    \n",
      "Monitor 1 - ID: 94263\n",
      "· Brand: Acer\n",
      "· Size: 32\n",
      "    \n",
      "Keyboard 1 - ID: 43771\n",
      "· Model: A99\n",
      "· Type: Bluetooth\n",
      "· Brand: Acer\n",
      "    \n",
      "Mouse 1 - ID: 28053\n",
      "· Model: K50\n",
      "· Type: Bluetooth\n",
      "· Brand: Acer\n",
      "\n",
      "Computer Apple WFH - ID: 13754:\n",
      "    \n",
      "Monitor 2 - ID: 54177\n",
      "· Brand: Apple Display\n",
      "· Size: 28\n",
      "    \n",
      "Keyboard 2 - ID: 89736\n",
      "· Model: Apple Key\n",
      "· Type: Bluetooth\n",
      "· Brand: Apple\n",
      "    \n",
      "Mouse 2 - ID: 47702\n",
      "· Model: Apple Arrow\n",
      "· Type: Bluetooth\n",
      "· Brand: Apple\n"
     ]
    }
   ],
   "source": [
    "%run Computer.ipynb"
   ]
  },
  {
   "cell_type": "code",
   "execution_count": 8,
   "metadata": {},
   "outputs": [],
   "source": [
    "import random\n",
    "\n",
    "class Order:\n",
    "\n",
    "    assigned_ids = set()\n",
    "    counter_orders = 0\n",
    "    computers = list()\n",
    "\n",
    "    def __init__(self, computers):\n",
    "        Order.counter_orders += 1\n",
    "        self._id_order = self._generate_unique_id()\n",
    "        self._computers = computer\n",
    "        \n",
    "        ## computers.append(computer)\n",
    "\n",
    "    def _generate_unique_id(self):\n",
    "        while True:\n",
    "            id_order = random.randint(10000, 99999)\n",
    "            if id_order not in Order.assigned_ids:\n",
    "                Order.assigned_ids.add(id_order)\n",
    "                return id_order\n",
    "    \n",
    "    def add_computer(self, computer):\n",
    "        self._computers.append(computer)\n",
    "        \n",
    "    def __str__(self):\n",
    "        computer_str = \"\"\n",
    "        for computer in self._computers:\n",
    "            computer_str += computer.__str__()\n",
    "        return f\"\"\"\n",
    "Order: {self._id_order}\n",
    "{computer_str}\"\"\""
   ]
  },
  {
   "cell_type": "code",
   "execution_count": 9,
   "metadata": {},
   "outputs": [
    {
     "ename": "NameError",
     "evalue": "name 'computer' is not defined",
     "output_type": "error",
     "traceback": [
      "\u001b[1;31m---------------------------------------------------------------------------\u001b[0m",
      "\u001b[1;31mNameError\u001b[0m                                 Traceback (most recent call last)",
      "Cell \u001b[1;32mIn[9], line 1\u001b[0m\n\u001b[1;32m----> 1\u001b[0m order01 \u001b[38;5;241m=\u001b[39m \u001b[43mOrder\u001b[49m\u001b[43m(\u001b[49m\u001b[43mcomputer01\u001b[49m\u001b[43m)\u001b[49m\n\u001b[0;32m      2\u001b[0m \u001b[38;5;28mprint\u001b[39m(order01)\n",
      "Cell \u001b[1;32mIn[8], line 12\u001b[0m, in \u001b[0;36mOrder.__init__\u001b[1;34m(self, computers)\u001b[0m\n\u001b[0;32m     10\u001b[0m Order\u001b[38;5;241m.\u001b[39mcounter_orders \u001b[38;5;241m+\u001b[39m\u001b[38;5;241m=\u001b[39m \u001b[38;5;241m1\u001b[39m\n\u001b[0;32m     11\u001b[0m \u001b[38;5;28mself\u001b[39m\u001b[38;5;241m.\u001b[39m_id_order \u001b[38;5;241m=\u001b[39m \u001b[38;5;28mself\u001b[39m\u001b[38;5;241m.\u001b[39m_generate_unique_id()\n\u001b[1;32m---> 12\u001b[0m \u001b[38;5;28mself\u001b[39m\u001b[38;5;241m.\u001b[39m_computers \u001b[38;5;241m=\u001b[39m \u001b[43mcomputer\u001b[49m\n",
      "\u001b[1;31mNameError\u001b[0m: name 'computer' is not defined"
     ]
    }
   ],
   "source": [
    "order01 = Order(computer01)\n",
    "print(order01)"
   ]
  },
  {
   "cell_type": "code",
   "execution_count": null,
   "metadata": {},
   "outputs": [],
   "source": []
  }
 ],
 "metadata": {
  "kernelspec": {
   "display_name": "Python 3",
   "language": "python",
   "name": "python3"
  },
  "language_info": {
   "codemirror_mode": {
    "name": "ipython",
    "version": 3
   },
   "file_extension": ".py",
   "mimetype": "text/x-python",
   "name": "python",
   "nbconvert_exporter": "python",
   "pygments_lexer": "ipython3",
   "version": "3.8.3"
  }
 },
 "nbformat": 4,
 "nbformat_minor": 4
}
