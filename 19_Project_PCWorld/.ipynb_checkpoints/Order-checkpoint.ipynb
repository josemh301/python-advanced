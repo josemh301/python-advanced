{
 "cells": [
  {
   "cell_type": "code",
   "execution_count": 1,
   "metadata": {},
   "outputs": [],
   "source": [
    "%run Computer.ipynb"
   ]
  },
  {
   "cell_type": "code",
   "execution_count": 2,
   "metadata": {},
   "outputs": [],
   "source": [
    "import random\n",
    "\n",
    "class Order:\n",
    "\n",
    "    assigned_ids = set()\n",
    "    counter_orders = 0\n",
    "\n",
    "    def __init__(self, computers):\n",
    "        Order.counter_orders += 1\n",
    "        self._id_order = self._generate_unique_id()\n",
    "        self._computers = computers\n",
    "        \n",
    "        ## computers.append(computer)\n",
    "\n",
    "    def _generate_unique_id(self):\n",
    "        while True:\n",
    "            id_order = random.randint(10000, 99999)\n",
    "            if id_order not in Order.assigned_ids:\n",
    "                Order.assigned_ids.add(id_order)\n",
    "                return id_order\n",
    "    \n",
    "    def add_computer(self, computer):\n",
    "        self._computers.append(computer)\n",
    "        \n",
    "    def __str__(self):\n",
    "        computer_str = \"\"\n",
    "        for computer in self._computers:\n",
    "            computer_str += computer.__str__()\n",
    "        return f\"\"\"\n",
    "Order: {self._id_order}\n",
    "{computer_str}\"\"\""
   ]
  },
  {
   "cell_type": "code",
   "execution_count": 3,
   "metadata": {},
   "outputs": [],
   "source": [
    "monitor01 = Monitor(\"Apple Display\", 28)\n",
    "keyboard01 = Keyboard(\"Bluetooth\", \"Apple\", \"Apple Key\")\n",
    "mouse01 = Mouse(\"Bluetooth\", \"Apple\", \"Apple Arrow\")\n",
    "\n",
    "computer01 = Computer(\"Apple WFH\", monitor01, keyboard01, mouse01)"
   ]
  },
  {
   "cell_type": "code",
   "execution_count": 4,
   "metadata": {},
   "outputs": [],
   "source": [
    "monitor02 = Monitor(\"Acer\", 32)\n",
    "keyboard02 = Keyboard(\"Bluetooth\", \"Acer\", \"A99\")\n",
    "mouse02 = Mouse(\"Bluetooth\", \"Acer\", \"K50\")\n",
    "\n",
    "computer02 = Computer(\"Acer\", monitor02, keyboard02, mouse02)"
   ]
  },
  {
   "cell_type": "code",
   "execution_count": 5,
   "metadata": {},
   "outputs": [
    {
     "name": "stdout",
     "output_type": "stream",
     "text": [
      "\n",
      "Order: 60635\n",
      "\n",
      "Computer Apple WFH - ID: 45634:\n",
      "    \n",
      "Monitor 2 - ID: 34982\n",
      "· Brand: Apple Display\n",
      "· Size: 28\n",
      "    \n",
      "Keyboard 2 - ID: 17084\n",
      "· Model: Apple Key\n",
      "· Type: Bluetooth\n",
      "· Brand: Apple\n",
      "----------------\n",
      "\n",
      "    \n",
      "Mouse 2 - ID: 89668\n",
      "· Model: Apple Arrow\n",
      "· Type: Bluetooth\n",
      "· Brand: Apple\n",
      "----------------\n",
      "\n",
      "Computer Acer - ID: 57985:\n",
      "    \n",
      "Monitor 2 - ID: 66695\n",
      "· Brand: Acer\n",
      "· Size: 32\n",
      "    \n",
      "Keyboard 2 - ID: 90963\n",
      "· Model: A99\n",
      "· Type: Bluetooth\n",
      "· Brand: Acer\n",
      "----------------\n",
      "\n",
      "    \n",
      "Mouse 2 - ID: 61391\n",
      "· Model: K50\n",
      "· Type: Bluetooth\n",
      "· Brand: Acer\n",
      "----------------\n",
      "\n",
      "Computer Acer - ID: 57985:\n",
      "    \n",
      "Monitor 2 - ID: 66695\n",
      "· Brand: Acer\n",
      "· Size: 32\n",
      "    \n",
      "Keyboard 2 - ID: 90963\n",
      "· Model: A99\n",
      "· Type: Bluetooth\n",
      "· Brand: Acer\n",
      "----------------\n",
      "\n",
      "    \n",
      "Mouse 2 - ID: 61391\n",
      "· Model: K50\n",
      "· Type: Bluetooth\n",
      "· Brand: Acer\n",
      "----------------\n",
      "\n"
     ]
    }
   ],
   "source": [
    "computers = [computer01, computer02, computer02]\n",
    "\n",
    "order01 = Order(computers)\n",
    "print(order01)"
   ]
  },
  {
   "cell_type": "code",
   "execution_count": null,
   "metadata": {},
   "outputs": [],
   "source": []
  }
 ],
 "metadata": {
  "kernelspec": {
   "display_name": "Python 3",
   "language": "python",
   "name": "python3"
  },
  "language_info": {
   "codemirror_mode": {
    "name": "ipython",
    "version": 3
   },
   "file_extension": ".py",
   "mimetype": "text/x-python",
   "name": "python",
   "nbconvert_exporter": "python",
   "pygments_lexer": "ipython3",
   "version": "3.8.3"
  }
 },
 "nbformat": 4,
 "nbformat_minor": 4
}
