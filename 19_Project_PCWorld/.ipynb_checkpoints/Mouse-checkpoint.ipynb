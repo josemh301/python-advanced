{
 "cells": [
  {
   "cell_type": "code",
   "execution_count": 7,
   "metadata": {},
   "outputs": [],
   "source": [
    "%run InputDevices.ipynb\n",
    "import random"
   ]
  },
  {
   "cell_type": "code",
   "execution_count": 8,
   "metadata": {},
   "outputs": [],
   "source": [
    "class Mouse(InputDevices):\n",
    "    \n",
    "    assigned_ids = set()\n",
    "    counter_mouses = 0\n",
    "\n",
    "    def __init__(self, entry_type, brand, model):\n",
    "        Mouse.counter_mouses += 1\n",
    "        super().__init__(entry_type, brand)\n",
    "        self._id_mouse = self._generate_unique_id()\n",
    "        self._model = model\n",
    "        \n",
    "        \n",
    "    def _generate_unique_id(self):\n",
    "        while True:\n",
    "            id_mouse = random.randint(10000, 99999)\n",
    "            if id_mouse not in Mouse.assigned_ids:\n",
    "                Mouse.assigned_ids.add(id_mouse)\n",
    "                return id_mouse\n",
    "    \n",
    "    def __str__(self):\n",
    "        return f\"\"\"\n",
    "Mouse {Mouse.counter_mouses} - ID: {self._id_mouse}\n",
    "· Model: {self._model}\n",
    "{super().__str__()}\n",
    "------------------------\n",
    "\"\"\""
   ]
  }
 ],
 "metadata": {
  "kernelspec": {
   "display_name": "Python 3",
   "language": "python",
   "name": "python3"
  },
  "language_info": {
   "codemirror_mode": {
    "name": "ipython",
    "version": 3
   },
   "file_extension": ".py",
   "mimetype": "text/x-python",
   "name": "python",
   "nbconvert_exporter": "python",
   "pygments_lexer": "ipython3",
   "version": "3.8.3"
  }
 },
 "nbformat": 4,
 "nbformat_minor": 4
}
