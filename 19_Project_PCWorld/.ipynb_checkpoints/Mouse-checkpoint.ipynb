{
 "cells": [
  {
   "cell_type": "code",
   "execution_count": 25,
   "metadata": {},
   "outputs": [],
   "source": [
    "%run InputDevices.ipynb\n",
    "import random"
   ]
  },
  {
   "cell_type": "code",
   "execution_count": 26,
   "metadata": {},
   "outputs": [],
   "source": [
    "class Mouse(InputDevices):\n",
    "    \n",
    "    assigned_ids = set()\n",
    "    counter_mouses = 0\n",
    "\n",
    "    def __init__(self, entry_type, brand, model):\n",
    "        # Generate a unique random ID\n",
    "        unique_id = self._generate_unique_id()\n",
    "        Mouse.counter_mouses += 1\n",
    "        super().__init__(entry_type, brand)\n",
    "        self._id_mouse = unique_id\n",
    "        self._model = model\n",
    "        \n",
    "        \n",
    "    def _generate_unique_id(self):\n",
    "        while True:\n",
    "            id_mouse = random.randint(10000, 99999)\n",
    "            if id_mouse not in Mouse.assigned_ids:\n",
    "                Mouse.assigned_ids.add(id_mouse)\n",
    "                return id_mouse\n",
    "    \n",
    "    def __str__(self):\n",
    "        return f\"Mouse {Mouse.counter_mouses}: {self._model} - ID: {self._id_mouse}\\n{super().__str__()}\""
   ]
  },
  {
   "cell_type": "code",
   "execution_count": 27,
   "metadata": {},
   "outputs": [
    {
     "name": "stdout",
     "output_type": "stream",
     "text": [
      "Mouse 1: G506 - ID: 44024\n",
      "· Type: Clicking\n",
      "· Brand: Logitech\n"
     ]
    }
   ],
   "source": [
    "mouse01 = Mouse(\"Clicking\", \"Logitech\", \"G506\")\n",
    "print(mouse01)"
   ]
  },
  {
   "cell_type": "code",
   "execution_count": null,
   "metadata": {},
   "outputs": [],
   "source": []
  }
 ],
 "metadata": {
  "kernelspec": {
   "display_name": "Python 3",
   "language": "python",
   "name": "python3"
  },
  "language_info": {
   "codemirror_mode": {
    "name": "ipython",
    "version": 3
   },
   "file_extension": ".py",
   "mimetype": "text/x-python",
   "name": "python",
   "nbconvert_exporter": "python",
   "pygments_lexer": "ipython3",
   "version": "3.8.3"
  }
 },
 "nbformat": 4,
 "nbformat_minor": 4
}
