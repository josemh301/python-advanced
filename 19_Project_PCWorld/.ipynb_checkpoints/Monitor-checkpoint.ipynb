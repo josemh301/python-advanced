{
 "cells": [
  {
   "cell_type": "code",
   "execution_count": 25,
   "metadata": {},
   "outputs": [],
   "source": [
    "import random"
   ]
  },
  {
   "cell_type": "code",
   "execution_count": 26,
   "metadata": {},
   "outputs": [],
   "source": [
    "class Monitor(InputDevices):\n",
    "    \n",
    "    assigned_ids = set()\n",
    "    counter_monitors = 0\n",
    "\n",
    "    def __init__(self, entry_type, brand, model):\n",
    "        # Generate a unique random ID\n",
    "        unique_id = self._generate_unique_id()\n",
    "        Monitor.counter_monitors += 1\n",
    "        super().__init__(entry_type, brand)\n",
    "        self._id_monitor = unique_id\n",
    "        self._model = model\n",
    "        \n",
    "        \n",
    "    def _generate_unique_id(self):\n",
    "        while True:\n",
    "            id_monitor = random.randint(10000, 99999)\n",
    "            if id_monitor not in Monitor.assigned_ids:\n",
    "                Monitor.assigned_ids.add(id_monitor)\n",
    "                return id_monitor\n",
    "    \n",
    "    def __str__(self):\n",
    "        return f\"Monitor {Monitor.counter_monitors}: {self._model} - ID: {self._id_monitor}\\n{super().__str__()}\""
   ]
  },
  {
   "cell_type": "code",
   "execution_count": 1,
   "metadata": {},
   "outputs": [],
   "source": [
    "# monitor01 = Monitor(\"Clicking\", \"Logitech\", \"G506\")\n",
    "# print(monitor01)"
   ]
  }
 ],
 "metadata": {
  "kernelspec": {
   "display_name": "Python 3",
   "language": "python",
   "name": "python3"
  },
  "language_info": {
   "codemirror_mode": {
    "name": "ipython",
    "version": 3
   },
   "file_extension": ".py",
   "mimetype": "text/x-python",
   "name": "python",
   "nbconvert_exporter": "python",
   "pygments_lexer": "ipython3",
   "version": "3.8.3"
  }
 },
 "nbformat": 4,
 "nbformat_minor": 4
}
