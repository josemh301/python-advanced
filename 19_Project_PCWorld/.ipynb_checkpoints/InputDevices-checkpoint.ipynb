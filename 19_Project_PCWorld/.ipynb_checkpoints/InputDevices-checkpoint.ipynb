{
 "cells": [
  {
   "cell_type": "code",
   "execution_count": 5,
   "metadata": {},
   "outputs": [],
   "source": [
    "class InputDevices:\n",
    "    def __init__(self, entry_type, brand):\n",
    "        self._entry_type = entry_type\n",
    "        self._brand = brand\n",
    "        \n",
    "    def __str__(self):\n",
    "        return f\"· Type: {self._entry_type}\\n· Brand: {self._brand}\""
   ]
  }
 ],
 "metadata": {
  "kernelspec": {
   "display_name": "Python 3",
   "language": "python",
   "name": "python3"
  },
  "language_info": {
   "codemirror_mode": {
    "name": "ipython",
    "version": 3
   },
   "file_extension": ".py",
   "mimetype": "text/x-python",
   "name": "python",
   "nbconvert_exporter": "python",
   "pygments_lexer": "ipython3",
   "version": "3.8.3"
  }
 },
 "nbformat": 4,
 "nbformat_minor": 4
}
