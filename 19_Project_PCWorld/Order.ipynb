{
 "cells": [
  {
   "cell_type": "code",
   "execution_count": null,
   "metadata": {},
   "outputs": [],
   "source": [
    "import random\n",
    "\n",
    "class Order:\n",
    "\n",
    "    assigned_ids = set()\n",
    "    counter_orders = 0\n",
    "    computers = list()\n",
    "\n",
    "    def __init__(self, computer):\n",
    "        # Generate a unique random ID\n",
    "        unique_id = self._generate_unique_id()\n",
    "        counter_orders += 1\n",
    "        self._id_order = unique_id\n",
    "        self._computers = list(computer)\n",
    "        \n",
    "        ## computers.append(computer)\n",
    "\n",
    "    def _generate_unique_id(self):\n",
    "        while True:\n",
    "            id_order = random.randint(10000, 99999)\n",
    "            if id_order not in Order.assigned_ids:\n",
    "                Order.assigned_ids.add(id_order)\n",
    "                return id_order\n",
    "    \n",
    "    def add_computer(self, computer):\n",
    "        self._computers.append(computer)\n",
    "        \n",
    "    def __str__(self):\n",
    "        return computer in computers"
   ]
  }
 ],
 "metadata": {
  "kernelspec": {
   "display_name": "Python 3",
   "language": "python",
   "name": "python3"
  },
  "language_info": {
   "codemirror_mode": {
    "name": "ipython",
    "version": 3
   },
   "file_extension": ".py",
   "mimetype": "text/x-python",
   "name": "python",
   "nbconvert_exporter": "python",
   "pygments_lexer": "ipython3",
   "version": "3.8.3"
  }
 },
 "nbformat": 4,
 "nbformat_minor": 4
}
