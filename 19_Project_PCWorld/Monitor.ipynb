{
 "cells": [
  {
   "cell_type": "code",
   "execution_count": 15,
   "metadata": {},
   "outputs": [],
   "source": [
    "import random"
   ]
  },
  {
   "cell_type": "code",
   "execution_count": 20,
   "metadata": {},
   "outputs": [],
   "source": [
    "class Monitor():\n",
    "    \n",
    "    assigned_ids = set()\n",
    "    counter_monitors = 0\n",
    "\n",
    "    def __init__(self, brand, size):\n",
    "        Monitor.counter_monitors += 1\n",
    "        self._id_monitor = self._generate_unique_id()\n",
    "        self._brand = brand\n",
    "        self._size = size\n",
    "        \n",
    "        \n",
    "    def _generate_unique_id(self):\n",
    "        while True:\n",
    "            id_monitor = random.randint(10000, 99999)\n",
    "            if id_monitor not in Monitor.assigned_ids:\n",
    "                Monitor.assigned_ids.add(id_monitor)\n",
    "                return id_monitor\n",
    "    \n",
    "    def __str__(self):\n",
    "        return f\"\"\"\n",
    "Monitor {Monitor.counter_monitors} - ID: {self._id_monitor}\n",
    "· Brand: {self._brand}\n",
    "· Size: {self._size}\"\"\""
   ]
  }
 ],
 "metadata": {
  "kernelspec": {
   "display_name": "Python 3",
   "language": "python",
   "name": "python3"
  },
  "language_info": {
   "codemirror_mode": {
    "name": "ipython",
    "version": 3
   },
   "file_extension": ".py",
   "mimetype": "text/x-python",
   "name": "python",
   "nbconvert_exporter": "python",
   "pygments_lexer": "ipython3",
   "version": "3.8.3"
  }
 },
 "nbformat": 4,
 "nbformat_minor": 4
}
