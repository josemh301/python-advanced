{
 "cells": [
  {
   "cell_type": "markdown",
   "metadata": {},
   "source": [
    "# 10 Classes\n",
    "\n",
    "### Glossary\n",
    "   - **Class:** A class is a blueprint for creating objects. It defines a set of attributes and methods that will characterize any object of that class.\n",
    "   - **Instance:** An instance is a concrete occurrence of any object. It's created from a class. Each instance is a separate object with its own identity and its own set of attributes and behaviors.\n",
    "\n",
    "## Atributes\n",
    "\n",
    "In Python, the distinction between class attributes and instance (object) attributes is an important aspect of object-oriented programming. Here's an explanation of each:\n",
    "\n",
    "1. **Class Attributes:**\n",
    "   - Class attributes belong to the class itself. They are shared by all instances of the class. This means that if you change the value of a class attribute, it affects all instances of the class.\n",
    "   - Class attributes are defined directly in the class body, outside of any methods.\n",
    "   - Example:\n",
    "     ```python\n",
    "     class MyClass:\n",
    "         class_attribute = \"Shared by all instances\"\n",
    "\n",
    "     # Accessing class attribute\n",
    "     print(MyClass.class_attribute)  # Output: \"Shared by all instances\"\n",
    "\n",
    "     instance1 = MyClass()\n",
    "     instance2 = MyClass()\n",
    "     print(instance1.class_attribute)  # Output: \"Shared by all instances\"\n",
    "     print(instance2.class_attribute)  # Output: \"Shared by all instances\"\n",
    "     ```\n",
    "\n",
    "2. **Instance (Object) Attributes:**\n",
    "   - Instance attributes are specific to each instance of the class. They are not shared across instances. Each instance has its own copy of instance attributes.\n",
    "   - They are typically defined within methods (usually within `__init__`, the constructor method) and use the `self` keyword.\n",
    "   - Example:\n",
    "     ```python\n",
    "     class MyClass:\n",
    "         def __init__(self, instance_attribute):\n",
    "             self.instance_attribute = instance_attribute\n",
    "\n",
    "     instance1 = MyClass(\"Unique to instance1\")\n",
    "     instance2 = MyClass(\"Unique to instance2\")\n",
    "\n",
    "     print(instance1.instance_attribute)  # Output: \"Unique to instance1\"\n",
    "     print(instance2.instance_attribute)  # Output: \"Unique to instance2\"\n",
    "     ```\n",
    "     \n",
    "In summary, class attributes are used for properties that should be the same for each instance of the class, while instance attributes are used for properties that vary from one instance to another. This distinction allows for more flexible and organized code, especially in larger and more complex applications.\n",
    "\n",
    "| Aspect                 | Class Attributes                          | Instance Attributes                     |\n",
    "|------------------------|-------------------------------------------|-----------------------------------------|\n",
    "| **Definition**         | Defined directly in the class body.       | Defined within methods (usually `__init__`). |\n",
    "| **Scope**              | Belong to the class itself.               | Belong to each instance of the class.   |\n",
    "| **Shared Across**      | Shared by all instances of the class.     | Unique to each instance.                |\n",
    "| **Modification Effect**| Changing a class attribute affects all instances. | Changing an instance attribute only affects that instance. |\n",
    "| **Typical Usage**      | Used for properties that are common to all instances. | Used for properties that vary between instances. |\n",
    "| **Access**             | Accessed using class name or instance.    | Accessed through the instance only.     |\n",
    "| **Keyword in Definition**| Not applicable (defined directly in class body). | Uses `self` to refer to instance attributes. |\n",
    "| **Example**            | `class MyClass: class_attribute = \"Shared\"` | `def __init__(self): self.instance_attribute = \"Unique\"` |\n",
    "\n",
    "\n"
   ]
  },
  {
   "cell_type": "code",
   "execution_count": 10,
   "metadata": {},
   "outputs": [
    {
     "name": "stdout",
     "output_type": "stream",
     "text": [
      "31 Josh\n"
     ]
    }
   ],
   "source": [
    "class PersonA:\n",
    "    def __init__(self): #dunder init method\n",
    "        self.name = \"Josh\"\n",
    "        self.surname = \"McDillan\"\n",
    "        self.age = 31\n",
    "        \n",
    "#creating an object\n",
    "person01 = PersonA()\n",
    "print(person01.age, person01.name)"
   ]
  },
  {
   "cell_type": "code",
   "execution_count": 33,
   "metadata": {},
   "outputs": [
    {
     "name": "stdout",
     "output_type": "stream",
     "text": [
      "54 Daniel Craig\n"
     ]
    }
   ],
   "source": [
    "#now adding parameters to the init method\n",
    "class PersonB:\n",
    "    def __init__(self, name, surname, age): #dunder init method\n",
    "        self.name = name #self.name is not the same as name\n",
    "        self.surname = surname\n",
    "        self.age = age\n",
    "        \n",
    "#creating an object\n",
    "person01 = PersonB(\"Daniel\", \"Craig\", 54)\n",
    "print(person01.age, person01.name, person01.surname)"
   ]
  },
  {
   "cell_type": "code",
   "execution_count": 41,
   "metadata": {},
   "outputs": [],
   "source": [
    "#Car example: class and objects\n",
    "\n",
    "#a class might have attributes and methods\n",
    "\n",
    "class Car:\n",
    "    #here you would add class attributes\n",
    "    def __init__(self, brand, model, year, engine_cc, price, horsepower, seats, trunk_capacity, max_speed, zero_to_hundred_time):\n",
    "        #these are all instace attributes (don't share info between different object):\n",
    "        self.brand = brand\n",
    "        self.model = model\n",
    "        self.year = year\n",
    "        self.engine_cc = engine_cc  # cubic centimeters\n",
    "        self.price = price\n",
    "        self.horsepower = horsepower\n",
    "        self.seats = seats\n",
    "        self.trunk_capacity = trunk_capacity\n",
    "        self.max_speed = max_speed\n",
    "        self.zero_to_hundred_time = zero_to_hundred_time\n",
    "    \n",
    "    #methods:\n",
    "    def show_detail(self):\n",
    "        print(f\"The car is a {self.brand} {self.model} from {self.year}, with a price of {self.price} USD.\")\n",
    "        pass\n",
    "\n",
    "# Creating objects\n",
    "\n",
    "# Creating a Ferrari object\n",
    "ferrari = Car(\n",
    "    brand=\"Ferrari\",\n",
    "    model=\"F8 Tributo\",\n",
    "    year=2023,\n",
    "    engine_cc=3902,  # 3.9L V8 engine\n",
    "    price=276450,  # Approximate price in USD\n",
    "    horsepower=710,\n",
    "    seats=2,\n",
    "    trunk_capacity=200,  # Estimated trunk capacity in liters\n",
    "    max_speed=340,  # Max speed in km/h\n",
    "    zero_to_hundred_time=2.9  # 0 to 100 km/h time in seconds\n",
    ")\n",
    "\n",
    "# Creating a regular, affordable car object\n",
    "toyota = Car(\n",
    "    brand=\"Toyota\",\n",
    "    model=\"Corolla\",\n",
    "    year=2021,\n",
    "    engine_cc=1798,  # 1.8L engine\n",
    "    price=19995,  # Approximate price in USD\n",
    "    horsepower=139,\n",
    "    seats=5,\n",
    "    trunk_capacity=371,  # Trunk capacity in liters\n",
    "    max_speed=180,  # Max speed in km/h\n",
    "    zero_to_hundred_time=9.0  # 0 to 100 km/h time in seconds\n",
    ")\n"
   ]
  },
  {
   "cell_type": "code",
   "execution_count": 42,
   "metadata": {},
   "outputs": [
    {
     "name": "stdout",
     "output_type": "stream",
     "text": [
      "Ferrari 0x26adae26640\n",
      "Toyota 0x26adabcbf10\n",
      "Toyota 2657959591696\n"
     ]
    }
   ],
   "source": [
    "#print object reference\n",
    "\n",
    "print(ferrari.brand, hex(id(ferrari)))\n",
    "print(toyota.brand, hex(id(toyota_corolla)))\n",
    "print(toyota.brand, id(toyota_corolla))"
   ]
  },
  {
   "cell_type": "code",
   "execution_count": 43,
   "metadata": {},
   "outputs": [
    {
     "name": "stdout",
     "output_type": "stream",
     "text": [
      "Old: Ferrari 200\n",
      "New: Ferrari 175\n"
     ]
    }
   ],
   "source": [
    "#modify object attributes\n",
    "\n",
    "print(\"Old:\", ferrari.brand, ferrari.trunk_capacity)\n",
    "\n",
    "#modify trunk capacity of the Ferrari object\n",
    "\n",
    "ferrari.trunk_capacity = 175\n",
    "\n",
    "print(\"New:\", ferrari.brand, ferrari.trunk_capacity)\n",
    "\n",
    "#this must be done with methods and encapsulation"
   ]
  },
  {
   "cell_type": "code",
   "execution_count": 44,
   "metadata": {},
   "outputs": [
    {
     "name": "stdout",
     "output_type": "stream",
     "text": [
      "The car is a Toyota Corolla from 2021, with a price of 20000 USD.\n",
      "The car is a Ferrari F8 Tributo from 2023, with a price of 276450 USD.\n"
     ]
    }
   ],
   "source": [
    "#using the created method\n",
    "\n",
    "toyota.show_detail() #using the method\n",
    "ferrari.show_detail()"
   ]
  },
  {
   "cell_type": "code",
   "execution_count": 46,
   "metadata": {},
   "outputs": [
    {
     "name": "stdout",
     "output_type": "stream",
     "text": [
      "The car is a Ferrari F8 Tributo from 2023, with a price of 276450 USD.\n"
     ]
    }
   ],
   "source": [
    "#show method using the class name (Car)\n",
    "\n",
    "Car.show_detail(ferrari)"
   ]
  },
  {
   "cell_type": "code",
   "execution_count": 49,
   "metadata": {},
   "outputs": [
    {
     "name": "stdout",
     "output_type": "stream",
     "text": [
      "Red\n"
     ]
    }
   ],
   "source": [
    "#create an attribute for just one object\n",
    "# it wont be shared with other object\n",
    "\n",
    "ferrari.color = \"Red\"\n",
    "print(ferrari.color)"
   ]
  },
  {
   "cell_type": "code",
   "execution_count": 48,
   "metadata": {},
   "outputs": [
    {
     "ename": "AttributeError",
     "evalue": "'Car' object has no attribute 'color'",
     "output_type": "error",
     "traceback": [
      "\u001b[1;31m---------------------------------------------------------------------------\u001b[0m",
      "\u001b[1;31mAttributeError\u001b[0m                            Traceback (most recent call last)",
      "Cell \u001b[1;32mIn[48], line 2\u001b[0m\n\u001b[0;32m      1\u001b[0m \u001b[38;5;66;03m#this won't work\u001b[39;00m\n\u001b[1;32m----> 2\u001b[0m \u001b[38;5;28mprint\u001b[39m(\u001b[43mtoyota\u001b[49m\u001b[38;5;241;43m.\u001b[39;49m\u001b[43mcolor\u001b[49m)\n",
      "\u001b[1;31mAttributeError\u001b[0m: 'Car' object has no attribute 'color'"
     ]
    }
   ],
   "source": [
    "#this won't work becasuse we have only modified Ferrari object\n",
    "print(toyota.color)"
   ]
  },
  {
   "cell_type": "code",
   "execution_count": 7,
   "metadata": {},
   "outputs": [
    {
     "ename": "AttributeError",
     "evalue": "'tuple' object has no attribute 'keys'",
     "output_type": "error",
     "traceback": [
      "\u001b[1;31m---------------------------------------------------------------------------\u001b[0m",
      "\u001b[1;31mAttributeError\u001b[0m                            Traceback (most recent call last)",
      "Cell \u001b[1;32mIn[7], line 18\u001b[0m\n\u001b[0;32m     16\u001b[0m \u001b[38;5;66;03m#creating an object\u001b[39;00m\n\u001b[0;32m     17\u001b[0m person01 \u001b[38;5;241m=\u001b[39m PersonC(\u001b[38;5;124m\"\u001b[39m\u001b[38;5;124mAnthony\u001b[39m\u001b[38;5;124m\"\u001b[39m, \u001b[38;5;124m\"\u001b[39m\u001b[38;5;124mTaylor\u001b[39m\u001b[38;5;124m\"\u001b[39m, \u001b[38;5;241m24\u001b[39m, \u001b[38;5;241m13\u001b[39m,\u001b[38;5;241m7\u001b[39m,\u001b[38;5;241m5\u001b[39m, a\u001b[38;5;241m=\u001b[39m\u001b[38;5;124m\"\u001b[39m\u001b[38;5;124mapples\u001b[39m\u001b[38;5;124m\"\u001b[39m, p\u001b[38;5;241m=\u001b[39m\u001b[38;5;124m\"\u001b[39m\u001b[38;5;124mpeaches\u001b[39m\u001b[38;5;124m\"\u001b[39m)\n\u001b[1;32m---> 18\u001b[0m \u001b[43mperson01\u001b[49m\u001b[38;5;241;43m.\u001b[39;49m\u001b[43mprinting\u001b[49m\u001b[43m(\u001b[49m\u001b[43m)\u001b[49m\n",
      "Cell \u001b[1;32mIn[7], line 14\u001b[0m, in \u001b[0;36mPersonC.printing\u001b[1;34m(self)\u001b[0m\n\u001b[0;32m     13\u001b[0m \u001b[38;5;28;01mdef\u001b[39;00m \u001b[38;5;21mprinting\u001b[39m(\u001b[38;5;28mself\u001b[39m):\n\u001b[1;32m---> 14\u001b[0m     \u001b[38;5;28mprint\u001b[39m(\u001b[38;5;124mf\u001b[39m\u001b[38;5;124m\"\u001b[39m\u001b[38;5;132;01m{\u001b[39;00m\u001b[38;5;28mself\u001b[39m\u001b[38;5;241m.\u001b[39mname\u001b[38;5;132;01m}\u001b[39;00m\u001b[38;5;124m \u001b[39m\u001b[38;5;132;01m{\u001b[39;00m\u001b[38;5;28mself\u001b[39m\u001b[38;5;241m.\u001b[39msurname\u001b[38;5;132;01m}\u001b[39;00m\u001b[38;5;124m has \u001b[39m\u001b[38;5;132;01m{\u001b[39;00m\u001b[38;5;28mself\u001b[39m\u001b[38;5;241m.\u001b[39mage\u001b[38;5;132;01m}\u001b[39;00m\u001b[38;5;124m.\u001b[39m\u001b[38;5;130;01m\\n\u001b[39;00m\u001b[38;5;132;01m{\u001b[39;00m\u001b[38;5;28mself\u001b[39m\u001b[38;5;241m.\u001b[39mname\u001b[38;5;132;01m}\u001b[39;00m\u001b[38;5;124m'\u001b[39m\u001b[38;5;124ms favourite numbers are \u001b[39m\u001b[38;5;132;01m{\u001b[39;00m\u001b[38;5;28mself\u001b[39m\u001b[38;5;241m.\u001b[39margs\u001b[38;5;241m.\u001b[39mkeys()\u001b[38;5;132;01m}\u001b[39;00m\u001b[38;5;130;01m\\n\u001b[39;00m\u001b[38;5;124mAnd the favourite fruits are \u001b[39m\u001b[38;5;132;01m{\u001b[39;00m\u001b[38;5;28mself\u001b[39m\u001b[38;5;241m.\u001b[39mkwargs\u001b[38;5;132;01m}\u001b[39;00m\u001b[38;5;124m\"\u001b[39m)\n",
      "\u001b[1;31mAttributeError\u001b[0m: 'tuple' object has no attribute 'keys'"
     ]
    }
   ],
   "source": [
    "#robusting __init__\n",
    "\n",
    "#using a tupple *args or dictionary **kwargs\n",
    "\n",
    "class PersonC:\n",
    "    def __init__(self, name, surname, age, *args, **kwargs): #dunder init method\n",
    "        self.name = name\n",
    "        self.surname = surname\n",
    "        self.age = age\n",
    "        self.args = args\n",
    "        self.kwargs = kwargs\n",
    "        \n",
    "    def printing(self):\n",
    "        print(f\"{self.name} {self.surname} has {self.age}.\\n{self.name}'s favourite numbers are {self.args}\\nAnd the favourite fruits are {self.kwargs}\")\n",
    "        \n",
    "#creating an object\n",
    "person01 = PersonC(\"Anthony\", \"Taylor\", 24, 13,7,5, a=\"apples\", p=\"peaches\")\n",
    "person01.printing()"
   ]
  },
  {
   "cell_type": "code",
   "execution_count": null,
   "metadata": {},
   "outputs": [],
   "source": []
  }
 ],
 "metadata": {
  "kernelspec": {
   "display_name": "Python 3",
   "language": "python",
   "name": "python3"
  },
  "language_info": {
   "codemirror_mode": {
    "name": "ipython",
    "version": 3
   },
   "file_extension": ".py",
   "mimetype": "text/x-python",
   "name": "python",
   "nbconvert_exporter": "python",
   "pygments_lexer": "ipython3",
   "version": "3.8.3"
  }
 },
 "nbformat": 4,
 "nbformat_minor": 4
}
