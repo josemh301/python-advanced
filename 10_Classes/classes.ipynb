{
 "cells": [
  {
   "cell_type": "markdown",
   "metadata": {},
   "source": [
    "# 10 Classes\n",
    "\n",
    "### Glossary\n",
    "   - **Class:** A class is a blueprint for creating objects. It defines a set of attributes and methods that will characterize any object of that class.\n",
    "   - **Instance:** An instance is a concrete occurrence of any object. It's created from a class. Each instance is a separate object with its own identity and its own set of attributes and behaviors.\n",
    "\n",
    "## Atributes\n",
    "\n",
    "In Python, the distinction between class attributes and instance (object) attributes is an important aspect of object-oriented programming. Here's an explanation of each:\n",
    "\n",
    "1. **Class Attributes:**\n",
    "   - Class attributes belong to the class itself. They are shared by all instances of the class. This means that if you change the value of a class attribute, it affects all instances of the class.\n",
    "   - Class attributes are defined directly in the class body, outside of any methods.\n",
    "   - Example:\n",
    "     ```python\n",
    "     class MyClass:\n",
    "         class_attribute = \"Shared by all instances\"\n",
    "\n",
    "     # Accessing class attribute\n",
    "     print(MyClass.class_attribute)  # Output: \"Shared by all instances\"\n",
    "\n",
    "     instance1 = MyClass()\n",
    "     instance2 = MyClass()\n",
    "     print(instance1.class_attribute)  # Output: \"Shared by all instances\"\n",
    "     print(instance2.class_attribute)  # Output: \"Shared by all instances\"\n",
    "     ```\n",
    "\n",
    "2. **Instance (Object) Attributes:**\n",
    "   - Instance attributes are specific to each instance of the class. They are not shared across instances. Each instance has its own copy of instance attributes.\n",
    "   - They are typically defined within methods (usually within `__init__`, the constructor method) and use the `self` keyword.\n",
    "   - Example:\n",
    "     ```python\n",
    "     class MyClass:\n",
    "         def __init__(self, instance_attribute):\n",
    "             self.instance_attribute = instance_attribute\n",
    "\n",
    "     instance1 = MyClass(\"Unique to instance1\")\n",
    "     instance2 = MyClass(\"Unique to instance2\")\n",
    "\n",
    "     print(instance1.instance_attribute)  # Output: \"Unique to instance1\"\n",
    "     print(instance2.instance_attribute)  # Output: \"Unique to instance2\"\n",
    "     ```\n",
    "     \n",
    "In summary, class attributes are used for properties that should be the same for each instance of the class, while instance attributes are used for properties that vary from one instance to another. This distinction allows for more flexible and organized code, especially in larger and more complex applications.\n",
    "\n",
    "| Aspect                 | Class Attributes                          | Instance Attributes                     |\n",
    "|------------------------|-------------------------------------------|-----------------------------------------|\n",
    "| **Definition**         | Defined directly in the class body.       | Defined within methods (usually `__init__`). |\n",
    "| **Scope**              | Belong to the class itself.               | Belong to each instance of the class.   |\n",
    "| **Shared Across**      | Shared by all instances of the class.     | Unique to each instance.                |\n",
    "| **Modification Effect**| Changing a class attribute affects all instances. | Changing an instance attribute only affects that instance. |\n",
    "| **Typical Usage**      | Used for properties that are common to all instances. | Used for properties that vary between instances. |\n",
    "| **Access**             | Accessed using class name or instance.    | Accessed through the instance only.     |\n",
    "| **Keyword in Definition**| Not applicable (defined directly in class body). | Uses `self` to refer to instance attributes. |\n",
    "| **Example**            | `class MyClass: class_attribute = \"Shared\"` | `def __init__(self): self.instance_attribute = \"Unique\"` |\n",
    "\n",
    "\n"
   ]
  },
  {
   "cell_type": "code",
   "execution_count": 10,
   "metadata": {},
   "outputs": [
    {
     "name": "stdout",
     "output_type": "stream",
     "text": [
      "31 Josh\n"
     ]
    }
   ],
   "source": [
    "class PersonA:\n",
    "    def __init__(self): #dunder init method\n",
    "        self.name = \"Josh\"\n",
    "        self.surname = \"McDillan\"\n",
    "        self.age = 31\n",
    "        \n",
    "#creating an object\n",
    "person01 = PersonA()\n",
    "print(person01.age, person01.name)"
   ]
  },
  {
   "cell_type": "code",
   "execution_count": 13,
   "metadata": {},
   "outputs": [
    {
     "name": "stdout",
     "output_type": "stream",
     "text": [
      "54 Daniel Craig\n"
     ]
    }
   ],
   "source": [
    "#now adding parameters to the init method\n",
    "class PersonB:\n",
    "    def __init__(self, name, surname, age): #dunder init method\n",
    "        self.name = name #self.name is not the same as name\n",
    "        self.surname = surname\n",
    "        self.age = age\n",
    "        \n",
    "#creating an object\n",
    "person01 = PersonB(\"Daniel\", \"Craig\", 54)\n",
    "print(person01.age, person01.name, person01.surname)"
   ]
  },
  {
   "cell_type": "code",
   "execution_count": 17,
   "metadata": {},
   "outputs": [
    {
     "name": "stdout",
     "output_type": "stream",
     "text": [
      "13\n"
     ]
    }
   ],
   "source": [
    "#Car example: class and objects\n",
    "\n",
    "class Car:\n",
    "    def __init__(self, brand, model, year, engine_cc, price, horsepower, seats, trunk_capacity, max_speed, zero_to_hundred_time):\n",
    "        self.brand = brand\n",
    "        self.model = model\n",
    "        self.year = year\n",
    "        self.engine_cc = engine_cc  # cubic centimeters\n",
    "        self.price = price\n",
    "        self.horsepower = horsepower\n",
    "        self.seats = seats\n",
    "        self.trunk_capacity = trunk_capacity\n",
    "        self.max_speed = max_speed\n",
    "        self.zero_to_hundred_time = zero_to_hundred_time\n",
    "\n",
    "\n",
    "# Creating objects\n",
    "\n",
    "# Creating a Ferrari object\n",
    "ferrari = Car(\n",
    "    brand=\"Ferrari\",\n",
    "    model=\"F8 Tributo\",\n",
    "    year=2021,\n",
    "    engine_cc=3902,  # 3.9L V8 engine\n",
    "    price=276450,  # Approximate price in USD\n",
    "    horsepower=710,\n",
    "    seats=2,\n",
    "    trunk_capacity=200,  # Estimated trunk capacity in liters\n",
    "    max_speed=340,  # Max speed in km/h\n",
    "    zero_to_hundred_time=2.9  # 0 to 100 km/h time in seconds\n",
    ")\n",
    "\n",
    "# Creating a regular, affordable car object\n",
    "toyota_corolla = Car(\n",
    "    brand=\"Toyota\",\n",
    "    model=\"Corolla\",\n",
    "    year=2021,\n",
    "    engine_cc=1798,  # 1.8L engine\n",
    "    price=20000,  # Approximate price in USD\n",
    "    horsepower=139,\n",
    "    seats=5,\n",
    "    trunk_capacity=371,  # Trunk capacity in liters\n",
    "    max_speed=180,  # Max speed in km/h\n",
    "    zero_to_hundred_time=9.0  # 0 to 100 km/h time in seconds\n",
    ")\n",
    "\n",
    "\n",
    "print(ferrari.price // toyota_corolla.price)\n"
   ]
  },
  {
   "cell_type": "code",
   "execution_count": null,
   "metadata": {},
   "outputs": [],
   "source": []
  }
 ],
 "metadata": {
  "kernelspec": {
   "display_name": "Python 3",
   "language": "python",
   "name": "python3"
  },
  "language_info": {
   "codemirror_mode": {
    "name": "ipython",
    "version": 3
   },
   "file_extension": ".py",
   "mimetype": "text/x-python",
   "name": "python",
   "nbconvert_exporter": "python",
   "pygments_lexer": "ipython3",
   "version": "3.8.3"
  }
 },
 "nbformat": 4,
 "nbformat_minor": 4
}
