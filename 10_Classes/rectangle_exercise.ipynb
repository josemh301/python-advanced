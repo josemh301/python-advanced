{
 "cells": [
  {
   "cell_type": "markdown",
   "metadata": {},
   "source": [
    "# 10_03 Geometry exercises"
   ]
  },
  {
   "cell_type": "code",
   "execution_count": 13,
   "metadata": {},
   "outputs": [
    {
     "name": "stdout",
     "output_type": "stream",
     "text": [
      "The area of a 2 x 3.24 rectangle is: 6.47\n"
     ]
    }
   ],
   "source": [
    "class Rectangle:\n",
    "    # Constructor\n",
    "    def __init__(self, short_side):\n",
    "        self.short_side = short_side\n",
    "        self.phi = (1 + (5 ** 0.5)) / 2\n",
    "\n",
    "    # Method to calculate the long side\n",
    "    def calculate_long_side(self):\n",
    "        long_side = self.short_side * self.phi\n",
    "        return long_side\n",
    "\n",
    "    # Method to calculate the area\n",
    "    def calculate_area(self):\n",
    "        long_side = self.calculate_long_side()\n",
    "        area = self.short_side * long_side\n",
    "        return area\n",
    "    \n",
    "    # Method to print the area\n",
    "    def printing_area(self):\n",
    "        area = self.calculate_area()\n",
    "        print(f\"The area of a {self.short_side} x {self.calculate_long_side():.2f} rectangle is: {area:.2f}\")\n",
    "\n",
    "rectangle01 = Rectangle(2)\n",
    "rectangle01.printing_area()"
   ]
  },
  {
   "cell_type": "code",
   "execution_count": 17,
   "metadata": {},
   "outputs": [
    {
     "name": "stdout",
     "output_type": "stream",
     "text": [
      "The area of a 11.37 x 34 triangle is 193.29\n"
     ]
    }
   ],
   "source": [
    "class Triangle:\n",
    "    #Constuctor\n",
    "    def __init__(self, base, height):\n",
    "        self.base = base\n",
    "        self.height = height\n",
    "    \n",
    "    #method\n",
    "    def calculate_area(self):\n",
    "        area = (self.base * self.height) / 2\n",
    "        return area\n",
    "    \n",
    "    #method printing\n",
    "    def printing(self):\n",
    "        area = self.calculate_area()\n",
    "        print(f\"The area of a {self.base} x {self.height} triangle is {area}\")\n",
    "        \n",
    "triangle01 = Triangle(11.37,34)\n",
    "triangle01.printing()"
   ]
  },
  {
   "cell_type": "code",
   "execution_count": 24,
   "metadata": {},
   "outputs": [
    {
     "name": "stdout",
     "output_type": "stream",
     "text": [
      "The volume of a 2 cube is 8.\n"
     ]
    }
   ],
   "source": [
    "class Cube:\n",
    "    def __init__(self, side):\n",
    "        self.side = side\n",
    "        \n",
    "    def cube_volume(self):\n",
    "        cube_volume = self.side ** 3\n",
    "        return cube_volume\n",
    "        \n",
    "    def printing(self):\n",
    "        print(f\"The volume of a {self.side} cube is {self.cube_volume()}.\")\n",
    "\n",
    "cube01 = Cube(2)\n",
    "cube01.printing()"
   ]
  },
  {
   "cell_type": "code",
   "execution_count": null,
   "metadata": {},
   "outputs": [],
   "source": []
  }
 ],
 "metadata": {
  "kernelspec": {
   "display_name": "Python 3",
   "language": "python",
   "name": "python3"
  },
  "language_info": {
   "codemirror_mode": {
    "name": "ipython",
    "version": 3
   },
   "file_extension": ".py",
   "mimetype": "text/x-python",
   "name": "python",
   "nbconvert_exporter": "python",
   "pygments_lexer": "ipython3",
   "version": "3.8.3"
  }
 },
 "nbformat": 4,
 "nbformat_minor": 4
}
