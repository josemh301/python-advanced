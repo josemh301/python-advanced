{
 "cells": [
  {
   "cell_type": "code",
   "execution_count": 12,
   "metadata": {},
   "outputs": [
    {
     "name": "stdout",
     "output_type": "stream",
     "text": [
      "54\n",
      "42\n",
      "288\n",
      "8.0\n",
      "79\n",
      "51\n",
      "910\n",
      "4.643\n"
     ]
    }
   ],
   "source": [
    "class Arithmetic:  # Corrected class name\n",
    "    \"\"\"\n",
    "    This class performs basic arithmetic operations such as addition, subtraction, multiplication, and division.\n",
    "    \"\"\"\n",
    "    def __init__(self, number_a, number_b): \n",
    "        self.number_a = number_a\n",
    "        self.number_b = number_b\n",
    "        \n",
    "    def add(self): \n",
    "        return self.number_a + self.number_b\n",
    "    \n",
    "    def subtract(self):  \n",
    "        return self.number_a - self.number_b\n",
    "    \n",
    "    def multiply(self):\n",
    "        return self.number_a * self.number_b\n",
    "    \n",
    "    def divide(self): \n",
    "        return self.number_a / self.number_b\n",
    "    \n",
    "operation01 = Arithmetic(48, 6)\n",
    "\n",
    "print(operation01.add())\n",
    "print(operation01.subtract())\n",
    "print(operation01.multiply())\n",
    "print(operation01.divide())\n",
    "\n",
    "\n",
    "operation02 = Arithmetic(65, 14)\n",
    "print(operation02.add())\n",
    "print(operation02.subtract())\n",
    "print(operation02.multiply())\n",
    "print(f\"{operation02.divide():.3f}\")\n"
   ]
  },
  {
   "cell_type": "code",
   "execution_count": null,
   "metadata": {},
   "outputs": [],
   "source": []
  }
 ],
 "metadata": {
  "kernelspec": {
   "display_name": "Python 3",
   "language": "python",
   "name": "python3"
  },
  "language_info": {
   "codemirror_mode": {
    "name": "ipython",
    "version": 3
   },
   "file_extension": ".py",
   "mimetype": "text/x-python",
   "name": "python",
   "nbconvert_exporter": "python",
   "pygments_lexer": "ipython3",
   "version": "3.8.3"
  }
 },
 "nbformat": 4,
 "nbformat_minor": 4
}
