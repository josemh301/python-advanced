{
 "cells": [
  {
   "cell_type": "markdown",
   "metadata": {},
   "source": [
    "A thread in Python is a flow of execution, like a separate order of instructions. However, it's important to understand that within any Python program, you can have multiple threads running at the same time, and these threads can execute independently but share the same data space.\n",
    "\n",
    "To make it simpler, think of a thread as a worker in a factory. Imagine your Python program is a factory, and you have tasks to do, like calculating numbers or reading files. Normally, you would have one worker (thread) doing all these tasks one after the other. But sometimes, you want to be more efficient and do multiple tasks at the same time. That's where you bring in more workers (threads). Each worker can do a different task simultaneously. \n",
    "\n",
    "For example, one thread can be sorting a list while another is downloading a file from the internet. They are working at the same time but doing different tasks.\n",
    "\n",
    "However, there's an important thing to remember about threads in Python, especially with the Python Global Interpreter Lock (GIL). The GIL is a mechanism that prevents multiple native threads from executing Python bytecodes at once. This lock is necessary because Python's memory management is not thread-safe. So, in Python, even if you have multiple threads, only one thread is executing Python code at a time. This means that threads in Python are not as efficient for CPU-bound tasks (like heavy calculations) but are very useful for I/O-bound tasks (like file operations or network operations).\n",
    "\n",
    "To use threads in Python, you usually use the `threading` module, which allows you to create and manage threads easily. Here's a very basic example:\n",
    "\n",
    "```python\n",
    "import threading\n",
    "\n",
    "def print_numbers():\n",
    "    for i in range(1, 11):\n",
    "        print(i)\n",
    "\n",
    "# Create a thread that runs the print_numbers function\n",
    "thread = threading.Thread(target=print_numbers)\n",
    "\n",
    "# Start the thread\n",
    "thread.start()\n",
    "\n",
    "# Wait for the thread to complete\n",
    "thread.join()\n",
    "\n",
    "print(\"Thread finished execution\")\n",
    "```\n",
    "\n",
    "In this example, the `print_numbers` function is run in a separate thread. This means that while the numbers are being printed, your main program can do other things. However, in this simple example, we immediately wait for the thread to finish with `thread.join()`."
   ]
  },
  {
   "cell_type": "code",
   "execution_count": 2,
   "metadata": {},
   "outputs": [
    {
     "name": "stdout",
     "output_type": "stream",
     "text": [
      "1\n",
      "2\n",
      "3\n",
      "4\n",
      "5\n",
      "6\n",
      "7\n",
      "8\n",
      "9\n",
      "10\n",
      "Thread finished execution\n"
     ]
    }
   ],
   "source": [
    "import threading\n",
    "import time\n",
    "\n",
    "def print_numbers():\n",
    "    for i in range(1, 11):\n",
    "        time.sleep(10)\n",
    "        print(i)\n",
    "\n",
    "# Create a thread that runs the print_numbers function\n",
    "thread = threading.Thread(target=print_numbers)\n",
    "\n",
    "# Start the thread\n",
    "thread.start()\n",
    "\n",
    "# Wait for the thread to complete\n",
    "thread.join()\n",
    "\n",
    "print(\"Thread finished execution\")\n"
   ]
  },
  {
   "cell_type": "code",
   "execution_count": null,
   "metadata": {},
   "outputs": [],
   "source": []
  }
 ],
 "metadata": {
  "kernelspec": {
   "display_name": "Python 3",
   "language": "python",
   "name": "python3"
  },
  "language_info": {
   "codemirror_mode": {
    "name": "ipython",
    "version": 3
   },
   "file_extension": ".py",
   "mimetype": "text/x-python",
   "name": "python",
   "nbconvert_exporter": "python",
   "pygments_lexer": "ipython3",
   "version": "3.8.3"
  }
 },
 "nbformat": 4,
 "nbformat_minor": 4
}
