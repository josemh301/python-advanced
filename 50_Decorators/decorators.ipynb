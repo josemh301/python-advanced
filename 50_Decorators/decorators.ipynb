{
 "cells": [
  {
   "cell_type": "markdown",
   "metadata": {},
   "source": [
    "# 50_01 Decorators\n",
    "\n",
    "### Explanation\n",
    "\n",
    "In Python, a **decorator** is a design pattern that allows you to add new functionality to an existing object without modifying its structure. Decorators are very common in Python and are used to modify the behavior of functions or classes. Here's a basic overview:\n",
    "\n",
    "1. **Functionality Enhancement**: Decorators wrap a function, modifying its behavior.\n",
    "\n",
    "2. **Syntax**: Defined with the `@decorator_name` syntax placed above the function definition.\n",
    "\n",
    "3. **Inner Function**: Typically, a decorator is a higher-order function, meaning it takes a function as an argument and returns a new function.\n",
    "\n",
    "4. **Use Cases**: Common uses include logging, access control, measuring execution times, and more.\n",
    "\n",
    "Here's a simple example:\n",
    "\n",
    "```python\n",
    "def my_decorator(func):\n",
    "    def wrapper():\n",
    "        print(\"Something is happening before the function is called.\")\n",
    "        func()\n",
    "        print(\"Something is happening after the function is called.\")\n",
    "    return wrapper\n",
    "\n",
    "@my_decorator\n",
    "def say_hello():\n",
    "    print(\"Hello!\")\n",
    "\n",
    "say_hello()\n",
    "```\n",
    "\n",
    "In this example, `my_decorator` is a decorator that adds print statements before and after the execution of `say_hello()` function. When you call `say_hello()`, it actually calls the `wrapper()` function inside `my_decorator`.\n",
    "\n",
    "### Example"
   ]
  },
  {
   "cell_type": "code",
   "execution_count": 67,
   "metadata": {},
   "outputs": [
    {
     "name": "stdout",
     "output_type": "stream",
     "text": [
      "Line before running the function\n",
      "Hello from show_message function\n",
      "Line after running the function\n"
     ]
    }
   ],
   "source": [
    "# Decorator function a\n",
    "\n",
    "def decorator(decorate_function_a_b):\n",
    "    def decorator_func_c():\n",
    "        print(\"Line before running the function\")\n",
    "        decorate_function_a_b()\n",
    "        print(\"Line after running the function\")\n",
    "    return decorator_func_c\n",
    "\n",
    "@decorator\n",
    "def show_message():\n",
    "    print(\"Hello from show_message function\")\n",
    "    \n",
    "show_message()"
   ]
  },
  {
   "cell_type": "code",
   "execution_count": 68,
   "metadata": {},
   "outputs": [
    {
     "name": "stdout",
     "output_type": "stream",
     "text": [
      "Line before running the function\n",
      "Hello from printing function\n",
      "Line after running the function\n"
     ]
    }
   ],
   "source": [
    "@decorator\n",
    "def printing():\n",
    "    print(\"Hello from printing function\")\n",
    "    \n",
    "printing()"
   ]
  },
  {
   "cell_type": "markdown",
   "metadata": {},
   "source": [
    "### Practice 01"
   ]
  },
  {
   "cell_type": "code",
   "execution_count": 69,
   "metadata": {},
   "outputs": [
    {
     "name": "stdout",
     "output_type": "stream",
     "text": [
      "Yours faithfully,\n",
      "Jose M Hernandez\n",
      "Ex-LinkedIn & Ex-Google Assistant\n"
     ]
    }
   ],
   "source": [
    "def decorator(func):\n",
    "    def closing_signature():\n",
    "        print(\"Yours faithfully,\")\n",
    "        func()\n",
    "        print(\"Ex-LinkedIn & Ex-Google Assistant\")\n",
    "        \n",
    "    return closing_signature\n",
    "\n",
    "@decorator\n",
    "def signature():\n",
    "    name = \"Jose M Hernandez\"\n",
    "    print(name)\n",
    "    \n",
    "signature()"
   ]
  },
  {
   "cell_type": "markdown",
   "metadata": {},
   "source": [
    "### Practice 02"
   ]
  },
  {
   "cell_type": "code",
   "execution_count": 70,
   "metadata": {},
   "outputs": [
    {
     "name": "stdout",
     "output_type": "stream",
     "text": [
      "Approved by doctor:\n",
      "Anthony Taylor\n"
     ]
    }
   ],
   "source": [
    "def decorator(doctor_position):\n",
    "    def position():\n",
    "        print(\"Approved by doctor:\")\n",
    "        doctor_position()\n",
    "    return position\n",
    "\n",
    "\n",
    "\n",
    "@decorator\n",
    "def doctor_name():\n",
    "    name = \"Anthony Taylor\"\n",
    "    print(name)\n",
    "\n",
    "doctor_name()"
   ]
  },
  {
   "cell_type": "code",
   "execution_count": null,
   "metadata": {},
   "outputs": [],
   "source": []
  }
 ],
 "metadata": {
  "kernelspec": {
   "display_name": "Python 3",
   "language": "python",
   "name": "python3"
  },
  "language_info": {
   "codemirror_mode": {
    "name": "ipython",
    "version": 3
   },
   "file_extension": ".py",
   "mimetype": "text/x-python",
   "name": "python",
   "nbconvert_exporter": "python",
   "pygments_lexer": "ipython3",
   "version": "3.8.3"
  }
 },
 "nbformat": 4,
 "nbformat_minor": 4
}
