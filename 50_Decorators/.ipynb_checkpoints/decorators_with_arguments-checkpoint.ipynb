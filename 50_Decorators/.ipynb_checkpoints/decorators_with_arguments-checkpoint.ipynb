{
 "cells": [
  {
   "cell_type": "markdown",
   "metadata": {},
   "source": [
    "# 50_02 Decorators with arguments\n",
    " \n",
    "### Explanation\n",
    "\n",
    "A decorator with arguments in Python is an extension of the basic decorator concept, allowing you to pass extra parameters to the decorator itself. This gives you more control and flexibility over how the decorator modifies the behavior of the function it decorates.\n",
    "\n",
    "Here's a breakdown of how it works:\n",
    "\n",
    "1. **Decorator Factory**: To create a decorator with arguments, you usually define a decorator factory. This factory is a function that takes the decorator arguments and returns the actual decorator.\n",
    "\n",
    "2. **The Actual Decorator**: The decorator returned by the factory takes the function to be decorated as its argument and returns another function (often called a wrapper) which adds the new behavior.\n",
    "\n",
    "3. **Wrapper Function**: This inner function (the wrapper) adds the desired functionality both before and after the decorated function is called, and it has access to both the arguments of the decorator and the decorated function.\n",
    "\n",
    "Here is an example to illustrate a decorator with arguments:\n",
    "\n",
    "```python\n",
    "def repeat(times):\n",
    "    \"\"\"Decorator factory that takes an argument.\"\"\"\n",
    "    def decorator(func):\n",
    "        \"\"\"Actual decorator.\"\"\"\n",
    "        def wrapper(*args, **kwargs):\n",
    "            \"\"\"Wrapper function.\"\"\"\n",
    "            for _ in range(times):\n",
    "                result = func(*args, **kwargs)\n",
    "            return result\n",
    "        return wrapper\n",
    "    return decorator\n",
    "\n",
    "@repeat(times=3)\n",
    "def greet(name):\n",
    "    print(f\"Hello {name}!\")\n",
    "\n",
    "greet(\"Alice\")\n",
    "```\n",
    "\n",
    "In this example, `repeat` is a decorator factory that takes an argument `times`. It returns the `decorator`, which takes a function `func` and returns the `wrapper`. The `wrapper` repeats the function call `times` times. When you decorate `greet` with `@repeat(times=3)`, the `greet` function will be executed three times each time it is called.\n",
    "\n",
    "### First example"
   ]
  },
  {
   "cell_type": "code",
   "execution_count": 11,
   "metadata": {},
   "outputs": [
    {
     "name": "stdout",
     "output_type": "stream",
     "text": [
      "The result is:\n"
     ]
    },
    {
     "data": {
      "text/plain": [
       "11"
      ]
     },
     "execution_count": 11,
     "metadata": {},
     "output_type": "execute_result"
    }
   ],
   "source": [
    "def decorator(func):\n",
    "    def wrapped(*args, **kwargs):\n",
    "        print(\"The result is:\")\n",
    "        return func(*args, **kwargs)\n",
    "    return wrapped\n",
    "\n",
    "@decorator\n",
    "def adding(a, b):\n",
    "    return a + b\n",
    "    \n",
    "adding(5,6)"
   ]
  },
  {
   "cell_type": "markdown",
   "metadata": {},
   "source": [
    "### Practice 01"
   ]
  },
  {
   "cell_type": "code",
   "execution_count": 16,
   "metadata": {},
   "outputs": [
    {
     "name": "stdout",
     "output_type": "stream",
     "text": [
      "Hello Josh McDillan\n",
      "Nice to see you again!\n"
     ]
    },
    {
     "data": {
      "text/plain": [
       "'Josh McDillan'"
      ]
     },
     "execution_count": 16,
     "metadata": {},
     "output_type": "execute_result"
    }
   ],
   "source": [
    "def decorator(func):\n",
    "    def greetings(*args, **kwargs):\n",
    "        print(\"Hello\", end=' ')\n",
    "        result = func(*args, **kwargs)\n",
    "        print(result)\n",
    "        print(\"Nice to see you again!\")\n",
    "        return result\n",
    "    return greetings\n",
    "\n",
    "@decorator\n",
    "def full_name(name, surname):\n",
    "    return f\"{name} {surname}\"\n",
    "\n",
    "name01 = \"Josh\"\n",
    "surname01 = \"McDillan\"\n",
    "\n",
    "full_name(name01, surname01)\n"
   ]
  }
 ],
 "metadata": {
  "kernelspec": {
   "display_name": "Python 3",
   "language": "python",
   "name": "python3"
  },
  "language_info": {
   "codemirror_mode": {
    "name": "ipython",
    "version": 3
   },
   "file_extension": ".py",
   "mimetype": "text/x-python",
   "name": "python",
   "nbconvert_exporter": "python",
   "pygments_lexer": "ipython3",
   "version": "3.8.3"
  }
 },
 "nbformat": 4,
 "nbformat_minor": 4
}
