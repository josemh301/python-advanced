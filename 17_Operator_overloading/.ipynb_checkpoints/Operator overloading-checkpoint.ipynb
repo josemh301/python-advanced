{
 "cells": [
  {
   "cell_type": "markdown",
   "metadata": {},
   "source": [
    "# Operator overloading\n",
    "\n",
    "Operator overloading allows you to provide a specific implementation for built-in Python operators in your custom classes. This means you can redefine how operators like `+`, `-`, `*`, `/`, etc., behave when used with objects of your class.\n",
    "\n",
    "In Python, operator overloading is achieved by defining special methods in your class. These methods have names that start and end with double underscores (`__`), such as `__add__`, `__sub__`, `__mul__`, etc. Each of these methods corresponds to a specific operator.\n",
    "\n",
    "Here are some common operator overloading methods:\n",
    "\n",
    "- `__add__(self, other)`: Overloads the `+` operator.\n",
    "- `__sub__(self, other)`: Overloads the `-` operator.\n",
    "- `__mul__(self, other)`: Overloads the `*` operator.\n",
    "- `__truediv__(self, other)`: Overloads the `/` operator (for true division).\n",
    "- `__floordiv__(self, other)`: Overloads the `//` operator (for floor division).\n",
    "- `__mod__(self, other)`: Overloads the `%` operator.\n",
    "- `__pow__(self, other)`: Overloads the `**` operator (for power).\n",
    "- `__eq__(self, other)`: Overloads the `==` operator (equality).\n",
    "- `__lt__(self, other)`: Overloads the `<` operator (less than).\n",
    "- `__le__(self, other)`: Overloads the `<=` operator (less than or equal to).\n",
    "- `__gt__(self, other)`: Overloads the `>` operator (greater than).\n",
    "- `__ge__(self, other)`: Overloads the `>=` operator (greater than or equal to).\n",
    "\n",
    "For example, here's a simple class that overloads the `+` operator:\n",
    "\n",
    "```python\n",
    "class Point:\n",
    "    def __init__(self, x, y):\n",
    "        self.x = x\n",
    "        self.y = y\n",
    "\n",
    "    def __add__(self, other):\n",
    "        return Point(self.x + other.x, self.y + other.y)\n",
    "\n",
    "# Usage\n",
    "p1 = Point(1, 2)\n",
    "p2 = Point(3, 4)\n",
    "p3 = p1 + p2  # This will call the __add__ method\n",
    "```\n",
    "\n",
    "In this example, adding two `Point` objects using the `+` operator will result in a new `Point` object whose coordinates are the sum of the coordinates of the two points. This is made possible by the `__add__` method."
   ]
  },
  {
   "cell_type": "code",
   "execution_count": 2,
   "metadata": {},
   "outputs": [
    {
     "name": "stdout",
     "output_type": "stream",
     "text": [
      "5\n"
     ]
    }
   ],
   "source": [
    "#operator +\n",
    "a = 2\n",
    "b = 3\n",
    "\n",
    "print (a + b)"
   ]
  },
  {
   "cell_type": "code",
   "execution_count": 3,
   "metadata": {},
   "outputs": [
    {
     "name": "stdout",
     "output_type": "stream",
     "text": [
      "chasedinner\n"
     ]
    }
   ],
   "source": [
    "c = \"chase\"\n",
    "d = \"dinner\"\n",
    "\n",
    "print(c + d)"
   ]
  },
  {
   "cell_type": "code",
   "execution_count": 4,
   "metadata": {},
   "outputs": [
    {
     "name": "stdout",
     "output_type": "stream",
     "text": [
      "['One', 'Two', 'Three', 'Four']\n"
     ]
    }
   ],
   "source": [
    "e = [\"One\", \"Two\"]\n",
    "f = [\"Three\", \"Four\"]\n",
    "\n",
    "print(e + f)"
   ]
  },
  {
   "cell_type": "code",
   "execution_count": 6,
   "metadata": {},
   "outputs": [
    {
     "name": "stdout",
     "output_type": "stream",
     "text": [
      "HarryJohn\n"
     ]
    }
   ],
   "source": [
    "class Person:\n",
    "    def __init__(self, name):\n",
    "        self._name = name\n",
    "    \n",
    "    def __add__(self, other):\n",
    "        return self._name + other._name\n",
    "\n",
    "        \n",
    "person01 = Person(\"Harry\")\n",
    "person02 = Person(\"John\")\n",
    "\n",
    "print(person01 + person02)"
   ]
  }
 ],
 "metadata": {
  "kernelspec": {
   "display_name": "Python 3",
   "language": "python",
   "name": "python3"
  },
  "language_info": {
   "codemirror_mode": {
    "name": "ipython",
    "version": 3
   },
   "file_extension": ".py",
   "mimetype": "text/x-python",
   "name": "python",
   "nbconvert_exporter": "python",
   "pygments_lexer": "ipython3",
   "version": "3.8.3"
  }
 },
 "nbformat": 4,
 "nbformat_minor": 4
}
