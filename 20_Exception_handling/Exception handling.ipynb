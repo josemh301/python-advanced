{
 "cells": [
  {
   "cell_type": "markdown",
   "metadata": {},
   "source": [
    "# Exception handling\n",
    "\n",
    "Exception handling in Python is a powerful feature that allows a program to respond appropriately to different errors or exceptional situations that may arise during execution. In simpler terms, it's like having a safety net in your code to catch and manage any unexpected problems that occur, instead of letting the program crash.\n",
    "\n",
    "Here's how it works in Python:\n",
    "\n",
    "1. **Try Block**: You start by writing a `try` block. This is where you put the code that you think might cause an error. It's like saying, \"I'm going to try doing this, but it might not work.\"\n",
    "\n",
    "2. **Except Block**: After the `try` block, you have one or more `except` blocks. These blocks are there to handle specific errors. If an error occurs in the `try` block, Python looks for a matching `except` block to handle it. It's like saying, \"If this specific problem happens, I'll deal with it in this way.\"\n",
    "\n",
    "3. **Else Block (Optional)**: You can also include an `else` block after the `except` blocks. The code inside the `else` block runs only if no errors were raised in the `try` block. It's like saying, \"If everything in the `try` block worked fine, then do this.\"\n",
    "\n",
    "4. **Finally Block (Optional)**: Finally, you can have a `finally` block. The code inside the `finally` block runs no matter what - whether an error occurred or not. It's typically used for cleaning up resources, like closing files or network connections. It's like saying, \"No matter what happens, always do this at the end.\"\n",
    "\n",
    "Here's a basic example:\n",
    "\n",
    "```python\n",
    "try:\n",
    "    # Try to do something that might cause an error\n",
    "    result = 10 / 0\n",
    "except ZeroDivisionError:\n",
    "    # Handle a specific error (in this case, dividing by zero)\n",
    "    print(\"You can't divide by zero!\")\n",
    "else:\n",
    "    # If no error occurs\n",
    "    print(\"Division successful!\")\n",
    "finally:\n",
    "    # Always runs\n",
    "    print(\"This always executes, error or no error.\")\n",
    "```\n",
    "\n",
    "In this example, the `10 / 0` will cause a `ZeroDivisionError`, so the `except` block will be executed, printing \"You can't divide by zero!\" and then the `finally` block will be executed, printing \"This always executes, error or no error.\""
   ]
  },
  {
   "cell_type": "code",
   "execution_count": 17,
   "metadata": {},
   "outputs": [
    {
     "name": "stdout",
     "output_type": "stream",
     "text": [
      "There is an error: unsupported operand type(s) for /: 'str' and 'int'\n",
      "None\n"
     ]
    }
   ],
   "source": [
    "result = None\n",
    "a = \"10\"\n",
    "b = 0\n",
    "\n",
    "try:\n",
    "    result = a / b\n",
    "except Exception as e: #Exception will catch any error\n",
    "    print(\"There is an error:\", e)\n",
    "    \n",
    "print(result)"
   ]
  },
  {
   "cell_type": "code",
   "execution_count": 19,
   "metadata": {},
   "outputs": [
    {
     "name": "stdout",
     "output_type": "stream",
     "text": [
      "NAME 'C' IS NOT DEFINED \n",
      "There is an error: name 'c' is not defined\n",
      "None\n"
     ]
    }
   ],
   "source": [
    "a = 10\n",
    "b = c\n",
    "\n",
    "try:\n",
    "    result = a / c\n",
    "    \n",
    "except ZeroDivisionError as e: #Exception will catch any error\n",
    "    print(e.__str__().upper(), \"\\nThere is an error:\", e)\n",
    "\n",
    "except TypeError as e:\n",
    "    print(e.__str__().upper(), \"\\nThere is an error:\", e)\n",
    "\n",
    "except Exception as e: #this is the general one, so put it at the end\n",
    "    print(e.__str__().upper(), \"\\nThere is an error:\", e)\n",
    "    \n",
    "print(result)"
   ]
  },
  {
   "cell_type": "code",
   "execution_count": null,
   "metadata": {},
   "outputs": [],
   "source": [
    "#else and finally\n",
    "\n",
    "try:\n",
    "    a = int(input('First number: '))\n",
    "    b = int(input('Second number: '))\n",
    "    result = a // b\n",
    "\n",
    "except ZeroDivisionError as e:\n",
    "    print(f'ZeroDivisionError - An error occurred: {e}, {type(e)}')\n",
    "except TypeError as e:\n",
    "    print(f'TypeError - An error occurred: {e}, {type(e)}')\n",
    "except Exception as e:\n",
    "    print(f'Exception - An error occurred: {e}, {type(e)}')\n",
    "else: #if no exceptions happen\n",
    "    print(\"There were no exceptions. Good input.\")\n",
    "    print(f'Result: {result}')\n",
    "finally: #will always execute, no matter what\n",
    "    print('Continuing...')\n"
   ]
  },
  {
   "cell_type": "code",
   "execution_count": null,
   "metadata": {},
   "outputs": [],
   "source": [
    "%run Personalized_exception.ipynb"
   ]
  },
  {
   "cell_type": "code",
   "execution_count": 32,
   "metadata": {},
   "outputs": [
    {
     "name": "stdout",
     "output_type": "stream",
     "text": [
      "First number: 9\n",
      "Second number: 9\n",
      "TypeError - An error occurred: __str__() missing 1 required positional argument: 'self', <class 'TypeError'>\n",
      "Continuing...\n"
     ]
    }
   ],
   "source": [
    "try:\n",
    "    a = int(input('First number: '))\n",
    "    b = int(input('Second number: '))\n",
    "    if a == b:\n",
    "        raise SameNumber.__str__()\n",
    "    result = a // b\n",
    "\n",
    "except ZeroDivisionError as e:\n",
    "    print(f'ZeroDivisionError - An error occurred: {e}, {type(e)}')\n",
    "except TypeError as e:\n",
    "    print(f'TypeError - An error occurred: {e}, {type(e)}')\n",
    "except Exception as e:\n",
    "    print(f'Exception - An error occurred: {e}, {type(e)}')\n",
    "else: #if no exceptions happen\n",
    "    print(\"There were no exceptions. Good input.\")\n",
    "    print(f'Result: {result}')\n",
    "finally: #will always execute, no matter what\n",
    "    print('Continuing...')"
   ]
  },
  {
   "cell_type": "code",
   "execution_count": null,
   "metadata": {},
   "outputs": [],
   "source": []
  }
 ],
 "metadata": {
  "kernelspec": {
   "display_name": "Python 3",
   "language": "python",
   "name": "python3"
  },
  "language_info": {
   "codemirror_mode": {
    "name": "ipython",
    "version": 3
   },
   "file_extension": ".py",
   "mimetype": "text/x-python",
   "name": "python",
   "nbconvert_exporter": "python",
   "pygments_lexer": "ipython3",
   "version": "3.8.3"
  }
 },
 "nbformat": 4,
 "nbformat_minor": 4
}
