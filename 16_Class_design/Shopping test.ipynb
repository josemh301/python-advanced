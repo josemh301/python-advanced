{
 "cells": [
  {
   "cell_type": "code",
   "execution_count": 9,
   "metadata": {},
   "outputs": [],
   "source": [
    "%run Order.ipynb"
   ]
  },
  {
   "cell_type": "code",
   "execution_count": 10,
   "metadata": {},
   "outputs": [
    {
     "name": "stdout",
     "output_type": "stream",
     "text": [
      "Order ID: 6574\n",
      "\n",
      "Products:\n",
      "Product: 70194 - Hat\n",
      "Price: 20 USD \n",
      "\n",
      "Product: 17635 - Wristband\n",
      "Price: 50 USD \n",
      "\n",
      "Product: 21934 - Gloves\n",
      "Price: 18 USD \n",
      "\n",
      "\n",
      "Total amount: 88 USD\n"
     ]
    }
   ],
   "source": [
    "if __name__ == \"__main__\":\n",
    "    products01 = [product04, product02, product08]\n",
    "    products02 = [product01, product03, product09]\n",
    "    order01 = Order(products01)\n",
    "    order02 = Order(products02)\n",
    "    print(order01)"
   ]
  },
  {
   "cell_type": "code",
   "execution_count": 11,
   "metadata": {},
   "outputs": [
    {
     "name": "stdout",
     "output_type": "stream",
     "text": [
      "Order ID: 3996\n",
      "\n",
      "Products:\n",
      "Product: 35269 - Socks\n",
      "Price: 15 USD \n",
      "\n",
      "Product: 71308 - T-Shirt\n",
      "Price: 30 USD \n",
      "\n",
      "Product: 13819 - Watch\n",
      "Price: 100 USD \n",
      "\n",
      "\n",
      "Total amount: 145 USD\n"
     ]
    }
   ],
   "source": [
    "print(order02)"
   ]
  },
  {
   "cell_type": "code",
   "execution_count": 12,
   "metadata": {},
   "outputs": [
    {
     "name": "stdout",
     "output_type": "stream",
     "text": [
      "Order ID: 3996\n",
      "\n",
      "Products:\n",
      "Product: 35269 - Socks\n",
      "Price: 15 USD \n",
      "\n",
      "Product: 71308 - T-Shirt\n",
      "Price: 30 USD \n",
      "\n",
      "Product: 13819 - Watch\n",
      "Price: 100 USD \n",
      "\n",
      "Product: 91556 - Sunglasses\n",
      "Price: 40 USD \n",
      "\n",
      "\n",
      "Total amount: 185 USD\n"
     ]
    }
   ],
   "source": [
    "order02.add_product(product05)\n",
    "print(order02)"
   ]
  },
  {
   "cell_type": "code",
   "execution_count": null,
   "metadata": {},
   "outputs": [],
   "source": []
  }
 ],
 "metadata": {
  "kernelspec": {
   "display_name": "Python 3",
   "language": "python",
   "name": "python3"
  },
  "language_info": {
   "codemirror_mode": {
    "name": "ipython",
    "version": 3
   },
   "file_extension": ".py",
   "mimetype": "text/x-python",
   "name": "python",
   "nbconvert_exporter": "python",
   "pygments_lexer": "ipython3",
   "version": "3.8.3"
  }
 },
 "nbformat": 4,
 "nbformat_minor": 4
}
