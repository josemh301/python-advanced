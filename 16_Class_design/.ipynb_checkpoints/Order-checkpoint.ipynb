{
 "cells": [
  {
   "cell_type": "code",
   "execution_count": 25,
   "metadata": {},
   "outputs": [
    {
     "name": "stdout",
     "output_type": "stream",
     "text": [
      "Product: 53302 - Shirt\n",
      "Price: 100 USD \n",
      "\n",
      "Product: 54724 - Jeans\n",
      "Price: 150 USD \n",
      "\n",
      "__main__\n"
     ]
    }
   ],
   "source": [
    "%run Product.ipynb"
   ]
  },
  {
   "cell_type": "code",
   "execution_count": 37,
   "metadata": {},
   "outputs": [],
   "source": [
    "#Order class\n",
    "\n",
    "class Order:\n",
    "\n",
    "    assigned_ids = set()\n",
    "\n",
    "    def __init__(self, products):\n",
    "        # Generate a unique random ID\n",
    "        unique_id = self._generate_unique_id()\n",
    "        self._id_order = unique_id\n",
    "        self._products = list(products)\n",
    "\n",
    "    def _generate_unique_id(self):\n",
    "        while True:\n",
    "            id_order = random.randint(1000, 9999)\n",
    "            if id_order not in Product.assigned_ids:\n",
    "                Product.assigned_ids.add(id_order)\n",
    "                return id_order\n",
    "            \n",
    "    def add_product(self, product):\n",
    "        self._products.append(product)\n",
    "        \n",
    "    def total_amount(self):\n",
    "        total = 0\n",
    "        for product in self._products:\n",
    "            total += product.price\n",
    "        return total\n",
    "    \n",
    "    def __str__(self):\n",
    "        products_str = \"\"\n",
    "        for product in self._products:\n",
    "            products_str += product.__str__() + \"\\n\"\n",
    "            \n",
    "        # Calculate the total amount using the total_amount method\n",
    "        total = self.total_amount()\n",
    "\n",
    "        # Append the total amount to the order string\n",
    "        return f\"Order ID: {self._id_order}\\n\\nProducts:\\n{products_str}\\nTotal amount: {total} USD\"\n",
    "        "
   ]
  },
  {
   "cell_type": "code",
   "execution_count": null,
   "metadata": {},
   "outputs": [],
   "source": []
  }
 ],
 "metadata": {
  "kernelspec": {
   "display_name": "Python 3",
   "language": "python",
   "name": "python3"
  },
  "language_info": {
   "codemirror_mode": {
    "name": "ipython",
    "version": 3
   },
   "file_extension": ".py",
   "mimetype": "text/x-python",
   "name": "python",
   "nbconvert_exporter": "python",
   "pygments_lexer": "ipython3",
   "version": "3.8.3"
  }
 },
 "nbformat": 4,
 "nbformat_minor": 4
}
