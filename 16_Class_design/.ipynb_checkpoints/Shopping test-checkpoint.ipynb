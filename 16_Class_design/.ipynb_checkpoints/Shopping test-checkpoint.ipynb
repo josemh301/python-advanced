{
 "cells": [
  {
   "cell_type": "code",
   "execution_count": 6,
   "metadata": {},
   "outputs": [],
   "source": [
    "%run Order.ipynb"
   ]
  },
  {
   "cell_type": "code",
   "execution_count": 7,
   "metadata": {},
   "outputs": [
    {
     "name": "stdout",
     "output_type": "stream",
     "text": [
      "Order ID: 4811\n",
      "\n",
      "Products:\n",
      "Product: 41985 - Hat\n",
      "Price: 20 USD\n",
      "Product: 73820 - Wristband\n",
      "Price: 50 USD\n",
      "Product: 52678 - Gloves\n",
      "Price: 18 USD\n",
      "\n",
      "Total amount: 88 USD\n"
     ]
    }
   ],
   "source": [
    "if __name__ == \"__main__\":\n",
    "    products01 = [product04, product02, product08]\n",
    "    products02 = [product01, product03, product09]\n",
    "    order01 = Order(products01)\n",
    "    order02 = Order(products02)\n",
    "    print(order01)"
   ]
  },
  {
   "cell_type": "code",
   "execution_count": 8,
   "metadata": {},
   "outputs": [
    {
     "name": "stdout",
     "output_type": "stream",
     "text": [
      "Order ID: 3297\n",
      "\n",
      "Products:\n",
      "Product: 64145 - Socks\n",
      "Price: 15 USD\n",
      "Product: 43190 - T-Shirt\n",
      "Price: 30 USD\n",
      "Product: 17203 - Watch\n",
      "Price: 100 USD\n",
      "\n",
      "Total amount: 145 USD\n"
     ]
    }
   ],
   "source": [
    "print(order02)"
   ]
  },
  {
   "cell_type": "code",
   "execution_count": null,
   "metadata": {},
   "outputs": [],
   "source": []
  }
 ],
 "metadata": {
  "kernelspec": {
   "display_name": "Python 3",
   "language": "python",
   "name": "python3"
  },
  "language_info": {
   "codemirror_mode": {
    "name": "ipython",
    "version": 3
   },
   "file_extension": ".py",
   "mimetype": "text/x-python",
   "name": "python",
   "nbconvert_exporter": "python",
   "pygments_lexer": "ipython3",
   "version": "3.8.3"
  }
 },
 "nbformat": 4,
 "nbformat_minor": 4
}
