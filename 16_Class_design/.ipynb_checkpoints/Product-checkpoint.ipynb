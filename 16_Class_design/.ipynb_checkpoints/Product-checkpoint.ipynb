{
 "cells": [
  {
   "cell_type": "code",
   "execution_count": 17,
   "metadata": {},
   "outputs": [],
   "source": [
    "import random\n",
    "\n",
    "class Product:\n",
    "    assigned_ids = set()\n",
    "\n",
    "    def __init__(self, name, price):\n",
    "        # Generate a unique random ID\n",
    "        unique_id = self._generate_unique_id()\n",
    "        self._id_product = unique_id\n",
    "        self._name = name\n",
    "        self._price = price\n",
    "\n",
    "    def _generate_unique_id(self):\n",
    "        while True:\n",
    "            id_product = random.randint(10000, 99999)\n",
    "            if id_product not in Product.assigned_ids:\n",
    "                Product.assigned_ids.add(id_product)\n",
    "                return id_product\n",
    "        \n",
    "    @property\n",
    "    def id_product(self):\n",
    "        return self._id_product\n",
    "    \n",
    "    # no set method needed for ID\n",
    "    \n",
    "    @property\n",
    "    def name(self):\n",
    "        return self._name\n",
    "        \n",
    "    @name.setter\n",
    "    def name(self, name):\n",
    "        self._name = name\n",
    "            \n",
    "    @property\n",
    "    def price(self):\n",
    "        return self._price\n",
    "        \n",
    "    @price.setter\n",
    "    def price(self, price):\n",
    "        self._price = price\n",
    "        \n",
    "    def __str__(self):\n",
    "        return f\"Product: {self._id_product} - {self._name}\\nPrice: {self._price} USD \\n\""
   ]
  },
  {
   "cell_type": "code",
   "execution_count": 18,
   "metadata": {},
   "outputs": [],
   "source": [
    "product01 = Product(\"Socks\", 15)\n",
    "product02 = Product(\"Wristband\", 50)\n",
    "product03 = Product(\"T-Shirt\", 30)\n",
    "product04 = Product(\"Hat\", 20)\n",
    "product05 = Product(\"Sunglasses\", 40)\n",
    "product06 = Product(\"Scarf\", 25)\n",
    "product07 = Product(\"Belt\", 35)\n",
    "product08 = Product(\"Gloves\", 18)\n",
    "product09 = Product(\"Watch\", 100)\n",
    "product10 = Product(\"Backpack\", 60)"
   ]
  },
  {
   "cell_type": "code",
   "execution_count": null,
   "metadata": {},
   "outputs": [],
   "source": []
  }
 ],
 "metadata": {
  "kernelspec": {
   "display_name": "Python 3",
   "language": "python",
   "name": "python3"
  },
  "language_info": {
   "codemirror_mode": {
    "name": "ipython",
    "version": 3
   },
   "file_extension": ".py",
   "mimetype": "text/x-python",
   "name": "python",
   "nbconvert_exporter": "python",
   "pygments_lexer": "ipython3",
   "version": "3.8.3"
  }
 },
 "nbformat": 4,
 "nbformat_minor": 4
}
