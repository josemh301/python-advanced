{
 "cells": [
  {
   "cell_type": "code",
   "execution_count": 17,
   "metadata": {},
   "outputs": [
    {
     "name": "stdout",
     "output_type": "stream",
     "text": [
      "Connected to the database successfully!\n"
     ]
    }
   ],
   "source": [
    "import psycopg2 as db\n",
    "\n",
    "# Replace these variables with your own connection parameters\n",
    "host = \"127.0.0.1\"  # e.g., \"localhost\" or an IP address\n",
    "dbname = \"test_db\"\n",
    "user = \"postgres\"\n",
    "password = \"admin\"\n",
    "port = \"5432\"\n",
    "\n",
    "# Establish a connection to the database\n",
    "try:\n",
    "    conn = db.connect(\n",
    "        host=host,\n",
    "        dbname=dbname,\n",
    "        user=user,\n",
    "        password=password\n",
    "    )\n",
    "    print(\"Connected to the database successfully!\")\n",
    "except Exception as e:\n",
    "    print(\"Unable to connect to the database:\")\n",
    "    print(e)"
   ]
  },
  {
   "cell_type": "code",
   "execution_count": 18,
   "metadata": {},
   "outputs": [],
   "source": [
    "# One transaction:\n",
    "\n",
    "# try:\n",
    "#     #check transactions\n",
    "#     conn.autocommit = False #if = True, omit line 8: conn.commit(), FALSE is the common one\n",
    "#     cursor = conn.cursor()\n",
    "#     sentence = 'INSERT INTO person(name, surname, email) VALUES(%s, %s, %s)' \n",
    "#     values = ('Mary', 'Shelly', 'mshelly@outlook.com')\n",
    "#     cursor.execute(sentence, values)\n",
    "#     conn.commit()\n",
    "#     print(\"Transaction finished!\")\n",
    "# except Exception as e:\n",
    "#     conn.rollback()\n",
    "#     print(\"Error. Rollback happened.\", e)\n",
    "\n",
    "# #always needed:\n",
    "# finally:\n",
    "#      conn.close()"
   ]
  },
  {
   "cell_type": "code",
   "execution_count": 19,
   "metadata": {},
   "outputs": [],
   "source": [
    "#Several transactions:\n",
    "\n",
    "# try:\n",
    "#     #check transactions\n",
    "#     conn.autocommit = False #if = True, omit line 8: conn.commit(), FALSE is the common one\n",
    "    \n",
    "#     cursor = conn.cursor()\n",
    "#     sentence = 'INSERT INTO person(name, surname, email) VALUES(%s, %s, %s)' \n",
    "#     values = ('Charlie', 'chelly', 'cchelly@outlook.com')\n",
    "#     cursor.execute(sentence, values)\n",
    "    \n",
    "#     sentence = 'UPDATE person SET name=%s, surname=%s, email=%s WHERE id_person = %s'\n",
    "#     values = (\"Joseph\", \"Dillan\", \"jdillan@gmail.com\", 25)\n",
    "#     cursor.execute(sentence, values)    \n",
    "    \n",
    "#     conn.commit()\n",
    "    \n",
    "#     print(\"Transaction finished! Commited!\")\n",
    "# except Exception as e:\n",
    "#     conn.rollback()\n",
    "#     print(\"Error. Rollback happened.\", e)\n",
    "\n",
    "# #always needed:\n",
    "# finally:\n",
    "#      conn.close()"
   ]
  },
  {
   "cell_type": "code",
   "execution_count": 20,
   "metadata": {},
   "outputs": [
    {
     "name": "stdout",
     "output_type": "stream",
     "text": [
      "Transaction finished! Commited!\n"
     ]
    }
   ],
   "source": [
    "#same as above\n",
    "\n",
    "try:\n",
    "    with conn:\n",
    "        with conn.cursor() as cursor:\n",
    "            conn.autocommit = False #if = True, omit line 8: conn.commit(), FALSE is the common one\n",
    "\n",
    "            cursor = conn.cursor()\n",
    "            sentence = 'INSERT INTO person(name, surname, email) VALUES(%s, %s, %s)' \n",
    "            values = ('Mandi', 'Marlion', 'mmarlion@yahoo.com')\n",
    "            cursor.execute(sentence, values)\n",
    "\n",
    "            sentence = 'UPDATE person SET name=%s, surname=%s, email=%s WHERE id_person = %s'\n",
    "            values = (\"Josephine\", \"Dillan\", \"jdillan@gmail.com\", 25)\n",
    "            cursor.execute(sentence, values)    \n",
    "            \n",
    "except Exception as e:\n",
    "    # conn.rollback() will be done automatically due to with\n",
    "    print(\"Error. Rollback happened.\", e)\n",
    "\n",
    "#always needed:\n",
    "finally:\n",
    "    conn.close()\n",
    "    print(\"Transaction finished! Commited!\")"
   ]
  },
  {
   "cell_type": "code",
   "execution_count": null,
   "metadata": {},
   "outputs": [],
   "source": []
  }
 ],
 "metadata": {
  "kernelspec": {
   "display_name": "Python 3",
   "language": "python",
   "name": "python3"
  },
  "language_info": {
   "codemirror_mode": {
    "name": "ipython",
    "version": 3
   },
   "file_extension": ".py",
   "mimetype": "text/x-python",
   "name": "python",
   "nbconvert_exporter": "python",
   "pygments_lexer": "ipython3",
   "version": "3.8.3"
  }
 },
 "nbformat": 4,
 "nbformat_minor": 4
}
