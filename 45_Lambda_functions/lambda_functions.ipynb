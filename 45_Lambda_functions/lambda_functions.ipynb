{
 "cells": [
  {
   "cell_type": "markdown",
   "metadata": {},
   "source": [
    "# 45_01 Lambda functions\n",
    "\n",
    "Lambda functions in Python, also known as \"anonymous functions,\" are small, one-line functions that are defined without a name. They are often used for short, simple functions that are convenient to define right where they are needed, typically for a single operation or to pass a simple function as an argument to higher-order functions like `map()`, `filter()`, or `sorted()`.\n",
    "\n",
    "Here are some key points about lambda functions:\n",
    "\n",
    "1. **Syntax**: The syntax of a lambda function is `lambda arguments: expression`. The `lambda` keyword is followed by one or more arguments, a colon, and then a single expression. There is no need for a `return` statement; the lambda automatically returns the result of the expression.\n",
    "\n",
    "2. **Single Expression**: Lambda functions are limited to a single expression. This means they can't contain multiple statements or annotations, and they lack the ability to include complex logic like loops or multiple `if` statements.\n",
    "\n",
    "3. **Use Cases**: They are typically used for small, concise tasks where defining a full function would be syntactic overkill. They are commonly used in places where a simple function is required for a short period of time, and you don't want to formally define a function.\n",
    "\n",
    "4. **Functional Programming**: Lambdas are often used in functional programming paradigms in Python, especially with functions like `map()`, `filter()`, and `reduce()`, where you can pass a lambda function as an argument.\n",
    "\n",
    "5. **Limitations**: Due to their one-line nature, lambda functions are not as versatile as regular functions. They are best suited for simple tasks, and their use for complex operations can lead to less readable code.\n",
    "\n",
    "### Example of a Lambda Function\n",
    "\n",
    "Here's a simple example of a lambda function in action:\n",
    "\n",
    "```python\n",
    "# A lambda function that adds two numbers\n",
    "add = lambda x, y: x + y\n",
    "\n",
    "# Use the lambda function\n",
    "result = add(5, 3)\n",
    "print(result)  # Outputs: 8\n",
    "```\n",
    "\n",
    "In this example, `add` is a lambda function that takes two arguments `x` and `y`, and returns their sum. The lambda function is assigned to the variable `add`, and it's used just like any other function."
   ]
  },
  {
   "cell_type": "code",
   "execution_count": 1,
   "metadata": {},
   "outputs": [],
   "source": [
    "#regular function\n",
    "\n",
    "#this is okay\n",
    "def addition(a, b):\n",
    "    return a + b"
   ]
  },
  {
   "cell_type": "code",
   "execution_count": null,
   "metadata": {},
   "outputs": [],
   "source": [
    "#regular function\n",
    "\n",
    "#this is not okay\n",
    "my_function = def addition(a, b):\n",
    "    return a + b\n",
    "\n",
    "my_function(3,5)"
   ]
  },
  {
   "cell_type": "code",
   "execution_count": 3,
   "metadata": {},
   "outputs": [
    {
     "data": {
      "text/plain": [
       "9"
      ]
     },
     "execution_count": 3,
     "metadata": {},
     "output_type": "execute_result"
    }
   ],
   "source": [
    "#lambda function\n",
    "\n",
    "lambda_function = lambda a,b: a + b #after the colon is like using 'return'\n",
    "\n",
    "lambda_function(3,6)"
   ]
  },
  {
   "cell_type": "code",
   "execution_count": 5,
   "metadata": {},
   "outputs": [
    {
     "data": {
      "text/plain": [
       "'Josh McDillan'"
      ]
     },
     "execution_count": 5,
     "metadata": {},
     "output_type": "execute_result"
    }
   ],
   "source": [
    "#practice 1\n",
    "\n",
    "full_name = lambda name, surname: f\"{name} {surname}\"\n",
    "\n",
    "full_name(\"Josh\",\"McDillan\")"
   ]
  },
  {
   "cell_type": "code",
   "execution_count": 7,
   "metadata": {},
   "outputs": [
    {
     "data": {
      "text/plain": [
       "'This is a lambda function with no arguments'"
      ]
     },
     "execution_count": 7,
     "metadata": {},
     "output_type": "execute_result"
    }
   ],
   "source": [
    "# lambda function with no arguments\n",
    "\n",
    "lambda_function = lambda:'This is a lambda function with no arguments'\n",
    "\n",
    "lambda_function()"
   ]
  },
  {
   "cell_type": "code",
   "execution_count": 18,
   "metadata": {},
   "outputs": [
    {
     "data": {
      "text/plain": [
       "11"
      ]
     },
     "execution_count": 18,
     "metadata": {},
     "output_type": "execute_result"
    }
   ],
   "source": [
    "#lambda function with default parameters\n",
    "\n",
    "lambda_function = lambda a, b=5: a + b\n",
    "\n",
    "lambda_function(4,7) #only needs the arguments not defined, but you can add the ones for the defined ones\n"
   ]
  },
  {
   "cell_type": "code",
   "execution_count": 21,
   "metadata": {},
   "outputs": [
    {
     "data": {
      "text/plain": [
       "'Dear Josh McDillan'"
      ]
     },
     "execution_count": 21,
     "metadata": {},
     "output_type": "execute_result"
    }
   ],
   "source": [
    "#practice 2\n",
    "\n",
    "full_name = lambda name, surname, dear=\"Dear\": f\"{dear} {name} {surname}\" \n",
    "#defined value must be the last argument\n",
    "\n",
    "full_name(\"Josh\",\"McDillan\")"
   ]
  },
  {
   "cell_type": "code",
   "execution_count": 23,
   "metadata": {},
   "outputs": [
    {
     "data": {
      "text/plain": [
       "5"
      ]
     },
     "execution_count": 23,
     "metadata": {},
     "output_type": "execute_result"
    }
   ],
   "source": [
    "# *args **kwargs\n",
    "\n",
    "lambda_function = lambda *args, **kwargs: len(args) + len(kwargs)\n",
    "\n",
    "lambda_function(1,2,3, a=5, b=6) # 5 elements in total"
   ]
  },
  {
   "cell_type": "code",
   "execution_count": 26,
   "metadata": {},
   "outputs": [
    {
     "data": {
      "text/plain": [
       "13"
      ]
     },
     "execution_count": 26,
     "metadata": {},
     "output_type": "execute_result"
    }
   ],
   "source": [
    "# lambda functions with arguments, variable arguments and defoult values\n",
    "\n",
    "lambda_function = lambda a, b, c=3, *args, **kwargs: a+b+c+(len(args)+len(kwargs))\n",
    "lambda_function(                                    1,2,4,   5,6,7,  e=5, f=7, g=90)"
   ]
  }
 ],
 "metadata": {
  "kernelspec": {
   "display_name": "Python 3",
   "language": "python",
   "name": "python3"
  },
  "language_info": {
   "codemirror_mode": {
    "name": "ipython",
    "version": 3
   },
   "file_extension": ".py",
   "mimetype": "text/x-python",
   "name": "python",
   "nbconvert_exporter": "python",
   "pygments_lexer": "ipython3",
   "version": "3.8.3"
  }
 },
 "nbformat": 4,
 "nbformat_minor": 4
}
