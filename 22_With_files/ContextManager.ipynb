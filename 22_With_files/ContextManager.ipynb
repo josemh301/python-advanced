{
 "cells": [
  {
   "cell_type": "code",
   "execution_count": 11,
   "metadata": {},
   "outputs": [],
   "source": [
    "def clean_n(string):\n",
    "    if string.endswith(\"\\n\"):\n",
    "        string = string[:-1]\n",
    "    return string"
   ]
  },
  {
   "cell_type": "code",
   "execution_count": 14,
   "metadata": {},
   "outputs": [
    {
     "name": "stdout",
     "output_type": "stream",
     "text": [
      "-------------------Using Enter--------------------\n",
      "The dog lives in France\n",
      "The cat lives in Finland\n",
      "The horse lived in Spain\n",
      "Whales live in the ocean\n",
      "--------------------Using Exit--------------------\n"
     ]
    }
   ],
   "source": [
    "# with so you don't use .close()\n",
    "\n",
    "\n",
    "#use our own class\n",
    "\n",
    "%run FileManagementClass.ipynb\n",
    "\n",
    "with FileManagement(\"animals.txt\") as file:\n",
    "    print(file.read())\n"
   ]
  },
  {
   "cell_type": "code",
   "execution_count": null,
   "metadata": {},
   "outputs": [],
   "source": [
    "with open(\"animals.txt\", \"r\", encoding=\"utf8\") as file:   \n",
    "    for line in file.readlines():\n",
    "        print(clean_n(line))"
   ]
  }
 ],
 "metadata": {
  "kernelspec": {
   "display_name": "Python 3",
   "language": "python",
   "name": "python3"
  },
  "language_info": {
   "codemirror_mode": {
    "name": "ipython",
    "version": 3
   },
   "file_extension": ".py",
   "mimetype": "text/x-python",
   "name": "python",
   "nbconvert_exporter": "python",
   "pygments_lexer": "ipython3",
   "version": "3.8.3"
  }
 },
 "nbformat": 4,
 "nbformat_minor": 4
}
