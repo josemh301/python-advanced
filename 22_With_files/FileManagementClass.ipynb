{
 "cells": [
  {
   "cell_type": "code",
   "execution_count": null,
   "metadata": {},
   "outputs": [],
   "source": [
    "class FileManagement:\n",
    "    def __init__(self, file_name):\n",
    "        self._file_name = file_name\n",
    "        \n",
    "    def __enter__(self):\n",
    "        print(\"Using Enter\".center(50, \"-\"))\n",
    "        self._file_name = open(self._file_name, \"r\", encoding=\"utf8\")\n",
    "        return self._file_name\n",
    "        \n",
    "    def __exit__(self, exception_type, exception_value, trace_back):\n",
    "        print(\"Using Exit\".center(50, \"-\"))\n",
    "        if self._file_name:\n",
    "            self._file_name.close()\n",
    "        \n",
    "    "
   ]
  }
 ],
 "metadata": {
  "kernelspec": {
   "display_name": "Python 3",
   "language": "python",
   "name": "python3"
  },
  "language_info": {
   "codemirror_mode": {
    "name": "ipython",
    "version": 3
   },
   "file_extension": ".py",
   "mimetype": "text/x-python",
   "name": "python",
   "nbconvert_exporter": "python",
   "pygments_lexer": "ipython3",
   "version": "3.8.3"
  }
 },
 "nbformat": 4,
 "nbformat_minor": 4
}
