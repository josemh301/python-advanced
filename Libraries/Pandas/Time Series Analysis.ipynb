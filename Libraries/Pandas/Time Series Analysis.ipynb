{
 "cells": [
  {
   "cell_type": "markdown",
   "metadata": {},
   "source": [
    "# Time Series Analysis in Python\n",
    "\n",
    "Welcome to your live training workspace! You can follow along as we go through an introduction to time series analysis in Python. To consult the solution, head over to the file browser and select `notebook-solution.ipynb`.\n",
    "\n",
    "\n",
    "This first cell imports some of the main packages we will be using, as well as sets the visualization theme we will be using."
   ]
  },
  {
   "cell_type": "code",
   "execution_count": 2,
   "metadata": {},
   "outputs": [],
   "source": [
    "import pandas as pd\n",
    "import numpy as np\n",
    "import plotly.express as px\n",
    "import plotly.graph_objects as go\n",
    "import plotly.io as pio\n",
    "from datetime import datetime\n",
    "\n",
    "# Set colors\n",
    "dc_colors = [\"#2B3A64\", \"#96aae3\", \"#C3681D\", \"#EFBD95\", \"#E73F74\", \"#80BA5A\", \"#E68310\", \"#008695\", \"#CF1C90\", \"#f97b72\", \"#4b4b8f\", \"#A5AA99\"]\n",
    "\n",
    "# Set template\n",
    "pio.templates[\"dc\"] = go.layout.Template(\n",
    "    layout=dict(\n",
    "    \tfont={\"family\": \"Poppins, Sans-serif\", \"color\": \"#505050\"},\n",
    "        title={\"font\": {\"family\": \"Poppins, Sans-serif\", \"color\": \"black\"}, \"yanchor\": \"top\", \"y\": 0.92, \"xanchor\": \"left\", \"x\": 0.025},\n",
    "    \tplot_bgcolor=\"white\",\n",
    "    \tpaper_bgcolor=\"white\",\n",
    "    \thoverlabel=dict(bgcolor=\"white\"),\n",
    "    \tmargin=dict(l=100, r=50, t=75, b=70),\n",
    "        colorway=dc_colors,\n",
    "        xaxis=dict(showgrid=False),\n",
    "        yaxis=dict(showgrid=True, \n",
    "                   gridwidth=0.1, \n",
    "                   gridcolor='lightgrey', \n",
    "                   showline=True,\n",
    "                   nticks=10,\n",
    "                   linewidth=1, \n",
    "                   linecolor='black', \n",
    "                   rangemode=\"tozero\")\n",
    "    )\n",
    ") "
   ]
  },
  {
   "cell_type": "code",
   "execution_count": null,
   "metadata": {},
   "outputs": [],
   "source": []
  }
 ],
 "metadata": {
  "kernelspec": {
   "display_name": "Python 3",
   "language": "python",
   "name": "python3"
  },
  "language_info": {
   "codemirror_mode": {
    "name": "ipython",
    "version": 3
   },
   "file_extension": ".py",
   "mimetype": "text/x-python",
   "name": "python",
   "nbconvert_exporter": "python",
   "pygments_lexer": "ipython3",
   "version": "3.8.3"
  }
 },
 "nbformat": 4,
 "nbformat_minor": 4
}
