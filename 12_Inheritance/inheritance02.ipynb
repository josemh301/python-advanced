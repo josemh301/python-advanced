{
 "cells": [
  {
   "cell_type": "code",
   "execution_count": 1,
   "metadata": {},
   "outputs": [],
   "source": [
    "%run inheritance.ipynb\n",
    "# from inheritance import *"
   ]
  },
  {
   "cell_type": "code",
   "execution_count": 2,
   "metadata": {},
   "outputs": [
    {
     "name": "stdout",
     "output_type": "stream",
     "text": [
      "Before adding __str__ to the Person class:\n",
      " Nail\n",
      "After adding __str__ to the Person class:\n",
      "Full name: Nail Castro\n",
      "Age: 23\n",
      "ID Card: 12312300\n",
      "\n"
     ]
    }
   ],
   "source": [
    "person01 = Person(\"Nail\", \"Castro\", 23, 12312300)\n",
    "\n",
    "print(f\"Before adding __str__ to the Person class:\\n {person01.name}\")\n",
    "print(f\"After adding __str__ to the Person class:\\n{person01}\") #same as print(person01.__str__())"
   ]
  },
  {
   "cell_type": "code",
   "execution_count": 3,
   "metadata": {},
   "outputs": [],
   "source": [
    "student01 = Student(\"John\", \"Doe\", 22, 12345678, \"Law\", 4, 8.97)"
   ]
  },
  {
   "cell_type": "code",
   "execution_count": 4,
   "metadata": {},
   "outputs": [
    {
     "name": "stdout",
     "output_type": "stream",
     "text": [
      "Full name: John Doe\n",
      "Age: 22\n",
      "ID Card: 12345678\n",
      "\n",
      "Student info:\n",
      "- Degree: Law\n",
      "- Year: 4\n",
      "- Average mark: 8.97\n"
     ]
    }
   ],
   "source": [
    "print(student01)"
   ]
  },
  {
   "cell_type": "code",
   "execution_count": 5,
   "metadata": {},
   "outputs": [
    {
     "name": "stdout",
     "output_type": "stream",
     "text": [
      "Full name: Johnathan DoMimo\n",
      "Age: 53\n",
      "ID Card: 78345678\n",
      "\n",
      "Teacher info:\n",
      "- Title: Spanish Lecturer\n",
      "- Salary: 125000\n",
      "\n"
     ]
    }
   ],
   "source": [
    "teacher01 = Teacher(\"Johnathan\", \"Mimmo\", 53, 78345678, \"Italian Lecturer\", 125000)\n",
    "print(teacher01)"
   ]
  }
 ],
 "metadata": {
  "kernelspec": {
   "display_name": "Python 3",
   "language": "python",
   "name": "python3"
  },
  "language_info": {
   "codemirror_mode": {
    "name": "ipython",
    "version": 3
   },
   "file_extension": ".py",
   "mimetype": "text/x-python",
   "name": "python",
   "nbconvert_exporter": "python",
   "pygments_lexer": "ipython3",
   "version": "3.8.3"
  }
 },
 "nbformat": 4,
 "nbformat_minor": 4
}
