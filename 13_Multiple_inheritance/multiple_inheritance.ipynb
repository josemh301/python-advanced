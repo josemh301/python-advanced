{
 "cells": [
  {
   "cell_type": "markdown",
   "metadata": {},
   "source": [
    "# 13_Multiple Inheritance\n",
    "\n",
    "A subclass inherits from two different parent classes\n",
    "\n",
    "See files:   \n",
    "- Geometric figure\n",
    "- Color\n",
    "\n",
    "### Practice"
   ]
  },
  {
   "cell_type": "code",
   "execution_count": 14,
   "metadata": {},
   "outputs": [],
   "source": [
    "%run GeometricFigure.ipynb\n",
    "%run Color.ipynb"
   ]
  },
  {
   "cell_type": "code",
   "execution_count": 15,
   "metadata": {},
   "outputs": [],
   "source": [
    "class Square(GeometricFigure, Color):\n",
    "    def __init__(self, side, color):\n",
    "        GeometricFigure.__init__(self, side, side)\n",
    "        Color.__init__(self, color)\n",
    "    \n",
    "    def calculate_area(self):\n",
    "        return self._width * self._height\n",
    "    \n",
    "    def __str__(self):\n",
    "        return f\"{GeometricFigure.__str__(self)} {Color.__str__(self)} The area is {self.calculate_area()}.\""
   ]
  },
  {
   "cell_type": "code",
   "execution_count": 17,
   "metadata": {},
   "outputs": [],
   "source": [
    "class Triangle(GeometricFigure, Color):\n",
    "    def __init__(self, width, height, color):\n",
    "        GeometricFigure.__init__(self, width, height)\n",
    "        Color.__init__(self, color)\n",
    "    \n",
    "    def calculate_area(self):\n",
    "        return (self._width * self._height) / 2\n",
    "    \n",
    "    def __str__(self):\n",
    "        return f\"{GeometricFigure.__str__(self)} {Color.__str__(self)} The area is {self.calculate_area()}.\""
   ]
  },
  {
   "cell_type": "code",
   "execution_count": 26,
   "metadata": {},
   "outputs": [],
   "source": [
    "import math\n",
    "\n",
    "class Circle(GeometricFigure, Color):\n",
    "    def __init__(self, diameter, color):\n",
    "        GeometricFigure.__init__(self, diameter, diameter)\n",
    "        Color.__init__(self, color)\n",
    "    \n",
    "    def calculate_area(self):\n",
    "        radius = self.width / 2\n",
    "        return math.pi * radius ** 2\n",
    "    \n",
    "    def __str__(self):\n",
    "        return f\"{GeometricFigure.__str__(self)} {Color.__str__(self)} The area is {self.calculate_area()}.\""
   ]
  }
 ],
 "metadata": {
  "kernelspec": {
   "display_name": "Python 3",
   "language": "python",
   "name": "python3"
  },
  "language_info": {
   "codemirror_mode": {
    "name": "ipython",
    "version": 3
   },
   "file_extension": ".py",
   "mimetype": "text/x-python",
   "name": "python",
   "nbconvert_exporter": "python",
   "pygments_lexer": "ipython3",
   "version": "3.8.3"
  }
 },
 "nbformat": 4,
 "nbformat_minor": 4
}
