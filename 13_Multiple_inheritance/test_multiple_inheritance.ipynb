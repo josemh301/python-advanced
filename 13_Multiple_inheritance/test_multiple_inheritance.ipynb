{
 "cells": [
  {
   "cell_type": "code",
   "execution_count": 6,
   "metadata": {},
   "outputs": [],
   "source": [
    "%run multiple_inheritance.ipynb"
   ]
  },
  {
   "cell_type": "code",
   "execution_count": 7,
   "metadata": {},
   "outputs": [
    {
     "name": "stdout",
     "output_type": "stream",
     "text": [
      "Your figure is width 20 x height 20. The color is green. The area is 400.\n",
      "Your figure is width 50 x height 10. The color is blue. The area is 250.0.\n",
      "Your figure is width 12 x height 12. The color is gray. The area is 113.09733552923255.\n"
     ]
    }
   ],
   "source": [
    "square01 = Square(20, \"Green\")\n",
    "print(square01)\n",
    "\n",
    "triangle01 = Triangle(50, 10, \"Blue\")\n",
    "print(triangle01)\n",
    "\n",
    "circle01 = Circle(12, \"Gray\")\n",
    "print(circle01)"
   ]
  },
  {
   "cell_type": "code",
   "execution_count": null,
   "metadata": {},
   "outputs": [],
   "source": []
  }
 ],
 "metadata": {
  "kernelspec": {
   "display_name": "Python 3",
   "language": "python",
   "name": "python3"
  },
  "language_info": {
   "codemirror_mode": {
    "name": "ipython",
    "version": 3
   },
   "file_extension": ".py",
   "mimetype": "text/x-python",
   "name": "python",
   "nbconvert_exporter": "python",
   "pygments_lexer": "ipython3",
   "version": "3.8.3"
  }
 },
 "nbformat": 4,
 "nbformat_minor": 4
}
