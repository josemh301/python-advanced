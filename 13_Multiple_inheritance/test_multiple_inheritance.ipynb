{
 "cells": [
  {
   "cell_type": "code",
   "execution_count": 45,
   "metadata": {},
   "outputs": [],
   "source": [
    "%run multiple_inheritance.ipynb"
   ]
  },
  {
   "cell_type": "code",
   "execution_count": 46,
   "metadata": {},
   "outputs": [
    {
     "name": "stdout",
     "output_type": "stream",
     "text": [
      "Your figure is width 20 x height 20. The color is green. The area is 400.\n",
      "Your figure is width 50 x height 10. The color is blue. The area is 250.0.\n",
      "Your figure is width 12 x height 12. The color is gray. The area is 113.09733552923255.\n"
     ]
    }
   ],
   "source": [
    "square01 = Square(20, \"Green\")\n",
    "print(square01)\n",
    "\n",
    "triangle01 = Triangle(50, 10, \"Blue\")\n",
    "print(triangle01)\n",
    "\n",
    "circle01 = Circle(12, \"Gray\")\n",
    "print(circle01)"
   ]
  },
  {
   "cell_type": "code",
   "execution_count": 47,
   "metadata": {},
   "outputs": [
    {
     "name": "stdout",
     "output_type": "stream",
     "text": [
      "Your figure is width 102 x height 102. The color is green. The area is 8171.282491987052.\n"
     ]
    }
   ],
   "source": [
    "circle02 = Circle(102, \"Green\")\n",
    "print(circle02)"
   ]
  },
  {
   "cell_type": "code",
   "execution_count": 48,
   "metadata": {},
   "outputs": [
    {
     "name": "stdout",
     "output_type": "stream",
     "text": [
      "Wrong width value\n",
      "Your figure is width 1 x height 10. The color is black. The area is 5.0.\n"
     ]
    }
   ],
   "source": [
    "#testing validations\n",
    "triangle02 = Triangle(-50, 10, 58.6)\n",
    "print(triangle02)"
   ]
  },
  {
   "cell_type": "code",
   "execution_count": 49,
   "metadata": {},
   "outputs": [
    {
     "name": "stdout",
     "output_type": "stream",
     "text": [
      "Wrong width value\n",
      "Wrong height value\n",
      "Your figure is width 1 x height 1. The color is blue. The area is 0.7853981633974483.\n"
     ]
    }
   ],
   "source": [
    "circle03 = Circle(-4, \"Blue\")\n",
    "print(circle03)"
   ]
  },
  {
   "cell_type": "code",
   "execution_count": 50,
   "metadata": {},
   "outputs": [
    {
     "name": "stdout",
     "output_type": "stream",
     "text": [
      "Wrong width value\n",
      "Wrong height value\n",
      "Your figure is width 1 x height 1. The color is black. The area is 1.\n"
     ]
    }
   ],
   "source": [
    "square01 = Square(-4, 1.25)\n",
    "print(square01)"
   ]
  },
  {
   "cell_type": "code",
   "execution_count": 51,
   "metadata": {},
   "outputs": [
    {
     "name": "stdout",
     "output_type": "stream",
     "text": [
      "Your figure is width 4 x height 4. The color is black. The area is 16.\n"
     ]
    }
   ],
   "source": [
    "square02 = Square(4, 1.05)\n",
    "print(square02)"
   ]
  },
  {
   "cell_type": "code",
   "execution_count": 54,
   "metadata": {},
   "outputs": [
    {
     "name": "stdout",
     "output_type": "stream",
     "text": [
      "Your figure is width 4 x height 4. Invalid color. The area is 16.\n"
     ]
    }
   ],
   "source": [
    "square03 = Square(4, \"Red\")\n",
    "square03.color = 23\n",
    "print(square03)"
   ]
  },
  {
   "cell_type": "code",
   "execution_count": 56,
   "metadata": {},
   "outputs": [
    {
     "name": "stdout",
     "output_type": "stream",
     "text": [
      "Your figure is width 4 x height 4. Invalid color. The area is 16.\n"
     ]
    }
   ],
   "source": [
    "square04 = Square(4, \"Red\")\n",
    "square04.color = 6\n",
    "print(square04)"
   ]
  },
  {
   "cell_type": "code",
   "execution_count": null,
   "metadata": {},
   "outputs": [],
   "source": []
  }
 ],
 "metadata": {
  "kernelspec": {
   "display_name": "Python 3",
   "language": "python",
   "name": "python3"
  },
  "language_info": {
   "codemirror_mode": {
    "name": "ipython",
    "version": 3
   },
   "file_extension": ".py",
   "mimetype": "text/x-python",
   "name": "python",
   "nbconvert_exporter": "python",
   "pygments_lexer": "ipython3",
   "version": "3.8.3"
  }
 },
 "nbformat": 4,
 "nbformat_minor": 4
}
