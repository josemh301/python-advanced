{
 "cells": [
  {
   "cell_type": "code",
   "execution_count": 21,
   "metadata": {},
   "outputs": [],
   "source": [
    "%run multiple_inheritance.ipynb"
   ]
  },
  {
   "cell_type": "code",
   "execution_count": 22,
   "metadata": {},
   "outputs": [
    {
     "name": "stdout",
     "output_type": "stream",
     "text": [
      "Your figure is width 20 x height 20. The color is green. The area is 400.\n",
      "Your figure is width 50 x height 10. The color is blue. The area is 250.0.\n",
      "Your figure is width 12 x height 12. The color is gray. The area is 113.09733552923255.\n"
     ]
    }
   ],
   "source": [
    "square01 = Square(20, \"Green\")\n",
    "print(square01)\n",
    "\n",
    "triangle01 = Triangle(50, 10, \"Blue\")\n",
    "print(triangle01)\n",
    "\n",
    "circle01 = Circle(12, \"Gray\")\n",
    "print(circle01)"
   ]
  },
  {
   "cell_type": "code",
   "execution_count": 23,
   "metadata": {},
   "outputs": [
    {
     "name": "stdout",
     "output_type": "stream",
     "text": [
      "Your figure is width 102 x height 102. The color is green. The area is 8171.282491987052.\n"
     ]
    }
   ],
   "source": [
    "circle02 = Circle(102, \"Green\")\n",
    "print(circle02)"
   ]
  },
  {
   "cell_type": "code",
   "execution_count": 24,
   "metadata": {},
   "outputs": [
    {
     "name": "stdout",
     "output_type": "stream",
     "text": [
      "Wrong width value\n",
      "Your figure is width 1 x height 10. The color is black. The area is 5.0.\n"
     ]
    }
   ],
   "source": [
    "#testing validations\n",
    "triangle02 = Triangle(-50, 10, 58.6)\n",
    "print(triangle02)"
   ]
  },
  {
   "cell_type": "code",
   "execution_count": 27,
   "metadata": {},
   "outputs": [
    {
     "name": "stdout",
     "output_type": "stream",
     "text": [
      "Wrong width value\n",
      "Wrong height value\n",
      "Your figure is width 1 x height 1. The color is blue. The area is 0.7853981633974483.\n"
     ]
    }
   ],
   "source": [
    "circle03 = Circle(-4, \"Blue\")\n",
    "print(circle03)"
   ]
  },
  {
   "cell_type": "code",
   "execution_count": null,
   "metadata": {},
   "outputs": [],
   "source": [
    "square01 = Square(-4, \"Blue\")\n",
    "print(circle10)"
   ]
  }
 ],
 "metadata": {
  "kernelspec": {
   "display_name": "Python 3",
   "language": "python",
   "name": "python3"
  },
  "language_info": {
   "codemirror_mode": {
    "name": "ipython",
    "version": 3
   },
   "file_extension": ".py",
   "mimetype": "text/x-python",
   "name": "python",
   "nbconvert_exporter": "python",
   "pygments_lexer": "ipython3",
   "version": "3.8.3"
  }
 },
 "nbformat": 4,
 "nbformat_minor": 4
}
