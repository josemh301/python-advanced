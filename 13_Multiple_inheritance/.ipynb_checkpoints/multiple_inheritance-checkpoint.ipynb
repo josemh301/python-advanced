{
 "cells": [
  {
   "cell_type": "markdown",
   "metadata": {},
   "source": [
    "# 13_Multiple Inheritance\n",
    "\n",
    "A subclass inherits from two different parent classes\n",
    "\n",
    "See files:   \n",
    "- Geometric figure\n",
    "- Color\n",
    "\n",
    "### Practice"
   ]
  },
  {
   "cell_type": "code",
   "execution_count": 8,
   "metadata": {},
   "outputs": [],
   "source": [
    "%run GeometricFigure.ipynb\n",
    "%run Color.ipynb"
   ]
  },
  {
   "cell_type": "code",
   "execution_count": 9,
   "metadata": {},
   "outputs": [],
   "source": [
    "class Square(GeometricFigure, Color):\n",
    "    def __init__(self, side, color):\n",
    "        GeometricFigure.__init__(self, side, side)\n",
    "        Color.__init__(self, color)\n",
    "    \n",
    "    def calculate_area(self):\n",
    "        return self._width * self._height\n",
    "    \n",
    "    def __str__(self):\n",
    "        return f\"{GeometricFigure.__str__(self)} {Color.__str__(self)} The area is {self.calculate_area()}.\""
   ]
  },
  {
   "cell_type": "code",
   "execution_count": 10,
   "metadata": {},
   "outputs": [
    {
     "name": "stdout",
     "output_type": "stream",
     "text": [
      "Your figure is width 12 x height 12. The color is blue. The area is 144\n"
     ]
    }
   ],
   "source": [
    "# square01 = Square(12,\"Blue\")\n",
    "# print(square01)"
   ]
  },
  {
   "cell_type": "code",
   "execution_count": 12,
   "metadata": {},
   "outputs": [],
   "source": [
    "class Triangle(GeometricFigure, Color):\n",
    "    def __init__(self, width, height, color):\n",
    "        GeometricFigure.__init__(self, width, height)\n",
    "        Color.__init__(self, color)\n",
    "    \n",
    "    def calculate_area(self):\n",
    "        return (self._width * self._height) / 2\n",
    "    \n",
    "    def __str__(self):\n",
    "        return f\"{GeometricFigure.__str__(self)} {Color.__str__(self)} The area is {self.calculate_area()}.\""
   ]
  },
  {
   "cell_type": "code",
   "execution_count": 13,
   "metadata": {},
   "outputs": [
    {
     "name": "stdout",
     "output_type": "stream",
     "text": [
      "Your figure is width 9 x height 11. The color is red. The area is 49.5.\n"
     ]
    }
   ],
   "source": [
    "# triangle01 = Triangle(9, 11, \"Red\")\n",
    "# print(triangle01)"
   ]
  },
  {
   "cell_type": "code",
   "execution_count": null,
   "metadata": {},
   "outputs": [],
   "source": []
  }
 ],
 "metadata": {
  "kernelspec": {
   "display_name": "Python 3",
   "language": "python",
   "name": "python3"
  },
  "language_info": {
   "codemirror_mode": {
    "name": "ipython",
    "version": 3
   },
   "file_extension": ".py",
   "mimetype": "text/x-python",
   "name": "python",
   "nbconvert_exporter": "python",
   "pygments_lexer": "ipython3",
   "version": "3.8.3"
  }
 },
 "nbformat": 4,
 "nbformat_minor": 4
}
