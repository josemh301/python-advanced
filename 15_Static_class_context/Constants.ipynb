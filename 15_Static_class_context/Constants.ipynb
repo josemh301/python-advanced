{
 "cells": [
  {
   "cell_type": "markdown",
   "metadata": {},
   "source": [
    "In Python, a **constant** is a type of variable whose value is not intended to be changed throughout the program. Python doesn't have built-in support for true constants like some other languages (e.g., `const` in JavaScript or `final` in Java), but it's a convention in Python to indicate that a variable should be treated as a constant by naming it in all uppercase letters.\n",
    "\n",
    "### Key Points About Constants in Python:\n",
    "\n",
    "1. **Convention**: Constants are usually defined at the top of a Python file and are named in all uppercase letters with underscores separating words. Example: `MAX_SIZE`, `PI`, `DEFAULT_TIMEOUT`.\n",
    "\n",
    "2. **Immutability**: While the convention is to not change constants, Python doesn't enforce this. The value of a \"constant\" can technically be changed, but it is against the conventions and can lead to bugs or unexpected behaviors.\n",
    "\n",
    "3. **Usage**: Constants are used when you have a value that you want to remain the same throughout your program, such as configuration settings or commonly used values.\n",
    "\n",
    "### Example:\n",
    "\n",
    "```python\n",
    "# Defining constants\n",
    "MAX_CLIENTS = 100\n",
    "SERVER_TIMEOUT = 30\n",
    "PI = 3.14159\n",
    "\n",
    "# Usage\n",
    "def calculate_area(radius):\n",
    "    return PI * radius * radius\n",
    "\n",
    "area = calculate_area(5)\n",
    "```\n",
    "\n",
    "In this example, `MAX_CLIENTS`, `SERVER_TIMEOUT`, and `PI` are constants. They are set at the beginning and should not be changed during the execution of the program. The use of uppercase letters is a signal to other programmers that these values are constants and should not be modified.\n",
    "\n",
    "### Note:\n",
    "\n",
    "- Python does not provide a built-in way to create true constants. The enforcement of a variable's constant nature is purely based on developer discipline and the conventions followed by the Python community.\n",
    "- If you require a structure that enforces immutability more strictly, you might use tuples or frozensets, but these are not constants per se; rather, they are immutable collections. The values inside these collections cannot be changed after creation."
   ]
  },
  {
   "cell_type": "code",
   "execution_count": null,
   "metadata": {},
   "outputs": [],
   "source": [
    "from math import pi\n",
    "\n",
    "PI = math.pi"
   ]
  }
 ],
 "metadata": {
  "kernelspec": {
   "display_name": "Python 3",
   "language": "python",
   "name": "python3"
  },
  "language_info": {
   "codemirror_mode": {
    "name": "ipython",
    "version": 3
   },
   "file_extension": ".py",
   "mimetype": "text/x-python",
   "name": "python",
   "nbconvert_exporter": "python",
   "pygments_lexer": "ipython3",
   "version": "3.8.3"
  }
 },
 "nbformat": 4,
 "nbformat_minor": 4
}
