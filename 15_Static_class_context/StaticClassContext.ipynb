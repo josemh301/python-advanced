{
 "cells": [
  {
   "cell_type": "markdown",
   "metadata": {},
   "source": [
    "# 15_Static Class Context\n",
    "\n",
    "In Python, there are two main types of contexts within a class:\n",
    "\n",
    "1. **Static Class Context**: This is the context in which class-level attributes (also known as class variables) and static methods are defined. These attributes and methods are associated with the class itself rather than any particular instance of the class. \n",
    "\n",
    "   - **Static Methods**: These are methods that don't require an instance of the class to be called. They do not receive an implicit first argument (like `self` for instance methods or `cls` for class methods). Static methods are defined using the `@staticmethod` decorator.\n",
    "   - **Class Variables**: These are variables that are shared across all instances of the class. They are not unique to each instance. Instead, if you change a class variable, it affects all instances of the class.\n",
    "   \n",
    "2. **Instance Context**: This is the context in which instance attributes (unique to each instance of the class) and regular methods (which operate on an instance of the class) are defined.\n",
    "\n",
    "Here's a simple example to illustrate the static class context in Python:\n",
    "\n",
    "```python\n",
    "class MyClass:\n",
    "    class_variable = 10  # A class variable\n",
    "\n",
    "    @staticmethod\n",
    "    def static_method():\n",
    "        return 'Hello from a static method'\n",
    "\n",
    "# Accessing class variable and static method without creating an instance\n",
    "print(MyClass.class_variable)           # Output: 10\n",
    "print(MyClass.static_method())          # Output: 'Hello from a static method'\n",
    "\n",
    "# Changing the class variable affects all instances\n",
    "MyClass.class_variable = 20\n",
    "print(MyClass.class_variable)           # Output: 20\n",
    "```\n",
    "\n",
    "In this example, `class_variable` and `static_method` are defined in the static class context. They belong to the class `MyClass` itself and can be accessed directly using the class name."
   ]
  },
  {
   "cell_type": "code",
   "execution_count": 6,
   "metadata": {},
   "outputs": [
    {
     "name": "stdout",
     "output_type": "stream",
     "text": [
      "10\n",
      "Printing... Red house\n",
      "10\n",
      "Printing new class variable: 2\n"
     ]
    }
   ],
   "source": [
    "class ClassOne:\n",
    "    #class variable outside __init__\n",
    "    #outside any method\n",
    "    class_variable = 10  # A class variable\n",
    "    \n",
    "    def __init__(self, variable):\n",
    "        self._variable = variable\n",
    "        \n",
    "    @property\n",
    "    def variable(self):\n",
    "        return self._variable\n",
    "    \n",
    "    @variable.setter\n",
    "    def variable(self, variable):\n",
    "        self._variable = variable\n",
    "        \n",
    "    def __str__(self):\n",
    "        return f\"Printing... {self._variable}\"\n",
    "        \n",
    "\n",
    "#     @staticmethod\n",
    "#     def static_method():\n",
    "#         return 'Hello from a static method'\n",
    "\n",
    "#access class variable\n",
    "print(ClassOne.class_variable)\n",
    "\n",
    "#access instance variable\n",
    "object01 = ClassOne(\"Red house\")\n",
    "print(object01)\n",
    "print(object01.class_variable) #accesing class variable from the object\n",
    "\n",
    "ClassOne.second_class_variable = 2\n",
    "object02 = ClassOne(\"Red house\")\n",
    "print(\"Printing new class variable:\", object01.second_class_variable)"
   ]
  },
  {
   "cell_type": "markdown",
   "metadata": {},
   "source": [
    "| Feature        | Static Methods                                                   | Class Methods                                                   | Class Variables                                                 |\n",
    "|----------------|------------------------------------------------------------------|-----------------------------------------------------------------|-----------------------------------------------------------------|\n",
    "| Definition     | Methods that do not require an instance of the class to be called. | Methods that receive the class itself as the first argument.    | Variables that are shared across all instances of the class.    |\n",
    "| Declaration    | Defined using the `@staticmethod` decorator.                      | Defined using the `@classmethod` decorator.                     | Declared outside any methods, typically at the top of the class.|\n",
    "| Access         | Can be called using the class name directly.                     | Can be called using the class name or through an instance.      | Accessed using the class name or through an instance of the class. |\n",
    "| Implicit Argument | Do not receive an implicit first argument (`self` or `cls`).    | Receive the class (`cls`) as the first implicit argument.       | Not applicable.                                                 |\n",
    "| Usage          | Used for functionality that is related to the class but does not require the class's instance state. | Used for factory methods, which must return an instance of the class, and for methods that affect the class state. | Used when a property needs to be shared across all instances of the class. |\n",
    "| Example        | `@staticmethod\\n def my_static_method():\\n    pass`             | `@classmethod\\n def my_class_method(cls):\\n    pass`            | `class_variable = 10`                                           |\n"
   ]
  },
  {
   "cell_type": "code",
   "execution_count": 7,
   "metadata": {},
   "outputs": [
    {
     "data": {
      "text/plain": [
       "'Hello from a static method. Printing class varible: 10'"
      ]
     },
     "execution_count": 7,
     "metadata": {},
     "output_type": "execute_result"
    }
   ],
   "source": [
    "'''\n",
    "static methods:\n",
    "- Don't receive information from the class\n",
    "- No direct information related to the class\n",
    "''' \n",
    "\n",
    "\n",
    "class ClassOne:\n",
    "    #class variable outside __init__\n",
    "    #outside any method\n",
    "    class_variable = 10  # A class variable\n",
    "    \n",
    "    def __init__(self, variable):\n",
    "        self._variable = variable\n",
    "        \n",
    "    @property\n",
    "    def variable(self):\n",
    "        return self._variable\n",
    "    \n",
    "    @variable.setter\n",
    "    def variable(self, variable):\n",
    "        self._variable = variable\n",
    "        \n",
    "    ## static methods\n",
    "    @staticmethod\n",
    "    def static_method(): #no self since self is for instance classes\n",
    "                         #self are created when creating objects, so class methods does not have self\n",
    "        # Cannot access self._variable\n",
    "        return f'Hello from a static method. Printing class varible: {ClassOne.class_variable}'\n",
    "    \n",
    "        \n",
    "    def __str__(self):\n",
    "        return f\"Printing... {self._variable}\"\n",
    "    \n",
    "ClassOne.static_method()"
   ]
  },
  {
   "cell_type": "code",
   "execution_count": 2,
   "metadata": {},
   "outputs": [
    {
     "name": "stdout",
     "output_type": "stream",
     "text": [
      "10\n"
     ]
    }
   ],
   "source": [
    "### class methods\n",
    "\n",
    "'''\n",
    "static methods:\n",
    "- Don't receive information from the class\n",
    "- No direct information related to the class\n",
    "''' \n",
    "\n",
    "class ClassTwo:\n",
    "        #class variable outside __init__\n",
    "    #outside any method\n",
    "    class_variable = 10  # A class variable\n",
    "    \n",
    "    def __init__(self, variable):\n",
    "        self._variable = variable\n",
    "        \n",
    "    @property\n",
    "    def variable(self):\n",
    "        return self._variable\n",
    "    \n",
    "    @variable.setter\n",
    "    def variable(self, variable):\n",
    "        self._variable = variable\n",
    "        \n",
    "    ## static methods\n",
    "    @classmethod\n",
    "    def class_method(cls):\n",
    "        print(cls.class_variable)    \n",
    "        \n",
    "    def __str__(self):\n",
    "        return f\"Printing... {self._variable}\"\n",
    "    \n",
    "ClassTwo.class_method()"
   ]
  },
  {
   "cell_type": "code",
   "execution_count": 4,
   "metadata": {},
   "outputs": [
    {
     "name": "stdout",
     "output_type": "stream",
     "text": [
      "10\n"
     ]
    }
   ],
   "source": [
    "object01 = ClassTwo(\"Instance variable\")\n",
    "object01.class_method()"
   ]
  },
  {
   "cell_type": "markdown",
   "metadata": {},
   "source": [
    "A real-world case where `@classmethod` is particularly useful is in creating factory methods. Factory methods are those that instantiate objects from a class in various ways. This concept is especially handy when you have a class that can be initialized in more than one way.\n",
    "\n",
    "### Example: User Account Creation\n",
    "\n",
    "Consider a scenario where you're building a system to manage user accounts in an application. A user account can be created in multiple ways: using an email address and password, using a social media account, or even from a guest account that converts to a regular account.\n",
    "\n",
    "Here's how you might use `@classmethod` for this:\n",
    "\n",
    "```python\n",
    "class User:\n",
    "    def __init__(self, email, password):\n",
    "        self.email = email\n",
    "        self.password = password\n",
    "\n",
    "    @classmethod\n",
    "    def from_social_media(cls, social_media_account):\n",
    "        email = social_media_account.email\n",
    "        password = social_media_account.generate_random_password()\n",
    "        return cls(email, password)\n",
    "\n",
    "    @classmethod\n",
    "    def from_guest(cls, guest_account):\n",
    "        email = guest_account.email\n",
    "        password = guest_account.create_password()\n",
    "        return cls(email, password)\n",
    "```\n",
    "\n",
    "In this example, we have a `User` class with:\n",
    "- The regular `__init__` method for creating a user with an email and password.\n",
    "- A `from_social_media` class method for creating a user from a social media account.\n",
    "- A `from_guest` class method for converting a guest account into a regular user.\n",
    "\n",
    "### Usage:\n",
    "\n",
    "1. **Creating a regular user:**\n",
    "   ```python\n",
    "   user1 = User(\"john@example.com\", \"johns_password\")\n",
    "   ```\n",
    "\n",
    "2. **Creating a user from a social media account:**\n",
    "   ```python\n",
    "   social_media_account = get_social_media_account()  # Assume this returns a social media account object\n",
    "   user2 = User.from_social_media(social_media_account)\n",
    "   ```\n",
    "\n",
    "3. **Converting a guest account into a regular user:**\n",
    "   ```python\n",
    "   guest_account = get_guest_account()  # Assume this returns a guest account object\n",
    "   user3 = User.from_guest(guest_account)\n",
    "   ```\n",
    "\n",
    "In each of these cases, the `User` class can be initialized in different ways, depending on the context. This makes the code more flexible and easier to manage. The `@classmethod` is crucial here because it allows these additional initialization methods to be part of the `User` class's definition, ensuring that all user creation logic is encapsulated within the `User` class."
   ]
  },
  {
   "cell_type": "code",
   "execution_count": null,
   "metadata": {},
   "outputs": [],
   "source": []
  }
 ],
 "metadata": {
  "kernelspec": {
   "display_name": "Python 3",
   "language": "python",
   "name": "python3"
  },
  "language_info": {
   "codemirror_mode": {
    "name": "ipython",
    "version": 3
   },
   "file_extension": ".py",
   "mimetype": "text/x-python",
   "name": "python",
   "nbconvert_exporter": "python",
   "pygments_lexer": "ipython3",
   "version": "3.8.3"
  }
 },
 "nbformat": 4,
 "nbformat_minor": 4
}
