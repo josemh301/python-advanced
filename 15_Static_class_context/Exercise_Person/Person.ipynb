{
 "cells": [
  {
   "cell_type": "code",
   "execution_count": 1,
   "metadata": {},
   "outputs": [],
   "source": [
    "class Person:\n",
    "    \n",
    "    counter = 0\n",
    "    \n",
    "    @classmethod\n",
    "    def generate_next_value(cls):\n",
    "        cls.counter += 1\n",
    "        return cls.counter\n",
    "    \n",
    "    def __init__(self, name, surname, age):\n",
    "        self._person_id = Person.generate_next_value()\n",
    "        self._name = name\n",
    "        self._surname = surname\n",
    "        self._age = age\n",
    "        \n",
    "    @property\n",
    "    def person_id(self):\n",
    "        return self._person_id\n",
    "    \n",
    "    #no setter method since changing an ID is not adviseable\n",
    "#     @person_id.setter\n",
    "#     def person_id(self, person_id):\n",
    "#         self._person_id = person_id\n",
    "        \n",
    "    @property\n",
    "    def name(self):\n",
    "        return self._name\n",
    "    \n",
    "    @name.setter\n",
    "    def name(self, name):\n",
    "        self._name = name\n",
    "        \n",
    "    @property \n",
    "    def surname(self):\n",
    "        return self._surname\n",
    "    \n",
    "    @surname.setter\n",
    "    def surname(self, surname):\n",
    "        self._surname = surname\n",
    "        \n",
    "    @property\n",
    "    def age(self):\n",
    "        return self._age\n",
    "    \n",
    "    @age.setter\n",
    "    def age(self, age):\n",
    "        self._age = age\n",
    "        \n",
    "    def __str__(self):\n",
    "        return f\"{self._person_id}) {self._name} {self._surname} is {self._age} years old\""
   ]
  },
  {
   "cell_type": "code",
   "execution_count": 2,
   "metadata": {},
   "outputs": [
    {
     "name": "stdout",
     "output_type": "stream",
     "text": [
      "1) Michael Smith is 3 years old\n"
     ]
    }
   ],
   "source": [
    "person01 = Person(\"Michael\", \"Smith\", 3)\n",
    "print(person01)"
   ]
  },
  {
   "cell_type": "code",
   "execution_count": 3,
   "metadata": {},
   "outputs": [
    {
     "name": "stdout",
     "output_type": "stream",
     "text": [
      "2) Michelle Marcusian is 33 years old\n"
     ]
    }
   ],
   "source": [
    "person02 = Person(\"Michelle\", \"Marcusian\", 33)\n",
    "print(person02)"
   ]
  },
  {
   "cell_type": "code",
   "execution_count": 4,
   "metadata": {},
   "outputs": [
    {
     "name": "stdout",
     "output_type": "stream",
     "text": [
      "2\n"
     ]
    }
   ],
   "source": [
    "print(Person.counter)"
   ]
  },
  {
   "cell_type": "code",
   "execution_count": 5,
   "metadata": {},
   "outputs": [
    {
     "name": "stdout",
     "output_type": "stream",
     "text": [
      "3) Miriam Mashes is 13 years old\n"
     ]
    }
   ],
   "source": [
    "person03 = Person(\"Miriam\", \"Mashes\", 13)\n",
    "print(person03)"
   ]
  },
  {
   "cell_type": "code",
   "execution_count": 6,
   "metadata": {},
   "outputs": [
    {
     "name": "stdout",
     "output_type": "stream",
     "text": [
      "3\n"
     ]
    }
   ],
   "source": [
    "print(Person.counter)"
   ]
  },
  {
   "cell_type": "code",
   "execution_count": 7,
   "metadata": {},
   "outputs": [
    {
     "name": "stdout",
     "output_type": "stream",
     "text": [
      "4\n"
     ]
    }
   ],
   "source": [
    "Person.generate_next_value()\n",
    "print(Person.counter)"
   ]
  },
  {
   "cell_type": "code",
   "execution_count": null,
   "metadata": {},
   "outputs": [],
   "source": []
  }
 ],
 "metadata": {
  "kernelspec": {
   "display_name": "Python 3",
   "language": "python",
   "name": "python3"
  },
  "language_info": {
   "codemirror_mode": {
    "name": "ipython",
    "version": 3
   },
   "file_extension": ".py",
   "mimetype": "text/x-python",
   "name": "python",
   "nbconvert_exporter": "python",
   "pygments_lexer": "ipython3",
   "version": "3.8.3"
  }
 },
 "nbformat": 4,
 "nbformat_minor": 4
}
